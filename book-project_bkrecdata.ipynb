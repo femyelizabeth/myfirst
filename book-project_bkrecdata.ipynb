{
 "cells": [
  {
   "cell_type": "code",
   "execution_count": 1,
   "id": "2362f51a",
   "metadata": {
    "_cell_guid": "b1076dfc-b9ad-4769-8c92-a6c4dae69d19",
    "_uuid": "8f2839f25d086af736a60e9eeb907d3b93b6e0e5",
    "execution": {
     "iopub.execute_input": "2023-11-03T04:13:43.423322Z",
     "iopub.status.busy": "2023-11-03T04:13:43.422586Z",
     "iopub.status.idle": "2023-11-03T04:13:44.231453Z",
     "shell.execute_reply": "2023-11-03T04:13:44.230298Z"
    },
    "papermill": {
     "duration": 0.849756,
     "end_time": "2023-11-03T04:13:44.233898",
     "exception": false,
     "start_time": "2023-11-03T04:13:43.384142",
     "status": "completed"
    },
    "tags": []
   },
   "outputs": [
    {
     "name": "stdout",
     "output_type": "stream",
     "text": [
      "/kaggle/input/book-recommendation/Ratings.csv\n",
      "/kaggle/input/book-recommendation/Users.csv\n",
      "/kaggle/input/book-recommendation/Books.csv\n",
      "/kaggle/input/book-recommendation/recsys_taxonomy2.png\n"
     ]
    }
   ],
   "source": [
    "# This Python 3 environment comes with many helpful analytics libraries installed\n",
    "# It is defined by the kaggle/python Docker image: https://github.com/kaggle/docker-python\n",
    "# For example, here's several helpful packages to load\n",
    "\n",
    "import numpy as np # linear algebra\n",
    "import pandas as pd # data processing, CSV file I/O (e.g. pd.read_csv)\n",
    "\n",
    "# Input data files are available in the read-only \"../input/\" directory\n",
    "# For example, running this (by clicking run or pressing Shift+Enter) will list all files under the input directory\n",
    "\n",
    "import os\n",
    "for dirname, _, filenames in os.walk('/kaggle/input'):\n",
    "    for filename in filenames:\n",
    "        print(os.path.join(dirname, filename))\n",
    "\n",
    "# You can write up to 20GB to the current directory (/kaggle/working/) that gets preserved as output when you create a version using \"Save & Run All\" \n",
    "# You can also write temporary files to /kaggle/temp/, but they won't be saved outside of the current session"
   ]
  },
  {
   "cell_type": "code",
   "execution_count": 2,
   "id": "6109a678",
   "metadata": {
    "execution": {
     "iopub.execute_input": "2023-11-03T04:13:44.311357Z",
     "iopub.status.busy": "2023-11-03T04:13:44.310804Z",
     "iopub.status.idle": "2023-11-03T04:13:46.506320Z",
     "shell.execute_reply": "2023-11-03T04:13:46.505200Z"
    },
    "papermill": {
     "duration": 2.237232,
     "end_time": "2023-11-03T04:13:46.509322",
     "exception": false,
     "start_time": "2023-11-03T04:13:44.272090",
     "status": "completed"
    },
    "tags": []
   },
   "outputs": [],
   "source": [
    "import numpy as np\n",
    "import pandas as pd\n",
    "\n",
    "import matplotlib.pyplot as plt\n",
    "import seaborn as sns\n",
    "\n",
    "from scipy.sparse import csr_matrix\n",
    "from sklearn.neighbors import NearestNeighbors\n",
    "from sklearn.metrics.pairwise import cosine_similarity"
   ]
  },
  {
   "cell_type": "code",
   "execution_count": 3,
   "id": "1810df1f",
   "metadata": {
    "execution": {
     "iopub.execute_input": "2023-11-03T04:13:46.585334Z",
     "iopub.status.busy": "2023-11-03T04:13:46.584928Z",
     "iopub.status.idle": "2023-11-03T04:13:50.635722Z",
     "shell.execute_reply": "2023-11-03T04:13:50.634457Z"
    },
    "papermill": {
     "duration": 4.092513,
     "end_time": "2023-11-03T04:13:50.638768",
     "exception": false,
     "start_time": "2023-11-03T04:13:46.546255",
     "status": "completed"
    },
    "tags": []
   },
   "outputs": [],
   "source": [
    "books = pd.read_csv(\"/kaggle/input/book-recommendation/Books.csv\", sep=',', encoding='latin-1', on_bad_lines='skip', low_memory=False)\n",
    "\n",
    "ratings = pd.read_csv(\"/kaggle/input/book-recommendation/Ratings.csv\", sep=',', encoding='latin-1', on_bad_lines='skip', low_memory=False)\n",
    "\n",
    "# We will don't use this dataset\n",
    "users = pd.read_csv(\"/kaggle/input/book-recommendation/Users.csv\", sep=',', encoding='latin-1', on_bad_lines='skip', low_memory=False)"
   ]
  },
  {
   "cell_type": "code",
   "execution_count": 4,
   "id": "8a3dc92a",
   "metadata": {
    "execution": {
     "iopub.execute_input": "2023-11-03T04:13:50.716625Z",
     "iopub.status.busy": "2023-11-03T04:13:50.715471Z",
     "iopub.status.idle": "2023-11-03T04:13:50.743522Z",
     "shell.execute_reply": "2023-11-03T04:13:50.742399Z"
    },
    "papermill": {
     "duration": 0.069165,
     "end_time": "2023-11-03T04:13:50.746069",
     "exception": false,
     "start_time": "2023-11-03T04:13:50.676904",
     "status": "completed"
    },
    "tags": []
   },
   "outputs": [
    {
     "data": {
      "text/html": [
       "<div>\n",
       "<style scoped>\n",
       "    .dataframe tbody tr th:only-of-type {\n",
       "        vertical-align: middle;\n",
       "    }\n",
       "\n",
       "    .dataframe tbody tr th {\n",
       "        vertical-align: top;\n",
       "    }\n",
       "\n",
       "    .dataframe thead th {\n",
       "        text-align: right;\n",
       "    }\n",
       "</style>\n",
       "<table border=\"1\" class=\"dataframe\">\n",
       "  <thead>\n",
       "    <tr style=\"text-align: right;\">\n",
       "      <th></th>\n",
       "      <th>ISBN</th>\n",
       "      <th>Book-Title</th>\n",
       "      <th>Book-Author</th>\n",
       "      <th>Year-Of-Publication</th>\n",
       "      <th>Publisher</th>\n",
       "      <th>Image-URL-S</th>\n",
       "      <th>Image-URL-M</th>\n",
       "      <th>Image-URL-L</th>\n",
       "    </tr>\n",
       "  </thead>\n",
       "  <tbody>\n",
       "    <tr>\n",
       "      <th>0</th>\n",
       "      <td>0195153448</td>\n",
       "      <td>Classical Mythology</td>\n",
       "      <td>Mark P. O. Morford</td>\n",
       "      <td>2002</td>\n",
       "      <td>Oxford University Press</td>\n",
       "      <td>http://images.amazon.com/images/P/0195153448.0...</td>\n",
       "      <td>http://images.amazon.com/images/P/0195153448.0...</td>\n",
       "      <td>http://images.amazon.com/images/P/0195153448.0...</td>\n",
       "    </tr>\n",
       "    <tr>\n",
       "      <th>1</th>\n",
       "      <td>0002005018</td>\n",
       "      <td>Clara Callan</td>\n",
       "      <td>Richard Bruce Wright</td>\n",
       "      <td>2001</td>\n",
       "      <td>HarperFlamingo Canada</td>\n",
       "      <td>http://images.amazon.com/images/P/0002005018.0...</td>\n",
       "      <td>http://images.amazon.com/images/P/0002005018.0...</td>\n",
       "      <td>http://images.amazon.com/images/P/0002005018.0...</td>\n",
       "    </tr>\n",
       "    <tr>\n",
       "      <th>2</th>\n",
       "      <td>0060973129</td>\n",
       "      <td>Decision in Normandy</td>\n",
       "      <td>Carlo D'Este</td>\n",
       "      <td>1991</td>\n",
       "      <td>HarperPerennial</td>\n",
       "      <td>http://images.amazon.com/images/P/0060973129.0...</td>\n",
       "      <td>http://images.amazon.com/images/P/0060973129.0...</td>\n",
       "      <td>http://images.amazon.com/images/P/0060973129.0...</td>\n",
       "    </tr>\n",
       "    <tr>\n",
       "      <th>3</th>\n",
       "      <td>0374157065</td>\n",
       "      <td>Flu: The Story of the Great Influenza Pandemic...</td>\n",
       "      <td>Gina Bari Kolata</td>\n",
       "      <td>1999</td>\n",
       "      <td>Farrar Straus Giroux</td>\n",
       "      <td>http://images.amazon.com/images/P/0374157065.0...</td>\n",
       "      <td>http://images.amazon.com/images/P/0374157065.0...</td>\n",
       "      <td>http://images.amazon.com/images/P/0374157065.0...</td>\n",
       "    </tr>\n",
       "    <tr>\n",
       "      <th>4</th>\n",
       "      <td>0393045218</td>\n",
       "      <td>The Mummies of Urumchi</td>\n",
       "      <td>E. J. W. Barber</td>\n",
       "      <td>1999</td>\n",
       "      <td>W. W. Norton &amp;amp; Company</td>\n",
       "      <td>http://images.amazon.com/images/P/0393045218.0...</td>\n",
       "      <td>http://images.amazon.com/images/P/0393045218.0...</td>\n",
       "      <td>http://images.amazon.com/images/P/0393045218.0...</td>\n",
       "    </tr>\n",
       "  </tbody>\n",
       "</table>\n",
       "</div>"
      ],
      "text/plain": [
       "         ISBN                                         Book-Title  \\\n",
       "0  0195153448                                Classical Mythology   \n",
       "1  0002005018                                       Clara Callan   \n",
       "2  0060973129                               Decision in Normandy   \n",
       "3  0374157065  Flu: The Story of the Great Influenza Pandemic...   \n",
       "4  0393045218                             The Mummies of Urumchi   \n",
       "\n",
       "            Book-Author Year-Of-Publication                   Publisher  \\\n",
       "0    Mark P. O. Morford                2002     Oxford University Press   \n",
       "1  Richard Bruce Wright                2001       HarperFlamingo Canada   \n",
       "2          Carlo D'Este                1991             HarperPerennial   \n",
       "3      Gina Bari Kolata                1999        Farrar Straus Giroux   \n",
       "4       E. J. W. Barber                1999  W. W. Norton &amp; Company   \n",
       "\n",
       "                                         Image-URL-S  \\\n",
       "0  http://images.amazon.com/images/P/0195153448.0...   \n",
       "1  http://images.amazon.com/images/P/0002005018.0...   \n",
       "2  http://images.amazon.com/images/P/0060973129.0...   \n",
       "3  http://images.amazon.com/images/P/0374157065.0...   \n",
       "4  http://images.amazon.com/images/P/0393045218.0...   \n",
       "\n",
       "                                         Image-URL-M  \\\n",
       "0  http://images.amazon.com/images/P/0195153448.0...   \n",
       "1  http://images.amazon.com/images/P/0002005018.0...   \n",
       "2  http://images.amazon.com/images/P/0060973129.0...   \n",
       "3  http://images.amazon.com/images/P/0374157065.0...   \n",
       "4  http://images.amazon.com/images/P/0393045218.0...   \n",
       "\n",
       "                                         Image-URL-L  \n",
       "0  http://images.amazon.com/images/P/0195153448.0...  \n",
       "1  http://images.amazon.com/images/P/0002005018.0...  \n",
       "2  http://images.amazon.com/images/P/0060973129.0...  \n",
       "3  http://images.amazon.com/images/P/0374157065.0...  \n",
       "4  http://images.amazon.com/images/P/0393045218.0...  "
      ]
     },
     "execution_count": 4,
     "metadata": {},
     "output_type": "execute_result"
    }
   ],
   "source": [
    "books.head()"
   ]
  },
  {
   "cell_type": "code",
   "execution_count": 5,
   "id": "e6d20c6d",
   "metadata": {
    "execution": {
     "iopub.execute_input": "2023-11-03T04:13:50.884579Z",
     "iopub.status.busy": "2023-11-03T04:13:50.883462Z",
     "iopub.status.idle": "2023-11-03T04:13:51.016845Z",
     "shell.execute_reply": "2023-11-03T04:13:51.015369Z"
    },
    "papermill": {
     "duration": 0.174461,
     "end_time": "2023-11-03T04:13:51.019536",
     "exception": false,
     "start_time": "2023-11-03T04:13:50.845075",
     "status": "completed"
    },
    "tags": []
   },
   "outputs": [],
   "source": [
    "#Make lower case Book-Title\n",
    "books[\"Book-Title\"] = books[\"Book-Title\"].apply(func=lambda x: x.lower())"
   ]
  },
  {
   "cell_type": "code",
   "execution_count": 6,
   "id": "66e5e4b7",
   "metadata": {
    "execution": {
     "iopub.execute_input": "2023-11-03T04:13:51.099430Z",
     "iopub.status.busy": "2023-11-03T04:13:51.099023Z",
     "iopub.status.idle": "2023-11-03T04:13:51.115300Z",
     "shell.execute_reply": "2023-11-03T04:13:51.114071Z"
    },
    "papermill": {
     "duration": 0.060805,
     "end_time": "2023-11-03T04:13:51.117917",
     "exception": false,
     "start_time": "2023-11-03T04:13:51.057112",
     "status": "completed"
    },
    "tags": []
   },
   "outputs": [
    {
     "data": {
      "text/html": [
       "<div>\n",
       "<style scoped>\n",
       "    .dataframe tbody tr th:only-of-type {\n",
       "        vertical-align: middle;\n",
       "    }\n",
       "\n",
       "    .dataframe tbody tr th {\n",
       "        vertical-align: top;\n",
       "    }\n",
       "\n",
       "    .dataframe thead th {\n",
       "        text-align: right;\n",
       "    }\n",
       "</style>\n",
       "<table border=\"1\" class=\"dataframe\">\n",
       "  <thead>\n",
       "    <tr style=\"text-align: right;\">\n",
       "      <th></th>\n",
       "      <th>ISBN</th>\n",
       "      <th>Book-Title</th>\n",
       "      <th>Book-Author</th>\n",
       "      <th>Year-Of-Publication</th>\n",
       "      <th>Publisher</th>\n",
       "      <th>Image-URL-S</th>\n",
       "      <th>Image-URL-M</th>\n",
       "      <th>Image-URL-L</th>\n",
       "    </tr>\n",
       "  </thead>\n",
       "  <tbody>\n",
       "    <tr>\n",
       "      <th>0</th>\n",
       "      <td>0195153448</td>\n",
       "      <td>classical mythology</td>\n",
       "      <td>Mark P. O. Morford</td>\n",
       "      <td>2002</td>\n",
       "      <td>Oxford University Press</td>\n",
       "      <td>http://images.amazon.com/images/P/0195153448.0...</td>\n",
       "      <td>http://images.amazon.com/images/P/0195153448.0...</td>\n",
       "      <td>http://images.amazon.com/images/P/0195153448.0...</td>\n",
       "    </tr>\n",
       "    <tr>\n",
       "      <th>1</th>\n",
       "      <td>0002005018</td>\n",
       "      <td>clara callan</td>\n",
       "      <td>Richard Bruce Wright</td>\n",
       "      <td>2001</td>\n",
       "      <td>HarperFlamingo Canada</td>\n",
       "      <td>http://images.amazon.com/images/P/0002005018.0...</td>\n",
       "      <td>http://images.amazon.com/images/P/0002005018.0...</td>\n",
       "      <td>http://images.amazon.com/images/P/0002005018.0...</td>\n",
       "    </tr>\n",
       "    <tr>\n",
       "      <th>2</th>\n",
       "      <td>0060973129</td>\n",
       "      <td>decision in normandy</td>\n",
       "      <td>Carlo D'Este</td>\n",
       "      <td>1991</td>\n",
       "      <td>HarperPerennial</td>\n",
       "      <td>http://images.amazon.com/images/P/0060973129.0...</td>\n",
       "      <td>http://images.amazon.com/images/P/0060973129.0...</td>\n",
       "      <td>http://images.amazon.com/images/P/0060973129.0...</td>\n",
       "    </tr>\n",
       "    <tr>\n",
       "      <th>3</th>\n",
       "      <td>0374157065</td>\n",
       "      <td>flu: the story of the great influenza pandemic...</td>\n",
       "      <td>Gina Bari Kolata</td>\n",
       "      <td>1999</td>\n",
       "      <td>Farrar Straus Giroux</td>\n",
       "      <td>http://images.amazon.com/images/P/0374157065.0...</td>\n",
       "      <td>http://images.amazon.com/images/P/0374157065.0...</td>\n",
       "      <td>http://images.amazon.com/images/P/0374157065.0...</td>\n",
       "    </tr>\n",
       "    <tr>\n",
       "      <th>4</th>\n",
       "      <td>0393045218</td>\n",
       "      <td>the mummies of urumchi</td>\n",
       "      <td>E. J. W. Barber</td>\n",
       "      <td>1999</td>\n",
       "      <td>W. W. Norton &amp;amp; Company</td>\n",
       "      <td>http://images.amazon.com/images/P/0393045218.0...</td>\n",
       "      <td>http://images.amazon.com/images/P/0393045218.0...</td>\n",
       "      <td>http://images.amazon.com/images/P/0393045218.0...</td>\n",
       "    </tr>\n",
       "  </tbody>\n",
       "</table>\n",
       "</div>"
      ],
      "text/plain": [
       "         ISBN                                         Book-Title  \\\n",
       "0  0195153448                                classical mythology   \n",
       "1  0002005018                                       clara callan   \n",
       "2  0060973129                               decision in normandy   \n",
       "3  0374157065  flu: the story of the great influenza pandemic...   \n",
       "4  0393045218                             the mummies of urumchi   \n",
       "\n",
       "            Book-Author Year-Of-Publication                   Publisher  \\\n",
       "0    Mark P. O. Morford                2002     Oxford University Press   \n",
       "1  Richard Bruce Wright                2001       HarperFlamingo Canada   \n",
       "2          Carlo D'Este                1991             HarperPerennial   \n",
       "3      Gina Bari Kolata                1999        Farrar Straus Giroux   \n",
       "4       E. J. W. Barber                1999  W. W. Norton &amp; Company   \n",
       "\n",
       "                                         Image-URL-S  \\\n",
       "0  http://images.amazon.com/images/P/0195153448.0...   \n",
       "1  http://images.amazon.com/images/P/0002005018.0...   \n",
       "2  http://images.amazon.com/images/P/0060973129.0...   \n",
       "3  http://images.amazon.com/images/P/0374157065.0...   \n",
       "4  http://images.amazon.com/images/P/0393045218.0...   \n",
       "\n",
       "                                         Image-URL-M  \\\n",
       "0  http://images.amazon.com/images/P/0195153448.0...   \n",
       "1  http://images.amazon.com/images/P/0002005018.0...   \n",
       "2  http://images.amazon.com/images/P/0060973129.0...   \n",
       "3  http://images.amazon.com/images/P/0374157065.0...   \n",
       "4  http://images.amazon.com/images/P/0393045218.0...   \n",
       "\n",
       "                                         Image-URL-L  \n",
       "0  http://images.amazon.com/images/P/0195153448.0...  \n",
       "1  http://images.amazon.com/images/P/0002005018.0...  \n",
       "2  http://images.amazon.com/images/P/0060973129.0...  \n",
       "3  http://images.amazon.com/images/P/0374157065.0...  \n",
       "4  http://images.amazon.com/images/P/0393045218.0...  "
      ]
     },
     "execution_count": 6,
     "metadata": {},
     "output_type": "execute_result"
    }
   ],
   "source": [
    "books.head()"
   ]
  },
  {
   "cell_type": "code",
   "execution_count": 7,
   "id": "7313fb03",
   "metadata": {
    "execution": {
     "iopub.execute_input": "2023-11-03T04:13:51.196159Z",
     "iopub.status.busy": "2023-11-03T04:13:51.195704Z",
     "iopub.status.idle": "2023-11-03T04:13:51.206589Z",
     "shell.execute_reply": "2023-11-03T04:13:51.205464Z"
    },
    "papermill": {
     "duration": 0.052859,
     "end_time": "2023-11-03T04:13:51.209131",
     "exception": false,
     "start_time": "2023-11-03T04:13:51.156272",
     "status": "completed"
    },
    "tags": []
   },
   "outputs": [
    {
     "data": {
      "text/html": [
       "<div>\n",
       "<style scoped>\n",
       "    .dataframe tbody tr th:only-of-type {\n",
       "        vertical-align: middle;\n",
       "    }\n",
       "\n",
       "    .dataframe tbody tr th {\n",
       "        vertical-align: top;\n",
       "    }\n",
       "\n",
       "    .dataframe thead th {\n",
       "        text-align: right;\n",
       "    }\n",
       "</style>\n",
       "<table border=\"1\" class=\"dataframe\">\n",
       "  <thead>\n",
       "    <tr style=\"text-align: right;\">\n",
       "      <th></th>\n",
       "      <th>User-ID</th>\n",
       "      <th>ISBN</th>\n",
       "      <th>Book-Rating</th>\n",
       "    </tr>\n",
       "  </thead>\n",
       "  <tbody>\n",
       "    <tr>\n",
       "      <th>0</th>\n",
       "      <td>276725</td>\n",
       "      <td>034545104X</td>\n",
       "      <td>0</td>\n",
       "    </tr>\n",
       "    <tr>\n",
       "      <th>1</th>\n",
       "      <td>276726</td>\n",
       "      <td>0155061224</td>\n",
       "      <td>5</td>\n",
       "    </tr>\n",
       "    <tr>\n",
       "      <th>2</th>\n",
       "      <td>276727</td>\n",
       "      <td>0446520802</td>\n",
       "      <td>0</td>\n",
       "    </tr>\n",
       "    <tr>\n",
       "      <th>3</th>\n",
       "      <td>276729</td>\n",
       "      <td>052165615X</td>\n",
       "      <td>3</td>\n",
       "    </tr>\n",
       "    <tr>\n",
       "      <th>4</th>\n",
       "      <td>276729</td>\n",
       "      <td>0521795028</td>\n",
       "      <td>6</td>\n",
       "    </tr>\n",
       "  </tbody>\n",
       "</table>\n",
       "</div>"
      ],
      "text/plain": [
       "   User-ID        ISBN  Book-Rating\n",
       "0   276725  034545104X            0\n",
       "1   276726  0155061224            5\n",
       "2   276727  0446520802            0\n",
       "3   276729  052165615X            3\n",
       "4   276729  0521795028            6"
      ]
     },
     "execution_count": 7,
     "metadata": {},
     "output_type": "execute_result"
    }
   ],
   "source": [
    "ratings.head()"
   ]
  },
  {
   "cell_type": "code",
   "execution_count": 8,
   "id": "35d549d9",
   "metadata": {
    "execution": {
     "iopub.execute_input": "2023-11-03T04:13:51.288050Z",
     "iopub.status.busy": "2023-11-03T04:13:51.287235Z",
     "iopub.status.idle": "2023-11-03T04:13:51.299449Z",
     "shell.execute_reply": "2023-11-03T04:13:51.298313Z"
    },
    "papermill": {
     "duration": 0.054317,
     "end_time": "2023-11-03T04:13:51.302009",
     "exception": false,
     "start_time": "2023-11-03T04:13:51.247692",
     "status": "completed"
    },
    "tags": []
   },
   "outputs": [
    {
     "data": {
      "text/html": [
       "<div>\n",
       "<style scoped>\n",
       "    .dataframe tbody tr th:only-of-type {\n",
       "        vertical-align: middle;\n",
       "    }\n",
       "\n",
       "    .dataframe tbody tr th {\n",
       "        vertical-align: top;\n",
       "    }\n",
       "\n",
       "    .dataframe thead th {\n",
       "        text-align: right;\n",
       "    }\n",
       "</style>\n",
       "<table border=\"1\" class=\"dataframe\">\n",
       "  <thead>\n",
       "    <tr style=\"text-align: right;\">\n",
       "      <th></th>\n",
       "      <th>User-ID</th>\n",
       "      <th>Location</th>\n",
       "      <th>Age</th>\n",
       "    </tr>\n",
       "  </thead>\n",
       "  <tbody>\n",
       "    <tr>\n",
       "      <th>0</th>\n",
       "      <td>1</td>\n",
       "      <td>nyc, new york, usa</td>\n",
       "      <td>NaN</td>\n",
       "    </tr>\n",
       "    <tr>\n",
       "      <th>1</th>\n",
       "      <td>2</td>\n",
       "      <td>stockton, california, usa</td>\n",
       "      <td>18.0</td>\n",
       "    </tr>\n",
       "    <tr>\n",
       "      <th>2</th>\n",
       "      <td>3</td>\n",
       "      <td>moscow, yukon territory, russia</td>\n",
       "      <td>NaN</td>\n",
       "    </tr>\n",
       "    <tr>\n",
       "      <th>3</th>\n",
       "      <td>4</td>\n",
       "      <td>porto, v.n.gaia, portugal</td>\n",
       "      <td>17.0</td>\n",
       "    </tr>\n",
       "    <tr>\n",
       "      <th>4</th>\n",
       "      <td>5</td>\n",
       "      <td>farnborough, hants, united kingdom</td>\n",
       "      <td>NaN</td>\n",
       "    </tr>\n",
       "  </tbody>\n",
       "</table>\n",
       "</div>"
      ],
      "text/plain": [
       "   User-ID                            Location   Age\n",
       "0        1                  nyc, new york, usa   NaN\n",
       "1        2           stockton, california, usa  18.0\n",
       "2        3     moscow, yukon territory, russia   NaN\n",
       "3        4           porto, v.n.gaia, portugal  17.0\n",
       "4        5  farnborough, hants, united kingdom   NaN"
      ]
     },
     "execution_count": 8,
     "metadata": {},
     "output_type": "execute_result"
    }
   ],
   "source": [
    "users.head()"
   ]
  },
  {
   "cell_type": "code",
   "execution_count": 9,
   "id": "3961a799",
   "metadata": {
    "execution": {
     "iopub.execute_input": "2023-11-03T04:13:51.380980Z",
     "iopub.status.busy": "2023-11-03T04:13:51.380520Z",
     "iopub.status.idle": "2023-11-03T04:13:51.387351Z",
     "shell.execute_reply": "2023-11-03T04:13:51.386171Z"
    },
    "papermill": {
     "duration": 0.049311,
     "end_time": "2023-11-03T04:13:51.389721",
     "exception": false,
     "start_time": "2023-11-03T04:13:51.340410",
     "status": "completed"
    },
    "tags": []
   },
   "outputs": [
    {
     "name": "stdout",
     "output_type": "stream",
     "text": [
      "Index(['ISBN', 'Book-Title', 'Book-Author', 'Year-Of-Publication', 'Publisher',\n",
      "       'Image-URL-S', 'Image-URL-M', 'Image-URL-L'],\n",
      "      dtype='object')\n",
      "====================================================================================================\n",
      "Index(['User-ID', 'ISBN', 'Book-Rating'], dtype='object')\n",
      "====================================================================================================\n",
      "Index(['User-ID', 'Location', 'Age'], dtype='object')\n"
     ]
    }
   ],
   "source": [
    "print(books.columns)\n",
    "print(\"=\"*100)\n",
    "print(ratings.columns)\n",
    "print(\"=\"*100)\n",
    "print(users.columns)"
   ]
  },
  {
   "cell_type": "code",
   "execution_count": 10,
   "id": "c8739c20",
   "metadata": {
    "execution": {
     "iopub.execute_input": "2023-11-03T04:13:51.467178Z",
     "iopub.status.busy": "2023-11-03T04:13:51.466760Z",
     "iopub.status.idle": "2023-11-03T04:13:51.473032Z",
     "shell.execute_reply": "2023-11-03T04:13:51.471746Z"
    },
    "papermill": {
     "duration": 0.047821,
     "end_time": "2023-11-03T04:13:51.475368",
     "exception": false,
     "start_time": "2023-11-03T04:13:51.427547",
     "status": "completed"
    },
    "tags": []
   },
   "outputs": [
    {
     "name": "stdout",
     "output_type": "stream",
     "text": [
      "(271360, 8)\n",
      "(1149780, 3)\n",
      "(278858, 3)\n"
     ]
    }
   ],
   "source": [
    "print(books.shape)\n",
    "print(ratings.shape)\n",
    "print(users.shape)"
   ]
  },
  {
   "cell_type": "code",
   "execution_count": 11,
   "id": "b729ed83",
   "metadata": {
    "execution": {
     "iopub.execute_input": "2023-11-03T04:13:51.553216Z",
     "iopub.status.busy": "2023-11-03T04:13:51.552806Z",
     "iopub.status.idle": "2023-11-03T04:13:52.222144Z",
     "shell.execute_reply": "2023-11-03T04:13:52.220955Z"
    },
    "papermill": {
     "duration": 0.711442,
     "end_time": "2023-11-03T04:13:52.224548",
     "exception": false,
     "start_time": "2023-11-03T04:13:51.513106",
     "status": "completed"
    },
    "tags": []
   },
   "outputs": [
    {
     "data": {
      "text/plain": [
       "0"
      ]
     },
     "execution_count": 11,
     "metadata": {},
     "output_type": "execute_result"
    }
   ],
   "source": [
    "#Check duplicate values\n",
    "books.duplicated().sum()"
   ]
  },
  {
   "cell_type": "code",
   "execution_count": 12,
   "id": "3bf4ecd1",
   "metadata": {
    "execution": {
     "iopub.execute_input": "2023-11-03T04:13:52.303615Z",
     "iopub.status.busy": "2023-11-03T04:13:52.303144Z",
     "iopub.status.idle": "2023-11-03T04:13:52.673541Z",
     "shell.execute_reply": "2023-11-03T04:13:52.672651Z"
    },
    "papermill": {
     "duration": 0.412679,
     "end_time": "2023-11-03T04:13:52.675735",
     "exception": false,
     "start_time": "2023-11-03T04:13:52.263056",
     "status": "completed"
    },
    "tags": []
   },
   "outputs": [
    {
     "data": {
      "text/plain": [
       "0"
      ]
     },
     "execution_count": 12,
     "metadata": {},
     "output_type": "execute_result"
    }
   ],
   "source": [
    "ratings.duplicated().sum()"
   ]
  },
  {
   "cell_type": "code",
   "execution_count": 13,
   "id": "77c95dd8",
   "metadata": {
    "execution": {
     "iopub.execute_input": "2023-11-03T04:13:52.755545Z",
     "iopub.status.busy": "2023-11-03T04:13:52.754749Z",
     "iopub.status.idle": "2023-11-03T04:13:52.839151Z",
     "shell.execute_reply": "2023-11-03T04:13:52.838305Z"
    },
    "papermill": {
     "duration": 0.126666,
     "end_time": "2023-11-03T04:13:52.841495",
     "exception": false,
     "start_time": "2023-11-03T04:13:52.714829",
     "status": "completed"
    },
    "tags": []
   },
   "outputs": [
    {
     "data": {
      "text/plain": [
       "0"
      ]
     },
     "execution_count": 13,
     "metadata": {},
     "output_type": "execute_result"
    }
   ],
   "source": [
    "users.duplicated().sum()"
   ]
  },
  {
   "cell_type": "code",
   "execution_count": 14,
   "id": "6e5f16fc",
   "metadata": {
    "execution": {
     "iopub.execute_input": "2023-11-03T04:13:52.921116Z",
     "iopub.status.busy": "2023-11-03T04:13:52.920379Z",
     "iopub.status.idle": "2023-11-03T04:13:53.019865Z",
     "shell.execute_reply": "2023-11-03T04:13:53.018477Z"
    },
    "papermill": {
     "duration": 0.142343,
     "end_time": "2023-11-03T04:13:53.022582",
     "exception": false,
     "start_time": "2023-11-03T04:13:52.880239",
     "status": "completed"
    },
    "tags": []
   },
   "outputs": [
    {
     "name": "stdout",
     "output_type": "stream",
     "text": [
      "For ISBN column:  0\n",
      "For Book-Title column:  32396\n"
     ]
    }
   ],
   "source": [
    "#Check the duplicate value in particular columns\n",
    "# For books dataset\n",
    "\n",
    "print(\"For ISBN column: \", books['ISBN'].duplicated().sum())\n",
    "\n",
    "print(\"For Book-Title column: \", books['Book-Title'].duplicated().sum())"
   ]
  },
  {
   "cell_type": "code",
   "execution_count": 15,
   "id": "f8472101",
   "metadata": {
    "execution": {
     "iopub.execute_input": "2023-11-03T04:13:53.103172Z",
     "iopub.status.busy": "2023-11-03T04:13:53.102728Z",
     "iopub.status.idle": "2023-11-03T04:13:53.232292Z",
     "shell.execute_reply": "2023-11-03T04:13:53.230950Z"
    },
    "papermill": {
     "duration": 0.173659,
     "end_time": "2023-11-03T04:13:53.234899",
     "exception": false,
     "start_time": "2023-11-03T04:13:53.061240",
     "status": "completed"
    },
    "tags": []
   },
   "outputs": [
    {
     "name": "stdout",
     "output_type": "stream",
     "text": [
      "For ISBN column:  809224\n",
      "For User-Id column:  1044497\n"
     ]
    }
   ],
   "source": [
    "# For Ratings Dataset\n",
    "\n",
    "print(\"For ISBN column: \", ratings['ISBN'].duplicated().sum())\n",
    "\n",
    "print(\"For User-Id column: \", ratings['User-ID'].duplicated().sum())"
   ]
  },
  {
   "cell_type": "code",
   "execution_count": 16,
   "id": "19e2da53",
   "metadata": {
    "execution": {
     "iopub.execute_input": "2023-11-03T04:13:53.315086Z",
     "iopub.status.busy": "2023-11-03T04:13:53.314699Z",
     "iopub.status.idle": "2023-11-03T04:13:53.552399Z",
     "shell.execute_reply": "2023-11-03T04:13:53.551279Z"
    },
    "papermill": {
     "duration": 0.280356,
     "end_time": "2023-11-03T04:13:53.554996",
     "exception": false,
     "start_time": "2023-11-03T04:13:53.274640",
     "status": "completed"
    },
    "tags": []
   },
   "outputs": [
    {
     "data": {
      "text/plain": [
       "ISBN                   0\n",
       "Book-Title             0\n",
       "Book-Author            2\n",
       "Year-Of-Publication    0\n",
       "Publisher              2\n",
       "Image-URL-S            0\n",
       "Image-URL-M            0\n",
       "Image-URL-L            3\n",
       "dtype: int64"
      ]
     },
     "execution_count": 16,
     "metadata": {},
     "output_type": "execute_result"
    }
   ],
   "source": [
    "#Check null values\n",
    "books.isna().sum()"
   ]
  },
  {
   "cell_type": "code",
   "execution_count": 17,
   "id": "0a0e55ea",
   "metadata": {
    "execution": {
     "iopub.execute_input": "2023-11-03T04:13:53.635393Z",
     "iopub.status.busy": "2023-11-03T04:13:53.635018Z",
     "iopub.status.idle": "2023-11-03T04:13:53.674085Z",
     "shell.execute_reply": "2023-11-03T04:13:53.673066Z"
    },
    "papermill": {
     "duration": 0.082268,
     "end_time": "2023-11-03T04:13:53.676547",
     "exception": false,
     "start_time": "2023-11-03T04:13:53.594279",
     "status": "completed"
    },
    "tags": []
   },
   "outputs": [
    {
     "data": {
      "text/plain": [
       "Index([118033, 187689], dtype='int64')"
      ]
     },
     "execution_count": 17,
     "metadata": {},
     "output_type": "execute_result"
    }
   ],
   "source": [
    "#Check the null value very specifically\n",
    "books['Book-Author'][books['Book-Author'].isnull()].index"
   ]
  },
  {
   "cell_type": "code",
   "execution_count": 18,
   "id": "5e118233",
   "metadata": {
    "execution": {
     "iopub.execute_input": "2023-11-03T04:13:53.757221Z",
     "iopub.status.busy": "2023-11-03T04:13:53.756826Z",
     "iopub.status.idle": "2023-11-03T04:13:53.796010Z",
     "shell.execute_reply": "2023-11-03T04:13:53.795005Z"
    },
    "papermill": {
     "duration": 0.082506,
     "end_time": "2023-11-03T04:13:53.798207",
     "exception": false,
     "start_time": "2023-11-03T04:13:53.715701",
     "status": "completed"
    },
    "tags": []
   },
   "outputs": [
    {
     "data": {
      "text/plain": [
       "118033"
      ]
     },
     "execution_count": 18,
     "metadata": {},
     "output_type": "execute_result"
    }
   ],
   "source": [
    "books['Book-Author'][books['Book-Author'].isnull()].index[0]"
   ]
  },
  {
   "cell_type": "code",
   "execution_count": 19,
   "id": "f2d15ed9",
   "metadata": {
    "execution": {
     "iopub.execute_input": "2023-11-03T04:13:53.879962Z",
     "iopub.status.busy": "2023-11-03T04:13:53.879589Z",
     "iopub.status.idle": "2023-11-03T04:13:53.927832Z",
     "shell.execute_reply": "2023-11-03T04:13:53.926555Z"
    },
    "papermill": {
     "duration": 0.092773,
     "end_time": "2023-11-03T04:13:53.930317",
     "exception": false,
     "start_time": "2023-11-03T04:13:53.837544",
     "status": "completed"
    },
    "tags": []
   },
   "outputs": [
    {
     "data": {
      "text/html": [
       "<div>\n",
       "<style scoped>\n",
       "    .dataframe tbody tr th:only-of-type {\n",
       "        vertical-align: middle;\n",
       "    }\n",
       "\n",
       "    .dataframe tbody tr th {\n",
       "        vertical-align: top;\n",
       "    }\n",
       "\n",
       "    .dataframe thead th {\n",
       "        text-align: right;\n",
       "    }\n",
       "</style>\n",
       "<table border=\"1\" class=\"dataframe\">\n",
       "  <thead>\n",
       "    <tr style=\"text-align: right;\">\n",
       "      <th></th>\n",
       "      <th>ISBN</th>\n",
       "      <th>Book-Title</th>\n",
       "      <th>Book-Author</th>\n",
       "      <th>Year-Of-Publication</th>\n",
       "      <th>Publisher</th>\n",
       "      <th>Image-URL-S</th>\n",
       "      <th>Image-URL-M</th>\n",
       "      <th>Image-URL-L</th>\n",
       "    </tr>\n",
       "  </thead>\n",
       "  <tbody>\n",
       "    <tr>\n",
       "      <th>118033</th>\n",
       "      <td>0751352497</td>\n",
       "      <td>a+ quiz masters:01 earth</td>\n",
       "      <td>NaN</td>\n",
       "      <td>1999</td>\n",
       "      <td>Dorling Kindersley</td>\n",
       "      <td>http://images.amazon.com/images/P/0751352497.0...</td>\n",
       "      <td>http://images.amazon.com/images/P/0751352497.0...</td>\n",
       "      <td>http://images.amazon.com/images/P/0751352497.0...</td>\n",
       "    </tr>\n",
       "  </tbody>\n",
       "</table>\n",
       "</div>"
      ],
      "text/plain": [
       "              ISBN                Book-Title Book-Author Year-Of-Publication  \\\n",
       "118033  0751352497  a+ quiz masters:01 earth         NaN                1999   \n",
       "\n",
       "                 Publisher                                        Image-URL-S  \\\n",
       "118033  Dorling Kindersley  http://images.amazon.com/images/P/0751352497.0...   \n",
       "\n",
       "                                              Image-URL-M  \\\n",
       "118033  http://images.amazon.com/images/P/0751352497.0...   \n",
       "\n",
       "                                              Image-URL-L  \n",
       "118033  http://images.amazon.com/images/P/0751352497.0...  "
      ]
     },
     "execution_count": 19,
     "metadata": {},
     "output_type": "execute_result"
    }
   ],
   "source": [
    "index_num = books['Book-Author'][books['Book-Author'].isnull()].index[0]\n",
    "\n",
    "books.iloc[[index_num]]"
   ]
  },
  {
   "cell_type": "code",
   "execution_count": 20,
   "id": "4eb705b6",
   "metadata": {
    "execution": {
     "iopub.execute_input": "2023-11-03T04:13:54.011467Z",
     "iopub.status.busy": "2023-11-03T04:13:54.011011Z",
     "iopub.status.idle": "2023-11-03T04:13:54.018987Z",
     "shell.execute_reply": "2023-11-03T04:13:54.017853Z"
    },
    "papermill": {
     "duration": 0.051389,
     "end_time": "2023-11-03T04:13:54.021189",
     "exception": false,
     "start_time": "2023-11-03T04:13:53.969800",
     "status": "completed"
    },
    "tags": []
   },
   "outputs": [
    {
     "data": {
      "text/plain": [
       "'http://images.amazon.com/images/P/0195153448.01.LZZZZZZZ.jpg'"
      ]
     },
     "execution_count": 20,
     "metadata": {},
     "output_type": "execute_result"
    }
   ],
   "source": [
    "books.iloc[0, -1]"
   ]
  },
  {
   "cell_type": "code",
   "execution_count": 21,
   "id": "a3d227aa",
   "metadata": {
    "execution": {
     "iopub.execute_input": "2023-11-03T04:13:54.103732Z",
     "iopub.status.busy": "2023-11-03T04:13:54.103315Z",
     "iopub.status.idle": "2023-11-03T04:13:54.260981Z",
     "shell.execute_reply": "2023-11-03T04:13:54.259919Z"
    },
    "papermill": {
     "duration": 0.202434,
     "end_time": "2023-11-03T04:13:54.263405",
     "exception": false,
     "start_time": "2023-11-03T04:13:54.060971",
     "status": "completed"
    },
    "tags": []
   },
   "outputs": [
    {
     "data": {
      "text/plain": [
       "User-ID        0\n",
       "ISBN           0\n",
       "Book-Rating    0\n",
       "dtype: int64"
      ]
     },
     "execution_count": 21,
     "metadata": {},
     "output_type": "execute_result"
    }
   ],
   "source": [
    "ratings.isna().sum()"
   ]
  },
  {
   "cell_type": "code",
   "execution_count": 22,
   "id": "c711bdce",
   "metadata": {
    "execution": {
     "iopub.execute_input": "2023-11-03T04:13:54.345127Z",
     "iopub.status.busy": "2023-11-03T04:13:54.344701Z",
     "iopub.status.idle": "2023-11-03T04:13:54.362365Z",
     "shell.execute_reply": "2023-11-03T04:13:54.361327Z"
    },
    "papermill": {
     "duration": 0.061578,
     "end_time": "2023-11-03T04:13:54.365011",
     "exception": false,
     "start_time": "2023-11-03T04:13:54.303433",
     "status": "completed"
    },
    "tags": []
   },
   "outputs": [
    {
     "data": {
      "text/plain": [
       "105283"
      ]
     },
     "execution_count": 22,
     "metadata": {},
     "output_type": "execute_result"
    }
   ],
   "source": [
    "#check the number of unique user\n",
    "ratings['User-ID'].nunique()"
   ]
  },
  {
   "cell_type": "markdown",
   "id": "4546632a",
   "metadata": {
    "papermill": {
     "duration": 0.040335,
     "end_time": "2023-11-03T04:13:54.446819",
     "exception": false,
     "start_time": "2023-11-03T04:13:54.406484",
     "status": "completed"
    },
    "tags": []
   },
   "source": [
    "Visualization of Rating distribution"
   ]
  },
  {
   "cell_type": "code",
   "execution_count": 23,
   "id": "ae3def78",
   "metadata": {
    "execution": {
     "iopub.execute_input": "2023-11-03T04:13:54.529029Z",
     "iopub.status.busy": "2023-11-03T04:13:54.528631Z",
     "iopub.status.idle": "2023-11-03T04:13:54.925429Z",
     "shell.execute_reply": "2023-11-03T04:13:54.924591Z"
    },
    "papermill": {
     "duration": 0.440794,
     "end_time": "2023-11-03T04:13:54.927820",
     "exception": false,
     "start_time": "2023-11-03T04:13:54.487026",
     "status": "completed"
    },
    "tags": []
   },
   "outputs": [
    {
     "data": {
      "image/png": "[encoded data removed]",
      "text/plain": [
       "<Figure size 640x480 with 1 Axes>"
      ]
     },
     "metadata": {},
     "output_type": "display_data"
    }
   ],
   "source": [
    "ratings['Book-Rating'].value_counts().plot(kind='bar')\n",
    "plt.title(\"Rating Distribution\\n\", fontsize=15, color='red')\n",
    "plt.xlabel(\"Rating\", fontsize=13, color='g')\n",
    "plt.ylabel(\"Number of Count\", fontsize=10, color='g')\n",
    "plt.show()"
   ]
  },
  {
   "cell_type": "markdown",
   "id": "086cef7f",
   "metadata": {
    "papermill": {
     "duration": 0.040677,
     "end_time": "2023-11-03T04:13:55.008900",
     "exception": false,
     "start_time": "2023-11-03T04:13:54.968223",
     "status": "completed"
    },
    "tags": []
   },
   "source": [
    "Popularity Based Recommender System"
   ]
  },
  {
   "cell_type": "markdown",
   "id": "4af4501c",
   "metadata": {
    "papermill": {
     "duration": 0.040019,
     "end_time": "2023-11-03T04:13:55.088982",
     "exception": false,
     "start_time": "2023-11-03T04:13:55.048963",
     "status": "completed"
    },
    "tags": []
   },
   "source": [
    "1) We will consider those Users as a Good Users which have given ratings on minimum 200 books.\n",
    "\n",
    "2) And also we will consider those Books as a Popular Books which have got 100 time ratings"
   ]
  },
  {
   "cell_type": "code",
   "execution_count": 24,
   "id": "244a2a04",
   "metadata": {
    "execution": {
     "iopub.execute_input": "2023-11-03T04:13:55.175692Z",
     "iopub.status.busy": "2023-11-03T04:13:55.175007Z",
     "iopub.status.idle": "2023-11-03T04:13:56.211967Z",
     "shell.execute_reply": "2023-11-03T04:13:56.210853Z"
    },
    "papermill": {
     "duration": 1.083257,
     "end_time": "2023-11-03T04:13:56.214654",
     "exception": false,
     "start_time": "2023-11-03T04:13:55.131397",
     "status": "completed"
    },
    "tags": []
   },
   "outputs": [],
   "source": [
    "#Merge books dataset with ratings dataset\n",
    "ratings_with_books = pd.merge(left=ratings, right=books, on=\"ISBN\")"
   ]
  },
  {
   "cell_type": "code",
   "execution_count": 25,
   "id": "04746c70",
   "metadata": {
    "execution": {
     "iopub.execute_input": "2023-11-03T04:13:56.298817Z",
     "iopub.status.busy": "2023-11-03T04:13:56.298102Z",
     "iopub.status.idle": "2023-11-03T04:13:56.314392Z",
     "shell.execute_reply": "2023-11-03T04:13:56.313153Z"
    },
    "papermill": {
     "duration": 0.061169,
     "end_time": "2023-11-03T04:13:56.316920",
     "exception": false,
     "start_time": "2023-11-03T04:13:56.255751",
     "status": "completed"
    },
    "tags": []
   },
   "outputs": [
    {
     "data": {
      "text/html": [
       "<div>\n",
       "<style scoped>\n",
       "    .dataframe tbody tr th:only-of-type {\n",
       "        vertical-align: middle;\n",
       "    }\n",
       "\n",
       "    .dataframe tbody tr th {\n",
       "        vertical-align: top;\n",
       "    }\n",
       "\n",
       "    .dataframe thead th {\n",
       "        text-align: right;\n",
       "    }\n",
       "</style>\n",
       "<table border=\"1\" class=\"dataframe\">\n",
       "  <thead>\n",
       "    <tr style=\"text-align: right;\">\n",
       "      <th></th>\n",
       "      <th>User-ID</th>\n",
       "      <th>ISBN</th>\n",
       "      <th>Book-Rating</th>\n",
       "      <th>Book-Title</th>\n",
       "      <th>Book-Author</th>\n",
       "      <th>Year-Of-Publication</th>\n",
       "      <th>Publisher</th>\n",
       "      <th>Image-URL-S</th>\n",
       "      <th>Image-URL-M</th>\n",
       "      <th>Image-URL-L</th>\n",
       "    </tr>\n",
       "  </thead>\n",
       "  <tbody>\n",
       "    <tr>\n",
       "      <th>0</th>\n",
       "      <td>276725</td>\n",
       "      <td>034545104X</td>\n",
       "      <td>0</td>\n",
       "      <td>flesh tones: a novel</td>\n",
       "      <td>M. J. Rose</td>\n",
       "      <td>2002</td>\n",
       "      <td>Ballantine Books</td>\n",
       "      <td>http://images.amazon.com/images/P/034545104X.0...</td>\n",
       "      <td>http://images.amazon.com/images/P/034545104X.0...</td>\n",
       "      <td>http://images.amazon.com/images/P/034545104X.0...</td>\n",
       "    </tr>\n",
       "    <tr>\n",
       "      <th>1</th>\n",
       "      <td>2313</td>\n",
       "      <td>034545104X</td>\n",
       "      <td>5</td>\n",
       "      <td>flesh tones: a novel</td>\n",
       "      <td>M. J. Rose</td>\n",
       "      <td>2002</td>\n",
       "      <td>Ballantine Books</td>\n",
       "      <td>http://images.amazon.com/images/P/034545104X.0...</td>\n",
       "      <td>http://images.amazon.com/images/P/034545104X.0...</td>\n",
       "      <td>http://images.amazon.com/images/P/034545104X.0...</td>\n",
       "    </tr>\n",
       "    <tr>\n",
       "      <th>2</th>\n",
       "      <td>6543</td>\n",
       "      <td>034545104X</td>\n",
       "      <td>0</td>\n",
       "      <td>flesh tones: a novel</td>\n",
       "      <td>M. J. Rose</td>\n",
       "      <td>2002</td>\n",
       "      <td>Ballantine Books</td>\n",
       "      <td>http://images.amazon.com/images/P/034545104X.0...</td>\n",
       "      <td>http://images.amazon.com/images/P/034545104X.0...</td>\n",
       "      <td>http://images.amazon.com/images/P/034545104X.0...</td>\n",
       "    </tr>\n",
       "    <tr>\n",
       "      <th>3</th>\n",
       "      <td>8680</td>\n",
       "      <td>034545104X</td>\n",
       "      <td>5</td>\n",
       "      <td>flesh tones: a novel</td>\n",
       "      <td>M. J. Rose</td>\n",
       "      <td>2002</td>\n",
       "      <td>Ballantine Books</td>\n",
       "      <td>http://images.amazon.com/images/P/034545104X.0...</td>\n",
       "      <td>http://images.amazon.com/images/P/034545104X.0...</td>\n",
       "      <td>http://images.amazon.com/images/P/034545104X.0...</td>\n",
       "    </tr>\n",
       "    <tr>\n",
       "      <th>4</th>\n",
       "      <td>10314</td>\n",
       "      <td>034545104X</td>\n",
       "      <td>9</td>\n",
       "      <td>flesh tones: a novel</td>\n",
       "      <td>M. J. Rose</td>\n",
       "      <td>2002</td>\n",
       "      <td>Ballantine Books</td>\n",
       "      <td>http://images.amazon.com/images/P/034545104X.0...</td>\n",
       "      <td>http://images.amazon.com/images/P/034545104X.0...</td>\n",
       "      <td>http://images.amazon.com/images/P/034545104X.0...</td>\n",
       "    </tr>\n",
       "  </tbody>\n",
       "</table>\n",
       "</div>"
      ],
      "text/plain": [
       "   User-ID        ISBN  Book-Rating            Book-Title Book-Author  \\\n",
       "0   276725  034545104X            0  flesh tones: a novel  M. J. Rose   \n",
       "1     2313  034545104X            5  flesh tones: a novel  M. J. Rose   \n",
       "2     6543  034545104X            0  flesh tones: a novel  M. J. Rose   \n",
       "3     8680  034545104X            5  flesh tones: a novel  M. J. Rose   \n",
       "4    10314  034545104X            9  flesh tones: a novel  M. J. Rose   \n",
       "\n",
       "  Year-Of-Publication         Publisher  \\\n",
       "0                2002  Ballantine Books   \n",
       "1                2002  Ballantine Books   \n",
       "2                2002  Ballantine Books   \n",
       "3                2002  Ballantine Books   \n",
       "4                2002  Ballantine Books   \n",
       "\n",
       "                                         Image-URL-S  \\\n",
       "0  http://images.amazon.com/images/P/034545104X.0...   \n",
       "1  http://images.amazon.com/images/P/034545104X.0...   \n",
       "2  http://images.amazon.com/images/P/034545104X.0...   \n",
       "3  http://images.amazon.com/images/P/034545104X.0...   \n",
       "4  http://images.amazon.com/images/P/034545104X.0...   \n",
       "\n",
       "                                         Image-URL-M  \\\n",
       "0  http://images.amazon.com/images/P/034545104X.0...   \n",
       "1  http://images.amazon.com/images/P/034545104X.0...   \n",
       "2  http://images.amazon.com/images/P/034545104X.0...   \n",
       "3  http://images.amazon.com/images/P/034545104X.0...   \n",
       "4  http://images.amazon.com/images/P/034545104X.0...   \n",
       "\n",
       "                                         Image-URL-L  \n",
       "0  http://images.amazon.com/images/P/034545104X.0...  \n",
       "1  http://images.amazon.com/images/P/034545104X.0...  \n",
       "2  http://images.amazon.com/images/P/034545104X.0...  \n",
       "3  http://images.amazon.com/images/P/034545104X.0...  \n",
       "4  http://images.amazon.com/images/P/034545104X.0...  "
      ]
     },
     "execution_count": 25,
     "metadata": {},
     "output_type": "execute_result"
    }
   ],
   "source": [
    "ratings_with_books.head()"
   ]
  },
  {
   "cell_type": "code",
   "execution_count": 26,
   "id": "beb2fb93",
   "metadata": {
    "execution": {
     "iopub.execute_input": "2023-11-03T04:13:56.400414Z",
     "iopub.status.busy": "2023-11-03T04:13:56.400035Z",
     "iopub.status.idle": "2023-11-03T04:13:56.406101Z",
     "shell.execute_reply": "2023-11-03T04:13:56.405335Z"
    },
    "papermill": {
     "duration": 0.050777,
     "end_time": "2023-11-03T04:13:56.408301",
     "exception": false,
     "start_time": "2023-11-03T04:13:56.357524",
     "status": "completed"
    },
    "tags": []
   },
   "outputs": [
    {
     "data": {
      "text/plain": [
       "(1031136, 10)"
      ]
     },
     "execution_count": 26,
     "metadata": {},
     "output_type": "execute_result"
    }
   ],
   "source": [
    "ratings_with_books.shape"
   ]
  },
  {
   "cell_type": "code",
   "execution_count": 27,
   "id": "ac514ef3",
   "metadata": {
    "execution": {
     "iopub.execute_input": "2023-11-03T04:13:56.493797Z",
     "iopub.status.busy": "2023-11-03T04:13:56.493407Z",
     "iopub.status.idle": "2023-11-03T04:13:57.392274Z",
     "shell.execute_reply": "2023-11-03T04:13:57.391213Z"
    },
    "papermill": {
     "duration": 0.94478,
     "end_time": "2023-11-03T04:13:57.394642",
     "exception": false,
     "start_time": "2023-11-03T04:13:56.449862",
     "status": "completed"
    },
    "tags": []
   },
   "outputs": [
    {
     "data": {
      "text/plain": [
       "User-ID                0\n",
       "ISBN                   0\n",
       "Book-Rating            0\n",
       "Book-Title             0\n",
       "Book-Author            2\n",
       "Year-Of-Publication    0\n",
       "Publisher              2\n",
       "Image-URL-S            0\n",
       "Image-URL-M            0\n",
       "Image-URL-L            4\n",
       "dtype: int64"
      ]
     },
     "execution_count": 27,
     "metadata": {},
     "output_type": "execute_result"
    }
   ],
   "source": [
    "# Check null value\n",
    "\n",
    "ratings_with_books.isna().sum()"
   ]
  },
  {
   "cell_type": "markdown",
   "id": "0f427dbd",
   "metadata": {
    "papermill": {
     "duration": 0.040785,
     "end_time": "2023-11-03T04:13:57.477192",
     "exception": false,
     "start_time": "2023-11-03T04:13:57.436407",
     "status": "completed"
    },
    "tags": []
   },
   "source": [
    "Add a new column totalBookrating and make a dataframe\n",
    "\n",
    "we will group by based on Book-Title beacuse of we already seen Book-Title contain duplicate value if we group by based on ISBN column then same book will be distribute in different group"
   ]
  },
  {
   "cell_type": "code",
   "execution_count": 28,
   "id": "d80168a0",
   "metadata": {
    "execution": {
     "iopub.execute_input": "2023-11-03T04:13:57.562319Z",
     "iopub.status.busy": "2023-11-03T04:13:57.561933Z",
     "iopub.status.idle": "2023-11-03T04:13:58.454432Z",
     "shell.execute_reply": "2023-11-03T04:13:58.453394Z"
    },
    "papermill": {
     "duration": 0.938244,
     "end_time": "2023-11-03T04:13:58.456905",
     "exception": false,
     "start_time": "2023-11-03T04:13:57.518661",
     "status": "completed"
    },
    "tags": []
   },
   "outputs": [
    {
     "data": {
      "text/html": [
       "<div>\n",
       "<style scoped>\n",
       "    .dataframe tbody tr th:only-of-type {\n",
       "        vertical-align: middle;\n",
       "    }\n",
       "\n",
       "    .dataframe tbody tr th {\n",
       "        vertical-align: top;\n",
       "    }\n",
       "\n",
       "    .dataframe thead th {\n",
       "        text-align: right;\n",
       "    }\n",
       "</style>\n",
       "<table border=\"1\" class=\"dataframe\">\n",
       "  <thead>\n",
       "    <tr style=\"text-align: right;\">\n",
       "      <th></th>\n",
       "      <th>Book-Title</th>\n",
       "      <th>total_number_of_rating</th>\n",
       "    </tr>\n",
       "  </thead>\n",
       "  <tbody>\n",
       "    <tr>\n",
       "      <th>232037</th>\n",
       "      <td>wild animus</td>\n",
       "      <td>2502</td>\n",
       "    </tr>\n",
       "    <tr>\n",
       "      <th>194590</th>\n",
       "      <td>the lovely bones: a novel</td>\n",
       "      <td>1295</td>\n",
       "    </tr>\n",
       "    <tr>\n",
       "      <th>181406</th>\n",
       "      <td>the da vinci code</td>\n",
       "      <td>898</td>\n",
       "    </tr>\n",
       "    <tr>\n",
       "      <th>5627</th>\n",
       "      <td>a painted house</td>\n",
       "      <td>838</td>\n",
       "    </tr>\n",
       "    <tr>\n",
       "      <th>197572</th>\n",
       "      <td>the nanny diaries: a novel</td>\n",
       "      <td>828</td>\n",
       "    </tr>\n",
       "    <tr>\n",
       "      <th>27696</th>\n",
       "      <td>bridget jones's diary</td>\n",
       "      <td>815</td>\n",
       "    </tr>\n",
       "    <tr>\n",
       "      <th>205023</th>\n",
       "      <td>the secret life of bees</td>\n",
       "      <td>774</td>\n",
       "    </tr>\n",
       "    <tr>\n",
       "      <th>52316</th>\n",
       "      <td>divine secrets of the ya-ya sisterhood: a novel</td>\n",
       "      <td>740</td>\n",
       "    </tr>\n",
       "    <tr>\n",
       "      <th>202892</th>\n",
       "      <td>the red tent (bestselling backlist)</td>\n",
       "      <td>723</td>\n",
       "    </tr>\n",
       "    <tr>\n",
       "      <th>14267</th>\n",
       "      <td>angels &amp;amp; demons</td>\n",
       "      <td>670</td>\n",
       "    </tr>\n",
       "  </tbody>\n",
       "</table>\n",
       "</div>"
      ],
      "text/plain": [
       "                                             Book-Title  \\\n",
       "232037                                      wild animus   \n",
       "194590                        the lovely bones: a novel   \n",
       "181406                                the da vinci code   \n",
       "5627                                    a painted house   \n",
       "197572                       the nanny diaries: a novel   \n",
       "27696                             bridget jones's diary   \n",
       "205023                          the secret life of bees   \n",
       "52316   divine secrets of the ya-ya sisterhood: a novel   \n",
       "202892              the red tent (bestselling backlist)   \n",
       "14267                               angels &amp; demons   \n",
       "\n",
       "        total_number_of_rating  \n",
       "232037                    2502  \n",
       "194590                    1295  \n",
       "181406                     898  \n",
       "5627                       838  \n",
       "197572                     828  \n",
       "27696                      815  \n",
       "205023                     774  \n",
       "52316                      740  \n",
       "202892                     723  \n",
       "14267                      670  "
      ]
     },
     "execution_count": 28,
     "metadata": {},
     "output_type": "execute_result"
    }
   ],
   "source": [
    "# This is one way\n",
    "\n",
    "total_number_of_rating = pd.DataFrame(data=ratings_with_books.groupby(by='Book-Title')['Book-Rating'].count())\n",
    "\n",
    "# Change the column name\n",
    "total_number_of_rating.rename(columns={'Book-Rating':'total_number_of_rating'}, inplace=True)\n",
    "\n",
    "total_number_of_rating.reset_index(inplace=True)\n",
    "\n",
    "total_number_of_rating.sort_values(by='total_number_of_rating', ascending=False).head(10)\n",
    "\n",
    "# total_number_of_rating.head(10)"
   ]
  },
  {
   "cell_type": "code",
   "execution_count": 29,
   "id": "a86a86fc",
   "metadata": {
    "execution": {
     "iopub.execute_input": "2023-11-03T04:13:58.542082Z",
     "iopub.status.busy": "2023-11-03T04:13:58.541688Z",
     "iopub.status.idle": "2023-11-03T04:13:58.548774Z",
     "shell.execute_reply": "2023-11-03T04:13:58.547610Z"
    },
    "papermill": {
     "duration": 0.052652,
     "end_time": "2023-11-03T04:13:58.551141",
     "exception": false,
     "start_time": "2023-11-03T04:13:58.498489",
     "status": "completed"
    },
    "tags": []
   },
   "outputs": [
    {
     "data": {
      "text/plain": [
       "(237912, 2)"
      ]
     },
     "execution_count": 29,
     "metadata": {},
     "output_type": "execute_result"
    }
   ],
   "source": [
    "total_number_of_rating.shape"
   ]
  },
  {
   "cell_type": "code",
   "execution_count": 30,
   "id": "f848b72c",
   "metadata": {
    "execution": {
     "iopub.execute_input": "2023-11-03T04:13:58.638293Z",
     "iopub.status.busy": "2023-11-03T04:13:58.637869Z",
     "iopub.status.idle": "2023-11-03T04:14:00.350723Z",
     "shell.execute_reply": "2023-11-03T04:14:00.349561Z"
    },
    "papermill": {
     "duration": 1.759572,
     "end_time": "2023-11-03T04:14:00.353182",
     "exception": false,
     "start_time": "2023-11-03T04:13:58.593610",
     "status": "completed"
    },
    "tags": []
   },
   "outputs": [
    {
     "data": {
      "text/html": [
       "<div>\n",
       "<style scoped>\n",
       "    .dataframe tbody tr th:only-of-type {\n",
       "        vertical-align: middle;\n",
       "    }\n",
       "\n",
       "    .dataframe tbody tr th {\n",
       "        vertical-align: top;\n",
       "    }\n",
       "\n",
       "    .dataframe thead th {\n",
       "        text-align: right;\n",
       "    }\n",
       "</style>\n",
       "<table border=\"1\" class=\"dataframe\">\n",
       "  <thead>\n",
       "    <tr style=\"text-align: right;\">\n",
       "      <th></th>\n",
       "      <th>Book-Title</th>\n",
       "      <th>total_number_of_rating</th>\n",
       "    </tr>\n",
       "  </thead>\n",
       "  <tbody>\n",
       "    <tr>\n",
       "      <th>232037</th>\n",
       "      <td>wild animus</td>\n",
       "      <td>2502</td>\n",
       "    </tr>\n",
       "    <tr>\n",
       "      <th>194590</th>\n",
       "      <td>the lovely bones: a novel</td>\n",
       "      <td>1295</td>\n",
       "    </tr>\n",
       "    <tr>\n",
       "      <th>181406</th>\n",
       "      <td>the da vinci code</td>\n",
       "      <td>898</td>\n",
       "    </tr>\n",
       "    <tr>\n",
       "      <th>5627</th>\n",
       "      <td>a painted house</td>\n",
       "      <td>838</td>\n",
       "    </tr>\n",
       "    <tr>\n",
       "      <th>197572</th>\n",
       "      <td>the nanny diaries: a novel</td>\n",
       "      <td>828</td>\n",
       "    </tr>\n",
       "    <tr>\n",
       "      <th>27696</th>\n",
       "      <td>bridget jones's diary</td>\n",
       "      <td>815</td>\n",
       "    </tr>\n",
       "    <tr>\n",
       "      <th>205023</th>\n",
       "      <td>the secret life of bees</td>\n",
       "      <td>774</td>\n",
       "    </tr>\n",
       "    <tr>\n",
       "      <th>52316</th>\n",
       "      <td>divine secrets of the ya-ya sisterhood: a novel</td>\n",
       "      <td>740</td>\n",
       "    </tr>\n",
       "    <tr>\n",
       "      <th>202892</th>\n",
       "      <td>the red tent (bestselling backlist)</td>\n",
       "      <td>723</td>\n",
       "    </tr>\n",
       "    <tr>\n",
       "      <th>14267</th>\n",
       "      <td>angels &amp;amp; demons</td>\n",
       "      <td>670</td>\n",
       "    </tr>\n",
       "  </tbody>\n",
       "</table>\n",
       "</div>"
      ],
      "text/plain": [
       "                                             Book-Title  \\\n",
       "232037                                      wild animus   \n",
       "194590                        the lovely bones: a novel   \n",
       "181406                                the da vinci code   \n",
       "5627                                    a painted house   \n",
       "197572                       the nanny diaries: a novel   \n",
       "27696                             bridget jones's diary   \n",
       "205023                          the secret life of bees   \n",
       "52316   divine secrets of the ya-ya sisterhood: a novel   \n",
       "202892              the red tent (bestselling backlist)   \n",
       "14267                               angels &amp; demons   \n",
       "\n",
       "        total_number_of_rating  \n",
       "232037                    2502  \n",
       "194590                    1295  \n",
       "181406                     898  \n",
       "5627                       838  \n",
       "197572                     828  \n",
       "27696                      815  \n",
       "205023                     774  \n",
       "52316                      740  \n",
       "202892                     723  \n",
       "14267                      670  "
      ]
     },
     "execution_count": 30,
     "metadata": {},
     "output_type": "execute_result"
    }
   ],
   "source": [
    "# This is another way to do it\n",
    "\n",
    "total_number_of_rating2 = ratings_with_books.groupby(by='Book-Title').count()['Book-Rating'].reset_index()\n",
    "\n",
    "total_number_of_rating2.rename(columns={'Book-Rating':'total_number_of_rating'}, inplace=True)\n",
    "\n",
    "total_number_of_rating2.sort_values(by=\"total_number_of_rating\", ascending=False).head(10)"
   ]
  },
  {
   "cell_type": "markdown",
   "id": "cfa89804",
   "metadata": {
    "papermill": {
     "duration": 0.041035,
     "end_time": "2023-11-03T04:14:00.435551",
     "exception": false,
     "start_time": "2023-11-03T04:14:00.394516",
     "status": "completed"
    },
    "tags": []
   },
   "source": [
    "other way"
   ]
  },
  {
   "cell_type": "code",
   "execution_count": 31,
   "id": "0c578bab",
   "metadata": {
    "execution": {
     "iopub.execute_input": "2023-11-03T04:14:00.521078Z",
     "iopub.status.busy": "2023-11-03T04:14:00.519923Z",
     "iopub.status.idle": "2023-11-03T04:14:00.526512Z",
     "shell.execute_reply": "2023-11-03T04:14:00.525731Z"
    },
    "papermill": {
     "duration": 0.051664,
     "end_time": "2023-11-03T04:14:00.528702",
     "exception": false,
     "start_time": "2023-11-03T04:14:00.477038",
     "status": "completed"
    },
    "tags": []
   },
   "outputs": [
    {
     "data": {
      "text/plain": [
       "(237912, 2)"
      ]
     },
     "execution_count": 31,
     "metadata": {},
     "output_type": "execute_result"
    }
   ],
   "source": [
    "total_number_of_rating2.shape"
   ]
  },
  {
   "cell_type": "code",
   "execution_count": 32,
   "id": "ff50d65d",
   "metadata": {
    "execution": {
     "iopub.execute_input": "2023-11-03T04:14:00.615154Z",
     "iopub.status.busy": "2023-11-03T04:14:00.614761Z",
     "iopub.status.idle": "2023-11-03T04:14:01.534249Z",
     "shell.execute_reply": "2023-11-03T04:14:01.533216Z"
    },
    "papermill": {
     "duration": 0.96624,
     "end_time": "2023-11-03T04:14:01.537171",
     "exception": false,
     "start_time": "2023-11-03T04:14:00.570931",
     "status": "completed"
    },
    "tags": []
   },
   "outputs": [
    {
     "data": {
      "text/html": [
       "<div>\n",
       "<style scoped>\n",
       "    .dataframe tbody tr th:only-of-type {\n",
       "        vertical-align: middle;\n",
       "    }\n",
       "\n",
       "    .dataframe tbody tr th {\n",
       "        vertical-align: top;\n",
       "    }\n",
       "\n",
       "    .dataframe thead th {\n",
       "        text-align: right;\n",
       "    }\n",
       "</style>\n",
       "<table border=\"1\" class=\"dataframe\">\n",
       "  <thead>\n",
       "    <tr style=\"text-align: right;\">\n",
       "      <th></th>\n",
       "      <th>Book-Title</th>\n",
       "      <th>average_number_of_rating</th>\n",
       "    </tr>\n",
       "  </thead>\n",
       "  <tbody>\n",
       "    <tr>\n",
       "      <th>218892</th>\n",
       "      <td>transformers armada: fortress</td>\n",
       "      <td>10.0</td>\n",
       "    </tr>\n",
       "    <tr>\n",
       "      <th>38431</th>\n",
       "      <td>confirmed bachelors are just so fascinating (d...</td>\n",
       "      <td>10.0</td>\n",
       "    </tr>\n",
       "    <tr>\n",
       "      <th>23789</th>\n",
       "      <td>birdseed cookies: a fractured memoir</td>\n",
       "      <td>10.0</td>\n",
       "    </tr>\n",
       "    <tr>\n",
       "      <th>8640</th>\n",
       "      <td>absolutely brilliant in chrome: phobos galaxy ...</td>\n",
       "      <td>10.0</td>\n",
       "    </tr>\n",
       "    <tr>\n",
       "      <th>212095</th>\n",
       "      <td>the wheel of time: prophecies of the dragon</td>\n",
       "      <td>10.0</td>\n",
       "    </tr>\n",
       "    <tr>\n",
       "      <th>212093</th>\n",
       "      <td>the wheel of time roleplaying game : roleplayi...</td>\n",
       "      <td>10.0</td>\n",
       "    </tr>\n",
       "    <tr>\n",
       "      <th>146967</th>\n",
       "      <td>remembering wholeness: a personal handbook for...</td>\n",
       "      <td>10.0</td>\n",
       "    </tr>\n",
       "    <tr>\n",
       "      <th>38461</th>\n",
       "      <td>confusing love with obsession: when you can't ...</td>\n",
       "      <td>10.0</td>\n",
       "    </tr>\n",
       "    <tr>\n",
       "      <th>133498</th>\n",
       "      <td>ordeal of thomas hutchinson</td>\n",
       "      <td>10.0</td>\n",
       "    </tr>\n",
       "    <tr>\n",
       "      <th>38456</th>\n",
       "      <td>confronting the horror: the aftermath of violence</td>\n",
       "      <td>10.0</td>\n",
       "    </tr>\n",
       "  </tbody>\n",
       "</table>\n",
       "</div>"
      ],
      "text/plain": [
       "                                               Book-Title  \\\n",
       "218892                      transformers armada: fortress   \n",
       "38431   confirmed bachelors are just so fascinating (d...   \n",
       "23789                birdseed cookies: a fractured memoir   \n",
       "8640    absolutely brilliant in chrome: phobos galaxy ...   \n",
       "212095        the wheel of time: prophecies of the dragon   \n",
       "212093  the wheel of time roleplaying game : roleplayi...   \n",
       "146967  remembering wholeness: a personal handbook for...   \n",
       "38461   confusing love with obsession: when you can't ...   \n",
       "133498                        ordeal of thomas hutchinson   \n",
       "38456   confronting the horror: the aftermath of violence   \n",
       "\n",
       "        average_number_of_rating  \n",
       "218892                      10.0  \n",
       "38431                       10.0  \n",
       "23789                       10.0  \n",
       "8640                        10.0  \n",
       "212095                      10.0  \n",
       "212093                      10.0  \n",
       "146967                      10.0  \n",
       "38461                       10.0  \n",
       "133498                      10.0  \n",
       "38456                       10.0  "
      ]
     },
     "execution_count": 32,
     "metadata": {},
     "output_type": "execute_result"
    }
   ],
   "source": [
    "#Add a new column AverageBookrating and make a dataframe\n",
    "average_number_of_rating = pd.DataFrame(data=ratings_with_books.groupby(by='Book-Title')['Book-Rating'].mean())\n",
    "\n",
    "average_number_of_rating.rename(columns={'Book-Rating': 'average_number_of_rating'}, inplace=True)\n",
    "\n",
    "average_number_of_rating.reset_index(inplace=True)\n",
    "\n",
    "average_number_of_rating.sort_values(by=\"average_number_of_rating\", ascending=False).head(10)\n"
   ]
  },
  {
   "cell_type": "code",
   "execution_count": 33,
   "id": "42eb19d4",
   "metadata": {
    "execution": {
     "iopub.execute_input": "2023-11-03T04:14:01.625279Z",
     "iopub.status.busy": "2023-11-03T04:14:01.624847Z",
     "iopub.status.idle": "2023-11-03T04:14:01.631554Z",
     "shell.execute_reply": "2023-11-03T04:14:01.630574Z"
    },
    "papermill": {
     "duration": 0.053231,
     "end_time": "2023-11-03T04:14:01.633640",
     "exception": false,
     "start_time": "2023-11-03T04:14:01.580409",
     "status": "completed"
    },
    "tags": []
   },
   "outputs": [
    {
     "data": {
      "text/plain": [
       "(237912, 2)"
      ]
     },
     "execution_count": 33,
     "metadata": {},
     "output_type": "execute_result"
    }
   ],
   "source": [
    "average_number_of_rating.shape"
   ]
  },
  {
   "cell_type": "code",
   "execution_count": 34,
   "id": "116f7c7f",
   "metadata": {
    "execution": {
     "iopub.execute_input": "2023-11-03T04:14:01.721431Z",
     "iopub.status.busy": "2023-11-03T04:14:01.720521Z",
     "iopub.status.idle": "2023-11-03T04:14:01.944181Z",
     "shell.execute_reply": "2023-11-03T04:14:01.943265Z"
    },
    "papermill": {
     "duration": 0.270223,
     "end_time": "2023-11-03T04:14:01.946623",
     "exception": false,
     "start_time": "2023-11-03T04:14:01.676400",
     "status": "completed"
    },
    "tags": []
   },
   "outputs": [
    {
     "data": {
      "text/html": [
       "<div>\n",
       "<style scoped>\n",
       "    .dataframe tbody tr th:only-of-type {\n",
       "        vertical-align: middle;\n",
       "    }\n",
       "\n",
       "    .dataframe tbody tr th {\n",
       "        vertical-align: top;\n",
       "    }\n",
       "\n",
       "    .dataframe thead th {\n",
       "        text-align: right;\n",
       "    }\n",
       "</style>\n",
       "<table border=\"1\" class=\"dataframe\">\n",
       "  <thead>\n",
       "    <tr style=\"text-align: right;\">\n",
       "      <th></th>\n",
       "      <th>Book-Title</th>\n",
       "      <th>total_number_of_rating</th>\n",
       "      <th>average_number_of_rating</th>\n",
       "    </tr>\n",
       "  </thead>\n",
       "  <tbody>\n",
       "    <tr>\n",
       "      <th>0</th>\n",
       "      <td>a light in the storm: the civil war diary of ...</td>\n",
       "      <td>4</td>\n",
       "      <td>2.25</td>\n",
       "    </tr>\n",
       "    <tr>\n",
       "      <th>1</th>\n",
       "      <td>always have popsicles</td>\n",
       "      <td>1</td>\n",
       "      <td>0.00</td>\n",
       "    </tr>\n",
       "    <tr>\n",
       "      <th>2</th>\n",
       "      <td>apple magic (the collector's series)</td>\n",
       "      <td>1</td>\n",
       "      <td>0.00</td>\n",
       "    </tr>\n",
       "    <tr>\n",
       "      <th>3</th>\n",
       "      <td>ask lily (young women of faith: lily series, ...</td>\n",
       "      <td>1</td>\n",
       "      <td>8.00</td>\n",
       "    </tr>\n",
       "    <tr>\n",
       "      <th>4</th>\n",
       "      <td>beyond ibm: leadership marketing and finance ...</td>\n",
       "      <td>1</td>\n",
       "      <td>0.00</td>\n",
       "    </tr>\n",
       "    <tr>\n",
       "      <th>5</th>\n",
       "      <td>clifford visita el hospital (clifford el gran...</td>\n",
       "      <td>1</td>\n",
       "      <td>0.00</td>\n",
       "    </tr>\n",
       "    <tr>\n",
       "      <th>6</th>\n",
       "      <td>dark justice</td>\n",
       "      <td>1</td>\n",
       "      <td>10.00</td>\n",
       "    </tr>\n",
       "    <tr>\n",
       "      <th>7</th>\n",
       "      <td>deceived</td>\n",
       "      <td>2</td>\n",
       "      <td>0.00</td>\n",
       "    </tr>\n",
       "    <tr>\n",
       "      <th>8</th>\n",
       "      <td>earth prayers from around the world: 365 pray...</td>\n",
       "      <td>10</td>\n",
       "      <td>5.00</td>\n",
       "    </tr>\n",
       "    <tr>\n",
       "      <th>9</th>\n",
       "      <td>final fantasy anthology: official strategy gu...</td>\n",
       "      <td>4</td>\n",
       "      <td>5.00</td>\n",
       "    </tr>\n",
       "  </tbody>\n",
       "</table>\n",
       "</div>"
      ],
      "text/plain": [
       "                                          Book-Title  total_number_of_rating  \\\n",
       "0   a light in the storm: the civil war diary of ...                       4   \n",
       "1                              always have popsicles                       1   \n",
       "2               apple magic (the collector's series)                       1   \n",
       "3   ask lily (young women of faith: lily series, ...                       1   \n",
       "4   beyond ibm: leadership marketing and finance ...                       1   \n",
       "5   clifford visita el hospital (clifford el gran...                       1   \n",
       "6                                       dark justice                       1   \n",
       "7                                           deceived                       2   \n",
       "8   earth prayers from around the world: 365 pray...                      10   \n",
       "9   final fantasy anthology: official strategy gu...                       4   \n",
       "\n",
       "   average_number_of_rating  \n",
       "0                      2.25  \n",
       "1                      0.00  \n",
       "2                      0.00  \n",
       "3                      8.00  \n",
       "4                      0.00  \n",
       "5                      0.00  \n",
       "6                     10.00  \n",
       "7                      0.00  \n",
       "8                      5.00  \n",
       "9                      5.00  "
      ]
     },
     "execution_count": 34,
     "metadata": {},
     "output_type": "execute_result"
    }
   ],
   "source": [
    "#Let's combine the Total number of books rating and Average number of books rating\n",
    "total_and_average_book_rating = total_number_of_rating.merge(right=average_number_of_rating, on=\"Book-Title\")\n",
    "\n",
    "total_and_average_book_rating.reset_index(inplace=True, drop=True)\n",
    "\n",
    "total_and_average_book_rating.head(10)\n"
   ]
  },
  {
   "cell_type": "code",
   "execution_count": 35,
   "id": "d8b3e1b2",
   "metadata": {
    "execution": {
     "iopub.execute_input": "2023-11-03T04:14:02.033725Z",
     "iopub.status.busy": "2023-11-03T04:14:02.032935Z",
     "iopub.status.idle": "2023-11-03T04:14:02.040435Z",
     "shell.execute_reply": "2023-11-03T04:14:02.039359Z"
    },
    "papermill": {
     "duration": 0.053823,
     "end_time": "2023-11-03T04:14:02.042887",
     "exception": false,
     "start_time": "2023-11-03T04:14:01.989064",
     "status": "completed"
    },
    "tags": []
   },
   "outputs": [
    {
     "data": {
      "text/plain": [
       "(237912, 3)"
      ]
     },
     "execution_count": 35,
     "metadata": {},
     "output_type": "execute_result"
    }
   ],
   "source": [
    "total_and_average_book_rating.shape"
   ]
  },
  {
   "cell_type": "markdown",
   "id": "b88d0b78",
   "metadata": {
    "papermill": {
     "duration": 0.043851,
     "end_time": "2023-11-03T04:14:02.130443",
     "exception": false,
     "start_time": "2023-11-03T04:14:02.086592",
     "status": "completed"
    },
    "tags": []
   },
   "source": [
    "combine Total number of books rating and Average number of books rating"
   ]
  },
  {
   "cell_type": "code",
   "execution_count": 36,
   "id": "6a54021d",
   "metadata": {
    "execution": {
     "iopub.execute_input": "2023-11-03T04:14:02.220191Z",
     "iopub.status.busy": "2023-11-03T04:14:02.219740Z",
     "iopub.status.idle": "2023-11-03T04:14:02.264794Z",
     "shell.execute_reply": "2023-11-03T04:14:02.263488Z"
    },
    "papermill": {
     "duration": 0.092016,
     "end_time": "2023-11-03T04:14:02.267336",
     "exception": false,
     "start_time": "2023-11-03T04:14:02.175320",
     "status": "completed"
    },
    "tags": []
   },
   "outputs": [
    {
     "data": {
      "text/html": [
       "<div>\n",
       "<style scoped>\n",
       "    .dataframe tbody tr th:only-of-type {\n",
       "        vertical-align: middle;\n",
       "    }\n",
       "\n",
       "    .dataframe tbody tr th {\n",
       "        vertical-align: top;\n",
       "    }\n",
       "\n",
       "    .dataframe thead th {\n",
       "        text-align: right;\n",
       "    }\n",
       "</style>\n",
       "<table border=\"1\" class=\"dataframe\">\n",
       "  <thead>\n",
       "    <tr style=\"text-align: right;\">\n",
       "      <th></th>\n",
       "      <th>Book-Title</th>\n",
       "      <th>total_number_of_rating</th>\n",
       "      <th>average_number_of_rating</th>\n",
       "    </tr>\n",
       "  </thead>\n",
       "  <tbody>\n",
       "    <tr>\n",
       "      <th>232037</th>\n",
       "      <td>wild animus</td>\n",
       "      <td>2502</td>\n",
       "      <td>1.019584</td>\n",
       "    </tr>\n",
       "    <tr>\n",
       "      <th>194590</th>\n",
       "      <td>the lovely bones: a novel</td>\n",
       "      <td>1295</td>\n",
       "      <td>4.468726</td>\n",
       "    </tr>\n",
       "    <tr>\n",
       "      <th>181406</th>\n",
       "      <td>the da vinci code</td>\n",
       "      <td>898</td>\n",
       "      <td>4.642539</td>\n",
       "    </tr>\n",
       "    <tr>\n",
       "      <th>5627</th>\n",
       "      <td>a painted house</td>\n",
       "      <td>838</td>\n",
       "      <td>3.231504</td>\n",
       "    </tr>\n",
       "    <tr>\n",
       "      <th>197572</th>\n",
       "      <td>the nanny diaries: a novel</td>\n",
       "      <td>828</td>\n",
       "      <td>3.530193</td>\n",
       "    </tr>\n",
       "    <tr>\n",
       "      <th>27696</th>\n",
       "      <td>bridget jones's diary</td>\n",
       "      <td>815</td>\n",
       "      <td>3.527607</td>\n",
       "    </tr>\n",
       "    <tr>\n",
       "      <th>205023</th>\n",
       "      <td>the secret life of bees</td>\n",
       "      <td>774</td>\n",
       "      <td>4.447028</td>\n",
       "    </tr>\n",
       "    <tr>\n",
       "      <th>52316</th>\n",
       "      <td>divine secrets of the ya-ya sisterhood: a novel</td>\n",
       "      <td>740</td>\n",
       "      <td>3.437838</td>\n",
       "    </tr>\n",
       "    <tr>\n",
       "      <th>202892</th>\n",
       "      <td>the red tent (bestselling backlist)</td>\n",
       "      <td>723</td>\n",
       "      <td>4.334716</td>\n",
       "    </tr>\n",
       "    <tr>\n",
       "      <th>14267</th>\n",
       "      <td>angels &amp;amp; demons</td>\n",
       "      <td>670</td>\n",
       "      <td>3.708955</td>\n",
       "    </tr>\n",
       "  </tbody>\n",
       "</table>\n",
       "</div>"
      ],
      "text/plain": [
       "                                             Book-Title  \\\n",
       "232037                                      wild animus   \n",
       "194590                        the lovely bones: a novel   \n",
       "181406                                the da vinci code   \n",
       "5627                                    a painted house   \n",
       "197572                       the nanny diaries: a novel   \n",
       "27696                             bridget jones's diary   \n",
       "205023                          the secret life of bees   \n",
       "52316   divine secrets of the ya-ya sisterhood: a novel   \n",
       "202892              the red tent (bestselling backlist)   \n",
       "14267                               angels &amp; demons   \n",
       "\n",
       "        total_number_of_rating  average_number_of_rating  \n",
       "232037                    2502                  1.019584  \n",
       "194590                    1295                  4.468726  \n",
       "181406                     898                  4.642539  \n",
       "5627                       838                  3.231504  \n",
       "197572                     828                  3.530193  \n",
       "27696                      815                  3.527607  \n",
       "205023                     774                  4.447028  \n",
       "52316                      740                  3.437838  \n",
       "202892                     723                  4.334716  \n",
       "14267                      670                  3.708955  "
      ]
     },
     "execution_count": 36,
     "metadata": {},
     "output_type": "execute_result"
    }
   ],
   "source": [
    "total_and_average_book_rating.sort_values(by=\"total_number_of_rating\", ascending=False).head(10)"
   ]
  },
  {
   "cell_type": "code",
   "execution_count": 37,
   "id": "83656d7c",
   "metadata": {
    "execution": {
     "iopub.execute_input": "2023-11-03T04:14:02.357102Z",
     "iopub.status.busy": "2023-11-03T04:14:02.356710Z",
     "iopub.status.idle": "2023-11-03T04:14:02.363786Z",
     "shell.execute_reply": "2023-11-03T04:14:02.362534Z"
    },
    "papermill": {
     "duration": 0.055709,
     "end_time": "2023-11-03T04:14:02.366286",
     "exception": false,
     "start_time": "2023-11-03T04:14:02.310577",
     "status": "completed"
    },
    "tags": []
   },
   "outputs": [
    {
     "data": {
      "text/plain": [
       "(237912, 3)"
      ]
     },
     "execution_count": 37,
     "metadata": {},
     "output_type": "execute_result"
    }
   ],
   "source": [
    "total_and_average_book_rating.shape"
   ]
  },
  {
   "cell_type": "code",
   "execution_count": 38,
   "id": "877b5968",
   "metadata": {
    "execution": {
     "iopub.execute_input": "2023-11-03T04:14:02.455338Z",
     "iopub.status.busy": "2023-11-03T04:14:02.454922Z",
     "iopub.status.idle": "2023-11-03T04:14:02.463009Z",
     "shell.execute_reply": "2023-11-03T04:14:02.461842Z"
    },
    "papermill": {
     "duration": 0.055724,
     "end_time": "2023-11-03T04:14:02.465310",
     "exception": false,
     "start_time": "2023-11-03T04:14:02.409586",
     "status": "completed"
    },
    "tags": []
   },
   "outputs": [
    {
     "data": {
      "text/plain": [
       "Index(['Book-Title', 'total_number_of_rating', 'average_number_of_rating'], dtype='object')"
      ]
     },
     "execution_count": 38,
     "metadata": {},
     "output_type": "execute_result"
    }
   ],
   "source": [
    "total_and_average_book_rating.columns"
   ]
  },
  {
   "cell_type": "markdown",
   "id": "3220eee2",
   "metadata": {
    "papermill": {
     "duration": 0.042973,
     "end_time": "2023-11-03T04:14:02.551599",
     "exception": false,
     "start_time": "2023-11-03T04:14:02.508626",
     "status": "completed"
    },
    "tags": []
   },
   "source": [
    "Creating new dataframe from total_and_average_book_rating"
   ]
  },
  {
   "cell_type": "code",
   "execution_count": 39,
   "id": "2582a4d9",
   "metadata": {
    "execution": {
     "iopub.execute_input": "2023-11-03T04:14:02.639737Z",
     "iopub.status.busy": "2023-11-03T04:14:02.639307Z",
     "iopub.status.idle": "2023-11-03T04:14:02.652527Z",
     "shell.execute_reply": "2023-11-03T04:14:02.651660Z"
    },
    "papermill": {
     "duration": 0.060127,
     "end_time": "2023-11-03T04:14:02.654790",
     "exception": false,
     "start_time": "2023-11-03T04:14:02.594663",
     "status": "completed"
    },
    "tags": []
   },
   "outputs": [
    {
     "data": {
      "text/html": [
       "<div>\n",
       "<style scoped>\n",
       "    .dataframe tbody tr th:only-of-type {\n",
       "        vertical-align: middle;\n",
       "    }\n",
       "\n",
       "    .dataframe tbody tr th {\n",
       "        vertical-align: top;\n",
       "    }\n",
       "\n",
       "    .dataframe thead th {\n",
       "        text-align: right;\n",
       "    }\n",
       "</style>\n",
       "<table border=\"1\" class=\"dataframe\">\n",
       "  <thead>\n",
       "    <tr style=\"text-align: right;\">\n",
       "      <th></th>\n",
       "      <th>Book-Title</th>\n",
       "      <th>total_number_of_rating</th>\n",
       "      <th>average_number_of_rating</th>\n",
       "    </tr>\n",
       "  </thead>\n",
       "  <tbody>\n",
       "    <tr>\n",
       "      <th>79293</th>\n",
       "      <td>harry potter and the prisoner of azkaban (book 3)</td>\n",
       "      <td>428</td>\n",
       "      <td>5.852804</td>\n",
       "    </tr>\n",
       "    <tr>\n",
       "      <th>79281</th>\n",
       "      <td>harry potter and the goblet of fire (book 4)</td>\n",
       "      <td>387</td>\n",
       "      <td>5.824289</td>\n",
       "    </tr>\n",
       "    <tr>\n",
       "      <th>79300</th>\n",
       "      <td>harry potter and the sorcerer's stone (book 1)</td>\n",
       "      <td>278</td>\n",
       "      <td>5.737410</td>\n",
       "    </tr>\n",
       "    <tr>\n",
       "      <th>79285</th>\n",
       "      <td>harry potter and the order of the phoenix (boo...</td>\n",
       "      <td>347</td>\n",
       "      <td>5.501441</td>\n",
       "    </tr>\n",
       "    <tr>\n",
       "      <th>79273</th>\n",
       "      <td>harry potter and the chamber of secrets (book 2)</td>\n",
       "      <td>556</td>\n",
       "      <td>5.183453</td>\n",
       "    </tr>\n",
       "  </tbody>\n",
       "</table>\n",
       "</div>"
      ],
      "text/plain": [
       "                                              Book-Title  \\\n",
       "79293  harry potter and the prisoner of azkaban (book 3)   \n",
       "79281       harry potter and the goblet of fire (book 4)   \n",
       "79300     harry potter and the sorcerer's stone (book 1)   \n",
       "79285  harry potter and the order of the phoenix (boo...   \n",
       "79273   harry potter and the chamber of secrets (book 2)   \n",
       "\n",
       "       total_number_of_rating  average_number_of_rating  \n",
       "79293                     428                  5.852804  \n",
       "79281                     387                  5.824289  \n",
       "79300                     278                  5.737410  \n",
       "79285                     347                  5.501441  \n",
       "79273                     556                  5.183453  "
      ]
     },
     "execution_count": 39,
     "metadata": {},
     "output_type": "execute_result"
    }
   ],
   "source": [
    "popular_df = total_and_average_book_rating[total_and_average_book_rating['total_number_of_rating'] >= 250].sort_values(by=\"average_number_of_rating\", ascending=False)\n",
    "\n",
    "popular_df.head()\n"
   ]
  },
  {
   "cell_type": "code",
   "execution_count": 40,
   "id": "0f0ba1e7",
   "metadata": {
    "execution": {
     "iopub.execute_input": "2023-11-03T04:14:02.744979Z",
     "iopub.status.busy": "2023-11-03T04:14:02.744525Z",
     "iopub.status.idle": "2023-11-03T04:14:02.752226Z",
     "shell.execute_reply": "2023-11-03T04:14:02.750865Z"
    },
    "papermill": {
     "duration": 0.055665,
     "end_time": "2023-11-03T04:14:02.754662",
     "exception": false,
     "start_time": "2023-11-03T04:14:02.698997",
     "status": "completed"
    },
    "tags": []
   },
   "outputs": [
    {
     "data": {
      "text/plain": [
       "(189, 3)"
      ]
     },
     "execution_count": 40,
     "metadata": {},
     "output_type": "execute_result"
    }
   ],
   "source": [
    "popular_df.shape"
   ]
  },
  {
   "cell_type": "code",
   "execution_count": 41,
   "id": "3c95a191",
   "metadata": {
    "execution": {
     "iopub.execute_input": "2023-11-03T04:14:02.844610Z",
     "iopub.status.busy": "2023-11-03T04:14:02.844157Z",
     "iopub.status.idle": "2023-11-03T04:14:02.855783Z",
     "shell.execute_reply": "2023-11-03T04:14:02.854511Z"
    },
    "papermill": {
     "duration": 0.059113,
     "end_time": "2023-11-03T04:14:02.858062",
     "exception": false,
     "start_time": "2023-11-03T04:14:02.798949",
     "status": "completed"
    },
    "tags": []
   },
   "outputs": [
    {
     "data": {
      "text/html": [
       "<div>\n",
       "<style scoped>\n",
       "    .dataframe tbody tr th:only-of-type {\n",
       "        vertical-align: middle;\n",
       "    }\n",
       "\n",
       "    .dataframe tbody tr th {\n",
       "        vertical-align: top;\n",
       "    }\n",
       "\n",
       "    .dataframe thead th {\n",
       "        text-align: right;\n",
       "    }\n",
       "</style>\n",
       "<table border=\"1\" class=\"dataframe\">\n",
       "  <thead>\n",
       "    <tr style=\"text-align: right;\">\n",
       "      <th></th>\n",
       "      <th>Book-Title</th>\n",
       "      <th>total_number_of_rating</th>\n",
       "      <th>average_number_of_rating</th>\n",
       "    </tr>\n",
       "  </thead>\n",
       "  <tbody>\n",
       "    <tr>\n",
       "      <th>79293</th>\n",
       "      <td>harry potter and the prisoner of azkaban (book 3)</td>\n",
       "      <td>428</td>\n",
       "      <td>5.852804</td>\n",
       "    </tr>\n",
       "    <tr>\n",
       "      <th>79281</th>\n",
       "      <td>harry potter and the goblet of fire (book 4)</td>\n",
       "      <td>387</td>\n",
       "      <td>5.824289</td>\n",
       "    </tr>\n",
       "    <tr>\n",
       "      <th>79300</th>\n",
       "      <td>harry potter and the sorcerer's stone (book 1)</td>\n",
       "      <td>278</td>\n",
       "      <td>5.737410</td>\n",
       "    </tr>\n",
       "    <tr>\n",
       "      <th>79285</th>\n",
       "      <td>harry potter and the order of the phoenix (boo...</td>\n",
       "      <td>347</td>\n",
       "      <td>5.501441</td>\n",
       "    </tr>\n",
       "    <tr>\n",
       "      <th>79273</th>\n",
       "      <td>harry potter and the chamber of secrets (book 2)</td>\n",
       "      <td>556</td>\n",
       "      <td>5.183453</td>\n",
       "    </tr>\n",
       "  </tbody>\n",
       "</table>\n",
       "</div>"
      ],
      "text/plain": [
       "                                              Book-Title  \\\n",
       "79293  harry potter and the prisoner of azkaban (book 3)   \n",
       "79281       harry potter and the goblet of fire (book 4)   \n",
       "79300     harry potter and the sorcerer's stone (book 1)   \n",
       "79285  harry potter and the order of the phoenix (boo...   \n",
       "79273   harry potter and the chamber of secrets (book 2)   \n",
       "\n",
       "       total_number_of_rating  average_number_of_rating  \n",
       "79293                     428                  5.852804  \n",
       "79281                     387                  5.824289  \n",
       "79300                     278                  5.737410  \n",
       "79285                     347                  5.501441  \n",
       "79273                     556                  5.183453  "
      ]
     },
     "execution_count": 41,
     "metadata": {},
     "output_type": "execute_result"
    }
   ],
   "source": [
    "popular_df.head()"
   ]
  },
  {
   "cell_type": "code",
   "execution_count": 42,
   "id": "ae0b0016",
   "metadata": {
    "execution": {
     "iopub.execute_input": "2023-11-03T04:14:02.947621Z",
     "iopub.status.busy": "2023-11-03T04:14:02.947209Z",
     "iopub.status.idle": "2023-11-03T04:14:02.953755Z",
     "shell.execute_reply": "2023-11-03T04:14:02.952792Z"
    },
    "papermill": {
     "duration": 0.054031,
     "end_time": "2023-11-03T04:14:02.956158",
     "exception": false,
     "start_time": "2023-11-03T04:14:02.902127",
     "status": "completed"
    },
    "tags": []
   },
   "outputs": [
    {
     "data": {
      "text/plain": [
       "(189, 3)"
      ]
     },
     "execution_count": 42,
     "metadata": {},
     "output_type": "execute_result"
    }
   ],
   "source": [
    "popular_df.shape"
   ]
  },
  {
   "cell_type": "code",
   "execution_count": 43,
   "id": "be37c47f",
   "metadata": {
    "execution": {
     "iopub.execute_input": "2023-11-03T04:14:03.045812Z",
     "iopub.status.busy": "2023-11-03T04:14:03.045376Z",
     "iopub.status.idle": "2023-11-03T04:14:03.080787Z",
     "shell.execute_reply": "2023-11-03T04:14:03.079755Z"
    },
    "papermill": {
     "duration": 0.083013,
     "end_time": "2023-11-03T04:14:03.083112",
     "exception": false,
     "start_time": "2023-11-03T04:14:03.000099",
     "status": "completed"
    },
    "tags": []
   },
   "outputs": [
    {
     "data": {
      "text/plain": [
       "User-ID\n",
       "11676     11144\n",
       "198711     6456\n",
       "153662     5814\n",
       "98391      5779\n",
       "35859      5646\n",
       "212898     4289\n",
       "278418     3996\n",
       "76352      3329\n",
       "110973     2971\n",
       "235105     2943\n",
       "16795      2920\n",
       "230522     2857\n",
       "234623     2594\n",
       "204864     2461\n",
       "36836      2458\n",
       "245963     2395\n",
       "185233     2382\n",
       "55492      2361\n",
       "52584      2340\n",
       "232131     2329\n",
       "227447     2312\n",
       "102967     2285\n",
       "129358     2275\n",
       "98741      2235\n",
       "171118     2219\n",
       "60244      2204\n",
       "190925     2088\n",
       "135149     2061\n",
       "231210     1986\n",
       "189835     1966\n",
       "69697      1901\n",
       "78783      1862\n",
       "189334     1817\n",
       "73394      1776\n",
       "242824     1735\n",
       "269566     1718\n",
       "23768      1690\n",
       "172742     1685\n",
       "175003     1646\n",
       "213350     1629\n",
       "226545     1612\n",
       "238781     1599\n",
       "36606      1565\n",
       "182085     1559\n",
       "177458     1540\n",
       "11601      1538\n",
       "148744     1535\n",
       "123981     1525\n",
       "26544      1501\n",
       "257204     1483\n",
       "Name: count, dtype: int64"
      ]
     },
     "execution_count": 43,
     "metadata": {},
     "output_type": "execute_result"
    }
   ],
   "source": [
    "#users given ratings on minimum 200 books\n",
    "userId_count = ratings_with_books['User-ID'].value_counts()\n",
    "\n",
    "userId_count.head(50)"
   ]
  },
  {
   "cell_type": "code",
   "execution_count": 44,
   "id": "34645484",
   "metadata": {
    "execution": {
     "iopub.execute_input": "2023-11-03T04:14:03.176069Z",
     "iopub.status.busy": "2023-11-03T04:14:03.175698Z",
     "iopub.status.idle": "2023-11-03T04:14:03.184905Z",
     "shell.execute_reply": "2023-11-03T04:14:03.183843Z"
    },
    "papermill": {
     "duration": 0.058611,
     "end_time": "2023-11-03T04:14:03.187140",
     "exception": false,
     "start_time": "2023-11-03T04:14:03.128529",
     "status": "completed"
    },
    "tags": []
   },
   "outputs": [
    {
     "data": {
      "text/plain": [
       "User-ID\n",
       "129043    1\n",
       "140387    1\n",
       "172753    1\n",
       "225532    1\n",
       "14641     1\n",
       "21391     1\n",
       "89144     1\n",
       "52465     1\n",
       "266368    1\n",
       "30807     1\n",
       "244184    1\n",
       "74749     1\n",
       "107212    1\n",
       "250667    1\n",
       "52363     1\n",
       "100196    1\n",
       "120870    1\n",
       "146360    1\n",
       "195056    1\n",
       "205143    1\n",
       "208400    1\n",
       "247122    1\n",
       "251793    1\n",
       "209707    1\n",
       "75310     1\n",
       "74685     1\n",
       "3940      1\n",
       "58913     1\n",
       "3950      1\n",
       "3951      1\n",
       "3952      1\n",
       "85515     1\n",
       "197804    1\n",
       "213635    1\n",
       "23370     1\n",
       "59585     1\n",
       "3960      1\n",
       "40061     1\n",
       "170999    1\n",
       "26237     1\n",
       "136099    1\n",
       "176341    1\n",
       "20685     1\n",
       "145268    1\n",
       "42332     1\n",
       "4002      1\n",
       "78202     1\n",
       "4016      1\n",
       "55986     1\n",
       "276660    1\n",
       "Name: count, dtype: int64"
      ]
     },
     "execution_count": 44,
     "metadata": {},
     "output_type": "execute_result"
    }
   ],
   "source": [
    "userId_count.tail(50)"
   ]
  },
  {
   "cell_type": "code",
   "execution_count": 45,
   "id": "7f45a263",
   "metadata": {
    "execution": {
     "iopub.execute_input": "2023-11-03T04:14:03.278906Z",
     "iopub.status.busy": "2023-11-03T04:14:03.278041Z",
     "iopub.status.idle": "2023-11-03T04:14:03.287825Z",
     "shell.execute_reply": "2023-11-03T04:14:03.286491Z"
    },
    "papermill": {
     "duration": 0.058217,
     "end_time": "2023-11-03T04:14:03.290258",
     "exception": false,
     "start_time": "2023-11-03T04:14:03.232041",
     "status": "completed"
    },
    "tags": []
   },
   "outputs": [
    {
     "data": {
      "text/plain": [
       "User-ID\n",
       "11676     11144\n",
       "198711     6456\n",
       "153662     5814\n",
       "98391      5779\n",
       "35859      5646\n",
       "          ...  \n",
       "257700      200\n",
       "268622      200\n",
       "35433       200\n",
       "128208      200\n",
       "141902      200\n",
       "Name: count, Length: 816, dtype: int64"
      ]
     },
     "execution_count": 45,
     "metadata": {},
     "output_type": "execute_result"
    }
   ],
   "source": [
    "# Demo test\n",
    "userId_count[userId_count >= 200]"
   ]
  },
  {
   "cell_type": "code",
   "execution_count": 46,
   "id": "40c61445",
   "metadata": {
    "execution": {
     "iopub.execute_input": "2023-11-03T04:14:03.383132Z",
     "iopub.status.busy": "2023-11-03T04:14:03.382765Z",
     "iopub.status.idle": "2023-11-03T04:14:03.390347Z",
     "shell.execute_reply": "2023-11-03T04:14:03.389571Z"
    },
    "papermill": {
     "duration": 0.057176,
     "end_time": "2023-11-03T04:14:03.392425",
     "exception": false,
     "start_time": "2023-11-03T04:14:03.335249",
     "status": "completed"
    },
    "tags": []
   },
   "outputs": [
    {
     "data": {
      "text/plain": [
       "Index([ 11676, 198711, 153662,  98391,  35859, 212898, 278418,  76352, 110973,\n",
       "       235105,\n",
       "       ...\n",
       "       269890, 246311, 164323, 178199, 201783, 257700, 268622,  35433, 128208,\n",
       "       141902],\n",
       "      dtype='int64', name='User-ID', length=816)"
      ]
     },
     "execution_count": 46,
     "metadata": {},
     "output_type": "execute_result"
    }
   ],
   "source": [
    "userId_count[userId_count >= 200].index"
   ]
  },
  {
   "cell_type": "code",
   "execution_count": 47,
   "id": "b9c1d77a",
   "metadata": {
    "execution": {
     "iopub.execute_input": "2023-11-03T04:14:03.484582Z",
     "iopub.status.busy": "2023-11-03T04:14:03.484176Z",
     "iopub.status.idle": "2023-11-03T04:14:03.513012Z",
     "shell.execute_reply": "2023-11-03T04:14:03.511922Z"
    },
    "papermill": {
     "duration": 0.078189,
     "end_time": "2023-11-03T04:14:03.515577",
     "exception": false,
     "start_time": "2023-11-03T04:14:03.437388",
     "status": "completed"
    },
    "tags": []
   },
   "outputs": [
    {
     "data": {
      "text/plain": [
       "0          False\n",
       "1          False\n",
       "2           True\n",
       "3          False\n",
       "4          False\n",
       "           ...  \n",
       "1031131    False\n",
       "1031132    False\n",
       "1031133    False\n",
       "1031134    False\n",
       "1031135    False\n",
       "Name: User-ID, Length: 1031136, dtype: bool"
      ]
     },
     "execution_count": 47,
     "metadata": {},
     "output_type": "execute_result"
    }
   ],
   "source": [
    "ratings_with_books['User-ID'].isin(values=userId_count[userId_count >= 200].index)"
   ]
  },
  {
   "cell_type": "code",
   "execution_count": 48,
   "id": "750bfacc",
   "metadata": {
    "execution": {
     "iopub.execute_input": "2023-11-03T04:14:03.627996Z",
     "iopub.status.busy": "2023-11-03T04:14:03.626900Z",
     "iopub.status.idle": "2023-11-03T04:14:03.656401Z",
     "shell.execute_reply": "2023-11-03T04:14:03.655365Z"
    },
    "papermill": {
     "duration": 0.093286,
     "end_time": "2023-11-03T04:14:03.658861",
     "exception": false,
     "start_time": "2023-11-03T04:14:03.565575",
     "status": "completed"
    },
    "tags": []
   },
   "outputs": [
    {
     "data": {
      "text/plain": [
       "1031136"
      ]
     },
     "execution_count": 48,
     "metadata": {},
     "output_type": "execute_result"
    }
   ],
   "source": [
    "len(ratings_with_books['User-ID'].isin(values=userId_count[userId_count >= 200].index))"
   ]
  },
  {
   "cell_type": "code",
   "execution_count": 49,
   "id": "aaa48b48",
   "metadata": {
    "execution": {
     "iopub.execute_input": "2023-11-03T04:14:03.757869Z",
     "iopub.status.busy": "2023-11-03T04:14:03.756871Z",
     "iopub.status.idle": "2023-11-03T04:14:03.783139Z",
     "shell.execute_reply": "2023-11-03T04:14:03.782303Z"
    },
    "papermill": {
     "duration": 0.082057,
     "end_time": "2023-11-03T04:14:03.786157",
     "exception": false,
     "start_time": "2023-11-03T04:14:03.704100",
     "status": "completed"
    },
    "tags": []
   },
   "outputs": [
    {
     "data": {
      "text/plain": [
       "pandas.core.series.Series"
      ]
     },
     "execution_count": 49,
     "metadata": {},
     "output_type": "execute_result"
    }
   ],
   "source": [
    "type(ratings_with_books['User-ID'].isin(values=userId_count[userId_count >= 200].index))"
   ]
  },
  {
   "cell_type": "code",
   "execution_count": 50,
   "id": "3dbe5e97",
   "metadata": {
    "execution": {
     "iopub.execute_input": "2023-11-03T04:14:03.880565Z",
     "iopub.status.busy": "2023-11-03T04:14:03.880179Z",
     "iopub.status.idle": "2023-11-03T04:14:04.018264Z",
     "shell.execute_reply": "2023-11-03T04:14:04.017345Z"
    },
    "papermill": {
     "duration": 0.187921,
     "end_time": "2023-11-03T04:14:04.020937",
     "exception": false,
     "start_time": "2023-11-03T04:14:03.833016",
     "status": "completed"
    },
    "tags": []
   },
   "outputs": [],
   "source": [
    "filtered_rating_books = ratings_with_books[ratings_with_books['User-ID'].isin(values=userId_count[userId_count >= 200].index)]"
   ]
  },
  {
   "cell_type": "markdown",
   "id": "f153fd9c",
   "metadata": {
    "papermill": {
     "duration": 0.045081,
     "end_time": "2023-11-03T04:14:04.111820",
     "exception": false,
     "start_time": "2023-11-03T04:14:04.066739",
     "status": "completed"
    },
    "tags": []
   },
   "source": [
    "filtered_rating_books consist of users which have given ratings on minimum 200 books."
   ]
  },
  {
   "cell_type": "code",
   "execution_count": 51,
   "id": "c8060af2",
   "metadata": {
    "execution": {
     "iopub.execute_input": "2023-11-03T04:14:04.207416Z",
     "iopub.status.busy": "2023-11-03T04:14:04.206301Z",
     "iopub.status.idle": "2023-11-03T04:14:04.227443Z",
     "shell.execute_reply": "2023-11-03T04:14:04.226356Z"
    },
    "papermill": {
     "duration": 0.070769,
     "end_time": "2023-11-03T04:14:04.229834",
     "exception": false,
     "start_time": "2023-11-03T04:14:04.159065",
     "status": "completed"
    },
    "tags": []
   },
   "outputs": [
    {
     "data": {
      "text/html": [
       "<div>\n",
       "<style scoped>\n",
       "    .dataframe tbody tr th:only-of-type {\n",
       "        vertical-align: middle;\n",
       "    }\n",
       "\n",
       "    .dataframe tbody tr th {\n",
       "        vertical-align: top;\n",
       "    }\n",
       "\n",
       "    .dataframe thead th {\n",
       "        text-align: right;\n",
       "    }\n",
       "</style>\n",
       "<table border=\"1\" class=\"dataframe\">\n",
       "  <thead>\n",
       "    <tr style=\"text-align: right;\">\n",
       "      <th></th>\n",
       "      <th>User-ID</th>\n",
       "      <th>ISBN</th>\n",
       "      <th>Book-Rating</th>\n",
       "      <th>Book-Title</th>\n",
       "      <th>Book-Author</th>\n",
       "      <th>Year-Of-Publication</th>\n",
       "      <th>Publisher</th>\n",
       "      <th>Image-URL-S</th>\n",
       "      <th>Image-URL-M</th>\n",
       "      <th>Image-URL-L</th>\n",
       "    </tr>\n",
       "  </thead>\n",
       "  <tbody>\n",
       "    <tr>\n",
       "      <th>2</th>\n",
       "      <td>6543</td>\n",
       "      <td>034545104X</td>\n",
       "      <td>0</td>\n",
       "      <td>flesh tones: a novel</td>\n",
       "      <td>M. J. Rose</td>\n",
       "      <td>2002</td>\n",
       "      <td>Ballantine Books</td>\n",
       "      <td>http://images.amazon.com/images/P/034545104X.0...</td>\n",
       "      <td>http://images.amazon.com/images/P/034545104X.0...</td>\n",
       "      <td>http://images.amazon.com/images/P/034545104X.0...</td>\n",
       "    </tr>\n",
       "    <tr>\n",
       "      <th>5</th>\n",
       "      <td>23768</td>\n",
       "      <td>034545104X</td>\n",
       "      <td>0</td>\n",
       "      <td>flesh tones: a novel</td>\n",
       "      <td>M. J. Rose</td>\n",
       "      <td>2002</td>\n",
       "      <td>Ballantine Books</td>\n",
       "      <td>http://images.amazon.com/images/P/034545104X.0...</td>\n",
       "      <td>http://images.amazon.com/images/P/034545104X.0...</td>\n",
       "      <td>http://images.amazon.com/images/P/034545104X.0...</td>\n",
       "    </tr>\n",
       "    <tr>\n",
       "      <th>7</th>\n",
       "      <td>28523</td>\n",
       "      <td>034545104X</td>\n",
       "      <td>0</td>\n",
       "      <td>flesh tones: a novel</td>\n",
       "      <td>M. J. Rose</td>\n",
       "      <td>2002</td>\n",
       "      <td>Ballantine Books</td>\n",
       "      <td>http://images.amazon.com/images/P/034545104X.0...</td>\n",
       "      <td>http://images.amazon.com/images/P/034545104X.0...</td>\n",
       "      <td>http://images.amazon.com/images/P/034545104X.0...</td>\n",
       "    </tr>\n",
       "    <tr>\n",
       "      <th>15</th>\n",
       "      <td>77940</td>\n",
       "      <td>034545104X</td>\n",
       "      <td>0</td>\n",
       "      <td>flesh tones: a novel</td>\n",
       "      <td>M. J. Rose</td>\n",
       "      <td>2002</td>\n",
       "      <td>Ballantine Books</td>\n",
       "      <td>http://images.amazon.com/images/P/034545104X.0...</td>\n",
       "      <td>http://images.amazon.com/images/P/034545104X.0...</td>\n",
       "      <td>http://images.amazon.com/images/P/034545104X.0...</td>\n",
       "    </tr>\n",
       "    <tr>\n",
       "      <th>16</th>\n",
       "      <td>81977</td>\n",
       "      <td>034545104X</td>\n",
       "      <td>0</td>\n",
       "      <td>flesh tones: a novel</td>\n",
       "      <td>M. J. Rose</td>\n",
       "      <td>2002</td>\n",
       "      <td>Ballantine Books</td>\n",
       "      <td>http://images.amazon.com/images/P/034545104X.0...</td>\n",
       "      <td>http://images.amazon.com/images/P/034545104X.0...</td>\n",
       "      <td>http://images.amazon.com/images/P/034545104X.0...</td>\n",
       "    </tr>\n",
       "    <tr>\n",
       "      <th>...</th>\n",
       "      <td>...</td>\n",
       "      <td>...</td>\n",
       "      <td>...</td>\n",
       "      <td>...</td>\n",
       "      <td>...</td>\n",
       "      <td>...</td>\n",
       "      <td>...</td>\n",
       "      <td>...</td>\n",
       "      <td>...</td>\n",
       "      <td>...</td>\n",
       "    </tr>\n",
       "    <tr>\n",
       "      <th>1030883</th>\n",
       "      <td>275970</td>\n",
       "      <td>1880837927</td>\n",
       "      <td>0</td>\n",
       "      <td>the theology of the hammer</td>\n",
       "      <td>Millard Fuller</td>\n",
       "      <td>1994</td>\n",
       "      <td>Smyth &amp;amp; Helwys Publishing</td>\n",
       "      <td>http://images.amazon.com/images/P/1880837927.0...</td>\n",
       "      <td>http://images.amazon.com/images/P/1880837927.0...</td>\n",
       "      <td>http://images.amazon.com/images/P/1880837927.0...</td>\n",
       "    </tr>\n",
       "    <tr>\n",
       "      <th>1030884</th>\n",
       "      <td>275970</td>\n",
       "      <td>188717897X</td>\n",
       "      <td>0</td>\n",
       "      <td>the ordeal of integration: progress and resent...</td>\n",
       "      <td>Orlando Patterson</td>\n",
       "      <td>1998</td>\n",
       "      <td>Civitas Book Publisher</td>\n",
       "      <td>http://images.amazon.com/images/P/188717897X.0...</td>\n",
       "      <td>http://images.amazon.com/images/P/188717897X.0...</td>\n",
       "      <td>http://images.amazon.com/images/P/188717897X.0...</td>\n",
       "    </tr>\n",
       "    <tr>\n",
       "      <th>1030885</th>\n",
       "      <td>275970</td>\n",
       "      <td>1888889047</td>\n",
       "      <td>0</td>\n",
       "      <td>pushcart's complete rotten reviews &amp;amp; rejec...</td>\n",
       "      <td>Bill Henderson</td>\n",
       "      <td>1998</td>\n",
       "      <td>Pushcart Press</td>\n",
       "      <td>http://images.amazon.com/images/P/1888889047.0...</td>\n",
       "      <td>http://images.amazon.com/images/P/1888889047.0...</td>\n",
       "      <td>http://images.amazon.com/images/P/1888889047.0...</td>\n",
       "    </tr>\n",
       "    <tr>\n",
       "      <th>1030886</th>\n",
       "      <td>275970</td>\n",
       "      <td>1931868123</td>\n",
       "      <td>0</td>\n",
       "      <td>there's a porcupine in my outhouse: misadventu...</td>\n",
       "      <td>Mike Tougias</td>\n",
       "      <td>2002</td>\n",
       "      <td>Capital Books (VA)</td>\n",
       "      <td>http://images.amazon.com/images/P/1931868123.0...</td>\n",
       "      <td>http://images.amazon.com/images/P/1931868123.0...</td>\n",
       "      <td>http://images.amazon.com/images/P/1931868123.0...</td>\n",
       "    </tr>\n",
       "    <tr>\n",
       "      <th>1030887</th>\n",
       "      <td>275970</td>\n",
       "      <td>3411086211</td>\n",
       "      <td>10</td>\n",
       "      <td>die biene.</td>\n",
       "      <td>Sybil GrÃ?ÃÂ¤fin SchÃ?ÃÂ¶nfeldt</td>\n",
       "      <td>1993</td>\n",
       "      <td>Bibliographisches Institut, Mannheim</td>\n",
       "      <td>http://images.amazon.com/images/P/3411086211.0...</td>\n",
       "      <td>http://images.amazon.com/images/P/3411086211.0...</td>\n",
       "      <td>http://images.amazon.com/images/P/3411086211.0...</td>\n",
       "    </tr>\n",
       "  </tbody>\n",
       "</table>\n",
       "<p>475007 rows × 10 columns</p>\n",
       "</div>"
      ],
      "text/plain": [
       "         User-ID        ISBN  Book-Rating  \\\n",
       "2           6543  034545104X            0   \n",
       "5          23768  034545104X            0   \n",
       "7          28523  034545104X            0   \n",
       "15         77940  034545104X            0   \n",
       "16         81977  034545104X            0   \n",
       "...          ...         ...          ...   \n",
       "1030883   275970  1880837927            0   \n",
       "1030884   275970  188717897X            0   \n",
       "1030885   275970  1888889047            0   \n",
       "1030886   275970  1931868123            0   \n",
       "1030887   275970  3411086211           10   \n",
       "\n",
       "                                                Book-Title  \\\n",
       "2                                     flesh tones: a novel   \n",
       "5                                     flesh tones: a novel   \n",
       "7                                     flesh tones: a novel   \n",
       "15                                    flesh tones: a novel   \n",
       "16                                    flesh tones: a novel   \n",
       "...                                                    ...   \n",
       "1030883                         the theology of the hammer   \n",
       "1030884  the ordeal of integration: progress and resent...   \n",
       "1030885  pushcart's complete rotten reviews &amp; rejec...   \n",
       "1030886  there's a porcupine in my outhouse: misadventu...   \n",
       "1030887                                         die biene.   \n",
       "\n",
       "                                 Book-Author Year-Of-Publication  \\\n",
       "2                                 M. J. Rose                2002   \n",
       "5                                 M. J. Rose                2002   \n",
       "7                                 M. J. Rose                2002   \n",
       "15                                M. J. Rose                2002   \n",
       "16                                M. J. Rose                2002   \n",
       "...                                      ...                 ...   \n",
       "1030883                       Millard Fuller                1994   \n",
       "1030884                    Orlando Patterson                1998   \n",
       "1030885                       Bill Henderson                1998   \n",
       "1030886                         Mike Tougias                2002   \n",
       "1030887  Sybil GrÃ?ÃÂ¤fin SchÃ?ÃÂ¶nfeldt                1993   \n",
       "\n",
       "                                    Publisher  \\\n",
       "2                            Ballantine Books   \n",
       "5                            Ballantine Books   \n",
       "7                            Ballantine Books   \n",
       "15                           Ballantine Books   \n",
       "16                           Ballantine Books   \n",
       "...                                       ...   \n",
       "1030883         Smyth &amp; Helwys Publishing   \n",
       "1030884                Civitas Book Publisher   \n",
       "1030885                        Pushcart Press   \n",
       "1030886                    Capital Books (VA)   \n",
       "1030887  Bibliographisches Institut, Mannheim   \n",
       "\n",
       "                                               Image-URL-S  \\\n",
       "2        http://images.amazon.com/images/P/034545104X.0...   \n",
       "5        http://images.amazon.com/images/P/034545104X.0...   \n",
       "7        http://images.amazon.com/images/P/034545104X.0...   \n",
       "15       http://images.amazon.com/images/P/034545104X.0...   \n",
       "16       http://images.amazon.com/images/P/034545104X.0...   \n",
       "...                                                    ...   \n",
       "1030883  http://images.amazon.com/images/P/1880837927.0...   \n",
       "1030884  http://images.amazon.com/images/P/188717897X.0...   \n",
       "1030885  http://images.amazon.com/images/P/1888889047.0...   \n",
       "1030886  http://images.amazon.com/images/P/1931868123.0...   \n",
       "1030887  http://images.amazon.com/images/P/3411086211.0...   \n",
       "\n",
       "                                               Image-URL-M  \\\n",
       "2        http://images.amazon.com/images/P/034545104X.0...   \n",
       "5        http://images.amazon.com/images/P/034545104X.0...   \n",
       "7        http://images.amazon.com/images/P/034545104X.0...   \n",
       "15       http://images.amazon.com/images/P/034545104X.0...   \n",
       "16       http://images.amazon.com/images/P/034545104X.0...   \n",
       "...                                                    ...   \n",
       "1030883  http://images.amazon.com/images/P/1880837927.0...   \n",
       "1030884  http://images.amazon.com/images/P/188717897X.0...   \n",
       "1030885  http://images.amazon.com/images/P/1888889047.0...   \n",
       "1030886  http://images.amazon.com/images/P/1931868123.0...   \n",
       "1030887  http://images.amazon.com/images/P/3411086211.0...   \n",
       "\n",
       "                                               Image-URL-L  \n",
       "2        http://images.amazon.com/images/P/034545104X.0...  \n",
       "5        http://images.amazon.com/images/P/034545104X.0...  \n",
       "7        http://images.amazon.com/images/P/034545104X.0...  \n",
       "15       http://images.amazon.com/images/P/034545104X.0...  \n",
       "16       http://images.amazon.com/images/P/034545104X.0...  \n",
       "...                                                    ...  \n",
       "1030883  http://images.amazon.com/images/P/1880837927.0...  \n",
       "1030884  http://images.amazon.com/images/P/188717897X.0...  \n",
       "1030885  http://images.amazon.com/images/P/1888889047.0...  \n",
       "1030886  http://images.amazon.com/images/P/1931868123.0...  \n",
       "1030887  http://images.amazon.com/images/P/3411086211.0...  \n",
       "\n",
       "[475007 rows x 10 columns]"
      ]
     },
     "execution_count": 51,
     "metadata": {},
     "output_type": "execute_result"
    }
   ],
   "source": [
    "filtered_rating_books"
   ]
  },
  {
   "cell_type": "code",
   "execution_count": 52,
   "id": "463bcbda",
   "metadata": {
    "execution": {
     "iopub.execute_input": "2023-11-03T04:14:04.324143Z",
     "iopub.status.busy": "2023-11-03T04:14:04.323307Z",
     "iopub.status.idle": "2023-11-03T04:14:04.339019Z",
     "shell.execute_reply": "2023-11-03T04:14:04.337911Z"
    },
    "papermill": {
     "duration": 0.065418,
     "end_time": "2023-11-03T04:14:04.341331",
     "exception": false,
     "start_time": "2023-11-03T04:14:04.275913",
     "status": "completed"
    },
    "tags": []
   },
   "outputs": [
    {
     "data": {
      "text/plain": [
       "200"
      ]
     },
     "execution_count": 52,
     "metadata": {},
     "output_type": "execute_result"
    }
   ],
   "source": [
    "min(filtered_rating_books['User-ID'].value_counts())"
   ]
  },
  {
   "cell_type": "code",
   "execution_count": 53,
   "id": "27d04ff1",
   "metadata": {
    "execution": {
     "iopub.execute_input": "2023-11-03T04:14:04.436273Z",
     "iopub.status.busy": "2023-11-03T04:14:04.435439Z",
     "iopub.status.idle": "2023-11-03T04:14:04.442317Z",
     "shell.execute_reply": "2023-11-03T04:14:04.441443Z"
    },
    "papermill": {
     "duration": 0.056994,
     "end_time": "2023-11-03T04:14:04.444635",
     "exception": false,
     "start_time": "2023-11-03T04:14:04.387641",
     "status": "completed"
    },
    "tags": []
   },
   "outputs": [
    {
     "data": {
      "text/plain": [
       "(475007, 10)"
      ]
     },
     "execution_count": 53,
     "metadata": {},
     "output_type": "execute_result"
    }
   ],
   "source": [
    "filtered_rating_books.shape"
   ]
  },
  {
   "cell_type": "markdown",
   "id": "77657389",
   "metadata": {
    "papermill": {
     "duration": 0.047722,
     "end_time": "2023-11-03T04:14:04.539334",
     "exception": false,
     "start_time": "2023-11-03T04:14:04.491612",
     "status": "completed"
    },
    "tags": []
   },
   "source": [
    "consider those books as a popular books which have got 50 time ratings"
   ]
  },
  {
   "cell_type": "code",
   "execution_count": 54,
   "id": "f9ecad99",
   "metadata": {
    "execution": {
     "iopub.execute_input": "2023-11-03T04:14:04.634482Z",
     "iopub.status.busy": "2023-11-03T04:14:04.633703Z",
     "iopub.status.idle": "2023-11-03T04:14:04.649625Z",
     "shell.execute_reply": "2023-11-03T04:14:04.648479Z"
    },
    "papermill": {
     "duration": 0.066268,
     "end_time": "2023-11-03T04:14:04.651994",
     "exception": false,
     "start_time": "2023-11-03T04:14:04.585726",
     "status": "completed"
    },
    "tags": []
   },
   "outputs": [
    {
     "data": {
      "text/html": [
       "<div>\n",
       "<style scoped>\n",
       "    .dataframe tbody tr th:only-of-type {\n",
       "        vertical-align: middle;\n",
       "    }\n",
       "\n",
       "    .dataframe tbody tr th {\n",
       "        vertical-align: top;\n",
       "    }\n",
       "\n",
       "    .dataframe thead th {\n",
       "        text-align: right;\n",
       "    }\n",
       "</style>\n",
       "<table border=\"1\" class=\"dataframe\">\n",
       "  <thead>\n",
       "    <tr style=\"text-align: right;\">\n",
       "      <th></th>\n",
       "      <th>User-ID</th>\n",
       "      <th>ISBN</th>\n",
       "      <th>Book-Rating</th>\n",
       "      <th>Book-Title</th>\n",
       "      <th>Book-Author</th>\n",
       "      <th>Year-Of-Publication</th>\n",
       "      <th>Publisher</th>\n",
       "      <th>Image-URL-S</th>\n",
       "      <th>Image-URL-M</th>\n",
       "      <th>Image-URL-L</th>\n",
       "    </tr>\n",
       "  </thead>\n",
       "  <tbody>\n",
       "    <tr>\n",
       "      <th>2</th>\n",
       "      <td>6543</td>\n",
       "      <td>034545104X</td>\n",
       "      <td>0</td>\n",
       "      <td>flesh tones: a novel</td>\n",
       "      <td>M. J. Rose</td>\n",
       "      <td>2002</td>\n",
       "      <td>Ballantine Books</td>\n",
       "      <td>http://images.amazon.com/images/P/034545104X.0...</td>\n",
       "      <td>http://images.amazon.com/images/P/034545104X.0...</td>\n",
       "      <td>http://images.amazon.com/images/P/034545104X.0...</td>\n",
       "    </tr>\n",
       "    <tr>\n",
       "      <th>5</th>\n",
       "      <td>23768</td>\n",
       "      <td>034545104X</td>\n",
       "      <td>0</td>\n",
       "      <td>flesh tones: a novel</td>\n",
       "      <td>M. J. Rose</td>\n",
       "      <td>2002</td>\n",
       "      <td>Ballantine Books</td>\n",
       "      <td>http://images.amazon.com/images/P/034545104X.0...</td>\n",
       "      <td>http://images.amazon.com/images/P/034545104X.0...</td>\n",
       "      <td>http://images.amazon.com/images/P/034545104X.0...</td>\n",
       "    </tr>\n",
       "    <tr>\n",
       "      <th>7</th>\n",
       "      <td>28523</td>\n",
       "      <td>034545104X</td>\n",
       "      <td>0</td>\n",
       "      <td>flesh tones: a novel</td>\n",
       "      <td>M. J. Rose</td>\n",
       "      <td>2002</td>\n",
       "      <td>Ballantine Books</td>\n",
       "      <td>http://images.amazon.com/images/P/034545104X.0...</td>\n",
       "      <td>http://images.amazon.com/images/P/034545104X.0...</td>\n",
       "      <td>http://images.amazon.com/images/P/034545104X.0...</td>\n",
       "    </tr>\n",
       "    <tr>\n",
       "      <th>15</th>\n",
       "      <td>77940</td>\n",
       "      <td>034545104X</td>\n",
       "      <td>0</td>\n",
       "      <td>flesh tones: a novel</td>\n",
       "      <td>M. J. Rose</td>\n",
       "      <td>2002</td>\n",
       "      <td>Ballantine Books</td>\n",
       "      <td>http://images.amazon.com/images/P/034545104X.0...</td>\n",
       "      <td>http://images.amazon.com/images/P/034545104X.0...</td>\n",
       "      <td>http://images.amazon.com/images/P/034545104X.0...</td>\n",
       "    </tr>\n",
       "    <tr>\n",
       "      <th>16</th>\n",
       "      <td>81977</td>\n",
       "      <td>034545104X</td>\n",
       "      <td>0</td>\n",
       "      <td>flesh tones: a novel</td>\n",
       "      <td>M. J. Rose</td>\n",
       "      <td>2002</td>\n",
       "      <td>Ballantine Books</td>\n",
       "      <td>http://images.amazon.com/images/P/034545104X.0...</td>\n",
       "      <td>http://images.amazon.com/images/P/034545104X.0...</td>\n",
       "      <td>http://images.amazon.com/images/P/034545104X.0...</td>\n",
       "    </tr>\n",
       "  </tbody>\n",
       "</table>\n",
       "</div>"
      ],
      "text/plain": [
       "    User-ID        ISBN  Book-Rating            Book-Title Book-Author  \\\n",
       "2      6543  034545104X            0  flesh tones: a novel  M. J. Rose   \n",
       "5     23768  034545104X            0  flesh tones: a novel  M. J. Rose   \n",
       "7     28523  034545104X            0  flesh tones: a novel  M. J. Rose   \n",
       "15    77940  034545104X            0  flesh tones: a novel  M. J. Rose   \n",
       "16    81977  034545104X            0  flesh tones: a novel  M. J. Rose   \n",
       "\n",
       "   Year-Of-Publication         Publisher  \\\n",
       "2                 2002  Ballantine Books   \n",
       "5                 2002  Ballantine Books   \n",
       "7                 2002  Ballantine Books   \n",
       "15                2002  Ballantine Books   \n",
       "16                2002  Ballantine Books   \n",
       "\n",
       "                                          Image-URL-S  \\\n",
       "2   http://images.amazon.com/images/P/034545104X.0...   \n",
       "5   http://images.amazon.com/images/P/034545104X.0...   \n",
       "7   http://images.amazon.com/images/P/034545104X.0...   \n",
       "15  http://images.amazon.com/images/P/034545104X.0...   \n",
       "16  http://images.amazon.com/images/P/034545104X.0...   \n",
       "\n",
       "                                          Image-URL-M  \\\n",
       "2   http://images.amazon.com/images/P/034545104X.0...   \n",
       "5   http://images.amazon.com/images/P/034545104X.0...   \n",
       "7   http://images.amazon.com/images/P/034545104X.0...   \n",
       "15  http://images.amazon.com/images/P/034545104X.0...   \n",
       "16  http://images.amazon.com/images/P/034545104X.0...   \n",
       "\n",
       "                                          Image-URL-L  \n",
       "2   http://images.amazon.com/images/P/034545104X.0...  \n",
       "5   http://images.amazon.com/images/P/034545104X.0...  \n",
       "7   http://images.amazon.com/images/P/034545104X.0...  \n",
       "15  http://images.amazon.com/images/P/034545104X.0...  \n",
       "16  http://images.amazon.com/images/P/034545104X.0...  "
      ]
     },
     "execution_count": 54,
     "metadata": {},
     "output_type": "execute_result"
    }
   ],
   "source": [
    "filtered_rating_books.head()"
   ]
  },
  {
   "cell_type": "code",
   "execution_count": 55,
   "id": "d5b81a56",
   "metadata": {
    "execution": {
     "iopub.execute_input": "2023-11-03T04:14:04.749102Z",
     "iopub.status.busy": "2023-11-03T04:14:04.748695Z",
     "iopub.status.idle": "2023-11-03T04:14:04.755585Z",
     "shell.execute_reply": "2023-11-03T04:14:04.754571Z"
    },
    "papermill": {
     "duration": 0.058554,
     "end_time": "2023-11-03T04:14:04.757771",
     "exception": false,
     "start_time": "2023-11-03T04:14:04.699217",
     "status": "completed"
    },
    "tags": []
   },
   "outputs": [
    {
     "data": {
      "text/plain": [
       "(475007, 10)"
      ]
     },
     "execution_count": 55,
     "metadata": {},
     "output_type": "execute_result"
    }
   ],
   "source": [
    "filtered_rating_books.shape"
   ]
  },
  {
   "cell_type": "code",
   "execution_count": 56,
   "id": "7bdb22f0",
   "metadata": {
    "execution": {
     "iopub.execute_input": "2023-11-03T04:14:04.854013Z",
     "iopub.status.busy": "2023-11-03T04:14:04.853234Z",
     "iopub.status.idle": "2023-11-03T04:14:05.417668Z",
     "shell.execute_reply": "2023-11-03T04:14:05.416732Z"
    },
    "papermill": {
     "duration": 0.615505,
     "end_time": "2023-11-03T04:14:05.420262",
     "exception": false,
     "start_time": "2023-11-03T04:14:04.804757",
     "status": "completed"
    },
    "tags": []
   },
   "outputs": [
    {
     "data": {
      "text/plain": [
       "Book-Title\n",
       " a light in the storm: the civil war diary of amelia martin, fenwick island, delaware, 1861 (dear america)    False\n",
       " always have popsicles                                                                                        False\n",
       " apple magic (the collector's series)                                                                         False\n",
       " beyond ibm: leadership marketing and finance for the 1990s                                                   False\n",
       " clifford visita el hospital (clifford el gran perro colorado)                                                False\n",
       "                                                                                                              ...  \n",
       "ã?ã?ber das fernsehen.                                                                                      False\n",
       "ã?ã?ber die pflicht zum ungehorsam gegen den staat.                                                         False\n",
       "ã?ã?lpiraten.                                                                                               False\n",
       "ã?ã?stlich der berge.                                                                                       False\n",
       "ã?ã?thique en toc                                                                                           False\n",
       "Name: Book-Rating, Length: 154367, dtype: bool"
      ]
     },
     "execution_count": 56,
     "metadata": {},
     "output_type": "execute_result"
    }
   ],
   "source": [
    "y = filtered_rating_books.groupby(by=\"Book-Title\")['Book-Rating'].count() >= 50\n",
    "\n",
    "y"
   ]
  },
  {
   "cell_type": "code",
   "execution_count": 57,
   "id": "fd6b4c86",
   "metadata": {
    "execution": {
     "iopub.execute_input": "2023-11-03T04:14:05.516382Z",
     "iopub.status.busy": "2023-11-03T04:14:05.515638Z",
     "iopub.status.idle": "2023-11-03T04:14:05.521332Z",
     "shell.execute_reply": "2023-11-03T04:14:05.520573Z"
    },
    "papermill": {
     "duration": 0.056159,
     "end_time": "2023-11-03T04:14:05.523553",
     "exception": false,
     "start_time": "2023-11-03T04:14:05.467394",
     "status": "completed"
    },
    "tags": []
   },
   "outputs": [
    {
     "data": {
      "text/plain": [
       "154367"
      ]
     },
     "execution_count": 57,
     "metadata": {},
     "output_type": "execute_result"
    }
   ],
   "source": [
    "len(y)"
   ]
  },
  {
   "cell_type": "code",
   "execution_count": 58,
   "id": "cee6a555",
   "metadata": {
    "execution": {
     "iopub.execute_input": "2023-11-03T04:14:05.620525Z",
     "iopub.status.busy": "2023-11-03T04:14:05.619796Z",
     "iopub.status.idle": "2023-11-03T04:14:05.626032Z",
     "shell.execute_reply": "2023-11-03T04:14:05.624760Z"
    },
    "papermill": {
     "duration": 0.057613,
     "end_time": "2023-11-03T04:14:05.628421",
     "exception": false,
     "start_time": "2023-11-03T04:14:05.570808",
     "status": "completed"
    },
    "tags": []
   },
   "outputs": [
    {
     "data": {
      "text/plain": [
       "pandas.core.series.Series"
      ]
     },
     "execution_count": 58,
     "metadata": {},
     "output_type": "execute_result"
    }
   ],
   "source": [
    "type(y)"
   ]
  },
  {
   "cell_type": "code",
   "execution_count": 59,
   "id": "aa869a78",
   "metadata": {
    "execution": {
     "iopub.execute_input": "2023-11-03T04:14:05.727427Z",
     "iopub.status.busy": "2023-11-03T04:14:05.726407Z",
     "iopub.status.idle": "2023-11-03T04:14:05.734035Z",
     "shell.execute_reply": "2023-11-03T04:14:05.732963Z"
    },
    "papermill": {
     "duration": 0.059846,
     "end_time": "2023-11-03T04:14:05.736184",
     "exception": false,
     "start_time": "2023-11-03T04:14:05.676338",
     "status": "completed"
    },
    "tags": []
   },
   "outputs": [
    {
     "data": {
      "text/plain": [
       "Index(['1984', '1st to die: a novel', '2nd chance', '4 blondes',\n",
       "       '\\o\\\" is for outlaw\"', 'a bend in the road', 'a case of need',\n",
       "       'a child called \\it\\\": one child's courage to survive\"',\n",
       "       'a civil action', 'a cry in the night',\n",
       "       ...\n",
       "       'winter solstice', 'wish you well', 'without remorse',\n",
       "       'wizard and glass (the dark tower, book 4)', 'wld accordng garp',\n",
       "       'wuthering heights', 'year of wonders', 'you belong to me',\n",
       "       'zen and the art of motorcycle maintenance: an inquiry into values',\n",
       "       'zoya'],\n",
       "      dtype='object', name='Book-Title', length=719)"
      ]
     },
     "execution_count": 59,
     "metadata": {},
     "output_type": "execute_result"
    }
   ],
   "source": [
    "famous_books = y[y].index\n",
    "\n",
    "famous_books"
   ]
  },
  {
   "cell_type": "code",
   "execution_count": 60,
   "id": "a25912d3",
   "metadata": {
    "execution": {
     "iopub.execute_input": "2023-11-03T04:14:05.832700Z",
     "iopub.status.busy": "2023-11-03T04:14:05.832267Z",
     "iopub.status.idle": "2023-11-03T04:14:05.838244Z",
     "shell.execute_reply": "2023-11-03T04:14:05.837480Z"
    },
    "papermill": {
     "duration": 0.056809,
     "end_time": "2023-11-03T04:14:05.840450",
     "exception": false,
     "start_time": "2023-11-03T04:14:05.783641",
     "status": "completed"
    },
    "tags": []
   },
   "outputs": [
    {
     "data": {
      "text/plain": [
       "719"
      ]
     },
     "execution_count": 60,
     "metadata": {},
     "output_type": "execute_result"
    }
   ],
   "source": [
    "len(famous_books)"
   ]
  },
  {
   "cell_type": "markdown",
   "id": "993f44a1",
   "metadata": {
    "papermill": {
     "duration": 0.050179,
     "end_time": "2023-11-03T04:14:05.938612",
     "exception": false,
     "start_time": "2023-11-03T04:14:05.888433",
     "status": "completed"
    },
    "tags": []
   },
   "source": [
    "from filtered_rating_books we will combine top rated books along with book title to give an advanced book-rating dataframe called popular_books"
   ]
  },
  {
   "cell_type": "code",
   "execution_count": 61,
   "id": "462cbb26",
   "metadata": {
    "execution": {
     "iopub.execute_input": "2023-11-03T04:14:06.037085Z",
     "iopub.status.busy": "2023-11-03T04:14:06.036573Z",
     "iopub.status.idle": "2023-11-03T04:14:06.135076Z",
     "shell.execute_reply": "2023-11-03T04:14:06.133410Z"
    },
    "papermill": {
     "duration": 0.152535,
     "end_time": "2023-11-03T04:14:06.138706",
     "exception": false,
     "start_time": "2023-11-03T04:14:05.986171",
     "status": "completed"
    },
    "tags": []
   },
   "outputs": [
    {
     "data": {
      "text/html": [
       "<div>\n",
       "<style scoped>\n",
       "    .dataframe tbody tr th:only-of-type {\n",
       "        vertical-align: middle;\n",
       "    }\n",
       "\n",
       "    .dataframe tbody tr th {\n",
       "        vertical-align: top;\n",
       "    }\n",
       "\n",
       "    .dataframe thead th {\n",
       "        text-align: right;\n",
       "    }\n",
       "</style>\n",
       "<table border=\"1\" class=\"dataframe\">\n",
       "  <thead>\n",
       "    <tr style=\"text-align: right;\">\n",
       "      <th></th>\n",
       "      <th>User-ID</th>\n",
       "      <th>ISBN</th>\n",
       "      <th>Book-Rating</th>\n",
       "      <th>Book-Title</th>\n",
       "      <th>Book-Author</th>\n",
       "      <th>Year-Of-Publication</th>\n",
       "      <th>Publisher</th>\n",
       "      <th>Image-URL-S</th>\n",
       "      <th>Image-URL-M</th>\n",
       "      <th>Image-URL-L</th>\n",
       "    </tr>\n",
       "  </thead>\n",
       "  <tbody>\n",
       "    <tr>\n",
       "      <th>63</th>\n",
       "      <td>278418</td>\n",
       "      <td>0446520802</td>\n",
       "      <td>0</td>\n",
       "      <td>the notebook</td>\n",
       "      <td>Nicholas Sparks</td>\n",
       "      <td>1996</td>\n",
       "      <td>Warner Books</td>\n",
       "      <td>http://images.amazon.com/images/P/0446520802.0...</td>\n",
       "      <td>http://images.amazon.com/images/P/0446520802.0...</td>\n",
       "      <td>http://images.amazon.com/images/P/0446520802.0...</td>\n",
       "    </tr>\n",
       "    <tr>\n",
       "      <th>65</th>\n",
       "      <td>3363</td>\n",
       "      <td>0446520802</td>\n",
       "      <td>0</td>\n",
       "      <td>the notebook</td>\n",
       "      <td>Nicholas Sparks</td>\n",
       "      <td>1996</td>\n",
       "      <td>Warner Books</td>\n",
       "      <td>http://images.amazon.com/images/P/0446520802.0...</td>\n",
       "      <td>http://images.amazon.com/images/P/0446520802.0...</td>\n",
       "      <td>http://images.amazon.com/images/P/0446520802.0...</td>\n",
       "    </tr>\n",
       "    <tr>\n",
       "      <th>66</th>\n",
       "      <td>7158</td>\n",
       "      <td>0446520802</td>\n",
       "      <td>10</td>\n",
       "      <td>the notebook</td>\n",
       "      <td>Nicholas Sparks</td>\n",
       "      <td>1996</td>\n",
       "      <td>Warner Books</td>\n",
       "      <td>http://images.amazon.com/images/P/0446520802.0...</td>\n",
       "      <td>http://images.amazon.com/images/P/0446520802.0...</td>\n",
       "      <td>http://images.amazon.com/images/P/0446520802.0...</td>\n",
       "    </tr>\n",
       "    <tr>\n",
       "      <th>69</th>\n",
       "      <td>11676</td>\n",
       "      <td>0446520802</td>\n",
       "      <td>10</td>\n",
       "      <td>the notebook</td>\n",
       "      <td>Nicholas Sparks</td>\n",
       "      <td>1996</td>\n",
       "      <td>Warner Books</td>\n",
       "      <td>http://images.amazon.com/images/P/0446520802.0...</td>\n",
       "      <td>http://images.amazon.com/images/P/0446520802.0...</td>\n",
       "      <td>http://images.amazon.com/images/P/0446520802.0...</td>\n",
       "    </tr>\n",
       "    <tr>\n",
       "      <th>74</th>\n",
       "      <td>23768</td>\n",
       "      <td>0446520802</td>\n",
       "      <td>6</td>\n",
       "      <td>the notebook</td>\n",
       "      <td>Nicholas Sparks</td>\n",
       "      <td>1996</td>\n",
       "      <td>Warner Books</td>\n",
       "      <td>http://images.amazon.com/images/P/0446520802.0...</td>\n",
       "      <td>http://images.amazon.com/images/P/0446520802.0...</td>\n",
       "      <td>http://images.amazon.com/images/P/0446520802.0...</td>\n",
       "    </tr>\n",
       "    <tr>\n",
       "      <th>...</th>\n",
       "      <td>...</td>\n",
       "      <td>...</td>\n",
       "      <td>...</td>\n",
       "      <td>...</td>\n",
       "      <td>...</td>\n",
       "      <td>...</td>\n",
       "      <td>...</td>\n",
       "      <td>...</td>\n",
       "      <td>...</td>\n",
       "      <td>...</td>\n",
       "    </tr>\n",
       "    <tr>\n",
       "      <th>1026724</th>\n",
       "      <td>266865</td>\n",
       "      <td>0531001725</td>\n",
       "      <td>10</td>\n",
       "      <td>the catcher in the rye</td>\n",
       "      <td>Jerome David Salinger</td>\n",
       "      <td>1973</td>\n",
       "      <td>Scholastic Library Pub</td>\n",
       "      <td>http://images.amazon.com/images/P/0531001725.0...</td>\n",
       "      <td>http://images.amazon.com/images/P/0531001725.0...</td>\n",
       "      <td>http://images.amazon.com/images/P/0531001725.0...</td>\n",
       "    </tr>\n",
       "    <tr>\n",
       "      <th>1027923</th>\n",
       "      <td>269566</td>\n",
       "      <td>0670809381</td>\n",
       "      <td>0</td>\n",
       "      <td>echoes</td>\n",
       "      <td>Maeve Binchy</td>\n",
       "      <td>1986</td>\n",
       "      <td>Penguin USA</td>\n",
       "      <td>http://images.amazon.com/images/P/0670809381.0...</td>\n",
       "      <td>http://images.amazon.com/images/P/0670809381.0...</td>\n",
       "      <td>http://images.amazon.com/images/P/0670809381.0...</td>\n",
       "    </tr>\n",
       "    <tr>\n",
       "      <th>1028777</th>\n",
       "      <td>271284</td>\n",
       "      <td>0440910927</td>\n",
       "      <td>0</td>\n",
       "      <td>the rainmaker</td>\n",
       "      <td>John Grisham</td>\n",
       "      <td>1995</td>\n",
       "      <td>Island</td>\n",
       "      <td>http://images.amazon.com/images/P/0440910927.0...</td>\n",
       "      <td>http://images.amazon.com/images/P/0440910927.0...</td>\n",
       "      <td>http://images.amazon.com/images/P/0440910927.0...</td>\n",
       "    </tr>\n",
       "    <tr>\n",
       "      <th>1029070</th>\n",
       "      <td>271705</td>\n",
       "      <td>B0001PIOX4</td>\n",
       "      <td>0</td>\n",
       "      <td>fahrenheit 451</td>\n",
       "      <td>Ray Bradbury</td>\n",
       "      <td>1993</td>\n",
       "      <td>Simon &amp;amp; Schuster</td>\n",
       "      <td>http://images.amazon.com/images/P/B0001PIOX4.0...</td>\n",
       "      <td>http://images.amazon.com/images/P/B0001PIOX4.0...</td>\n",
       "      <td>http://images.amazon.com/images/P/B0001PIOX4.0...</td>\n",
       "    </tr>\n",
       "    <tr>\n",
       "      <th>1030868</th>\n",
       "      <td>275970</td>\n",
       "      <td>1586210661</td>\n",
       "      <td>9</td>\n",
       "      <td>me talk pretty one day</td>\n",
       "      <td>David Sedaris</td>\n",
       "      <td>2001</td>\n",
       "      <td>Time Warner Audio Major</td>\n",
       "      <td>http://images.amazon.com/images/P/1586210661.0...</td>\n",
       "      <td>http://images.amazon.com/images/P/1586210661.0...</td>\n",
       "      <td>http://images.amazon.com/images/P/1586210661.0...</td>\n",
       "    </tr>\n",
       "  </tbody>\n",
       "</table>\n",
       "<p>60177 rows × 10 columns</p>\n",
       "</div>"
      ],
      "text/plain": [
       "         User-ID        ISBN  Book-Rating              Book-Title  \\\n",
       "63        278418  0446520802            0            the notebook   \n",
       "65          3363  0446520802            0            the notebook   \n",
       "66          7158  0446520802           10            the notebook   \n",
       "69         11676  0446520802           10            the notebook   \n",
       "74         23768  0446520802            6            the notebook   \n",
       "...          ...         ...          ...                     ...   \n",
       "1026724   266865  0531001725           10  the catcher in the rye   \n",
       "1027923   269566  0670809381            0                  echoes   \n",
       "1028777   271284  0440910927            0           the rainmaker   \n",
       "1029070   271705  B0001PIOX4            0          fahrenheit 451   \n",
       "1030868   275970  1586210661            9  me talk pretty one day   \n",
       "\n",
       "                   Book-Author Year-Of-Publication                Publisher  \\\n",
       "63             Nicholas Sparks                1996             Warner Books   \n",
       "65             Nicholas Sparks                1996             Warner Books   \n",
       "66             Nicholas Sparks                1996             Warner Books   \n",
       "69             Nicholas Sparks                1996             Warner Books   \n",
       "74             Nicholas Sparks                1996             Warner Books   \n",
       "...                        ...                 ...                      ...   \n",
       "1026724  Jerome David Salinger                1973   Scholastic Library Pub   \n",
       "1027923           Maeve Binchy                1986              Penguin USA   \n",
       "1028777           John Grisham                1995                   Island   \n",
       "1029070           Ray Bradbury                1993     Simon &amp; Schuster   \n",
       "1030868          David Sedaris                2001  Time Warner Audio Major   \n",
       "\n",
       "                                               Image-URL-S  \\\n",
       "63       http://images.amazon.com/images/P/0446520802.0...   \n",
       "65       http://images.amazon.com/images/P/0446520802.0...   \n",
       "66       http://images.amazon.com/images/P/0446520802.0...   \n",
       "69       http://images.amazon.com/images/P/0446520802.0...   \n",
       "74       http://images.amazon.com/images/P/0446520802.0...   \n",
       "...                                                    ...   \n",
       "1026724  http://images.amazon.com/images/P/0531001725.0...   \n",
       "1027923  http://images.amazon.com/images/P/0670809381.0...   \n",
       "1028777  http://images.amazon.com/images/P/0440910927.0...   \n",
       "1029070  http://images.amazon.com/images/P/B0001PIOX4.0...   \n",
       "1030868  http://images.amazon.com/images/P/1586210661.0...   \n",
       "\n",
       "                                               Image-URL-M  \\\n",
       "63       http://images.amazon.com/images/P/0446520802.0...   \n",
       "65       http://images.amazon.com/images/P/0446520802.0...   \n",
       "66       http://images.amazon.com/images/P/0446520802.0...   \n",
       "69       http://images.amazon.com/images/P/0446520802.0...   \n",
       "74       http://images.amazon.com/images/P/0446520802.0...   \n",
       "...                                                    ...   \n",
       "1026724  http://images.amazon.com/images/P/0531001725.0...   \n",
       "1027923  http://images.amazon.com/images/P/0670809381.0...   \n",
       "1028777  http://images.amazon.com/images/P/0440910927.0...   \n",
       "1029070  http://images.amazon.com/images/P/B0001PIOX4.0...   \n",
       "1030868  http://images.amazon.com/images/P/1586210661.0...   \n",
       "\n",
       "                                               Image-URL-L  \n",
       "63       http://images.amazon.com/images/P/0446520802.0...  \n",
       "65       http://images.amazon.com/images/P/0446520802.0...  \n",
       "66       http://images.amazon.com/images/P/0446520802.0...  \n",
       "69       http://images.amazon.com/images/P/0446520802.0...  \n",
       "74       http://images.amazon.com/images/P/0446520802.0...  \n",
       "...                                                    ...  \n",
       "1026724  http://images.amazon.com/images/P/0531001725.0...  \n",
       "1027923  http://images.amazon.com/images/P/0670809381.0...  \n",
       "1028777  http://images.amazon.com/images/P/0440910927.0...  \n",
       "1029070  http://images.amazon.com/images/P/B0001PIOX4.0...  \n",
       "1030868  http://images.amazon.com/images/P/1586210661.0...  \n",
       "\n",
       "[60177 rows x 10 columns]"
      ]
     },
     "execution_count": 61,
     "metadata": {},
     "output_type": "execute_result"
    }
   ],
   "source": [
    "popular_books = filtered_rating_books[filtered_rating_books['Book-Title'].isin(values=famous_books)]\n",
    "\n",
    "popular_books"
   ]
  },
  {
   "cell_type": "code",
   "execution_count": 62,
   "id": "93e9e406",
   "metadata": {
    "execution": {
     "iopub.execute_input": "2023-11-03T04:14:06.257594Z",
     "iopub.status.busy": "2023-11-03T04:14:06.257193Z",
     "iopub.status.idle": "2023-11-03T04:14:06.264476Z",
     "shell.execute_reply": "2023-11-03T04:14:06.263347Z"
    },
    "papermill": {
     "duration": 0.05954,
     "end_time": "2023-11-03T04:14:06.266873",
     "exception": false,
     "start_time": "2023-11-03T04:14:06.207333",
     "status": "completed"
    },
    "tags": []
   },
   "outputs": [
    {
     "data": {
      "text/plain": [
       "(60177, 10)"
      ]
     },
     "execution_count": 62,
     "metadata": {},
     "output_type": "execute_result"
    }
   ],
   "source": [
    "popular_books.shape"
   ]
  },
  {
   "cell_type": "code",
   "execution_count": 63,
   "id": "37db8191",
   "metadata": {
    "execution": {
     "iopub.execute_input": "2023-11-03T04:14:06.365727Z",
     "iopub.status.busy": "2023-11-03T04:14:06.365331Z",
     "iopub.status.idle": "2023-11-03T04:14:06.425402Z",
     "shell.execute_reply": "2023-11-03T04:14:06.424330Z"
    },
    "papermill": {
     "duration": 0.112529,
     "end_time": "2023-11-03T04:14:06.427829",
     "exception": false,
     "start_time": "2023-11-03T04:14:06.315300",
     "status": "completed"
    },
    "tags": []
   },
   "outputs": [
    {
     "data": {
      "text/plain": [
       "User-ID                0\n",
       "ISBN                   0\n",
       "Book-Rating            0\n",
       "Book-Title             0\n",
       "Book-Author            0\n",
       "Year-Of-Publication    0\n",
       "Publisher              0\n",
       "Image-URL-S            0\n",
       "Image-URL-M            0\n",
       "Image-URL-L            0\n",
       "dtype: int64"
      ]
     },
     "execution_count": 63,
     "metadata": {},
     "output_type": "execute_result"
    }
   ],
   "source": [
    "popular_books.isna().sum()"
   ]
  },
  {
   "cell_type": "code",
   "execution_count": 64,
   "id": "4950c036",
   "metadata": {
    "execution": {
     "iopub.execute_input": "2023-11-03T04:14:06.527885Z",
     "iopub.status.busy": "2023-11-03T04:14:06.527462Z",
     "iopub.status.idle": "2023-11-03T04:14:06.535312Z",
     "shell.execute_reply": "2023-11-03T04:14:06.534012Z"
    },
    "papermill": {
     "duration": 0.060975,
     "end_time": "2023-11-03T04:14:06.537627",
     "exception": false,
     "start_time": "2023-11-03T04:14:06.476652",
     "status": "completed"
    },
    "tags": []
   },
   "outputs": [
    {
     "data": {
      "text/plain": [
       "815"
      ]
     },
     "execution_count": 64,
     "metadata": {},
     "output_type": "execute_result"
    }
   ],
   "source": [
    "popular_books['User-ID'].nunique()"
   ]
  },
  {
   "cell_type": "code",
   "execution_count": 65,
   "id": "9629b956",
   "metadata": {
    "execution": {
     "iopub.execute_input": "2023-11-03T04:14:06.642332Z",
     "iopub.status.busy": "2023-11-03T04:14:06.641122Z",
     "iopub.status.idle": "2023-11-03T04:14:06.648468Z",
     "shell.execute_reply": "2023-11-03T04:14:06.647677Z"
    },
    "papermill": {
     "duration": 0.063367,
     "end_time": "2023-11-03T04:14:06.650601",
     "exception": false,
     "start_time": "2023-11-03T04:14:06.587234",
     "status": "completed"
    },
    "tags": []
   },
   "outputs": [
    {
     "data": {
      "text/plain": [
       "11"
      ]
     },
     "execution_count": 65,
     "metadata": {},
     "output_type": "execute_result"
    }
   ],
   "source": [
    "popular_books['Book-Rating'].nunique()"
   ]
  },
  {
   "cell_type": "code",
   "execution_count": 66,
   "id": "3a53d681",
   "metadata": {
    "execution": {
     "iopub.execute_input": "2023-11-03T04:14:06.750414Z",
     "iopub.status.busy": "2023-11-03T04:14:06.749554Z",
     "iopub.status.idle": "2023-11-03T04:14:06.764183Z",
     "shell.execute_reply": "2023-11-03T04:14:06.763050Z"
    },
    "papermill": {
     "duration": 0.067199,
     "end_time": "2023-11-03T04:14:06.766434",
     "exception": false,
     "start_time": "2023-11-03T04:14:06.699235",
     "status": "completed"
    },
    "tags": []
   },
   "outputs": [
    {
     "data": {
      "text/plain": [
       "719"
      ]
     },
     "execution_count": 66,
     "metadata": {},
     "output_type": "execute_result"
    }
   ],
   "source": [
    "popular_books['Book-Title'].nunique()"
   ]
  },
  {
   "cell_type": "markdown",
   "id": "465319f6",
   "metadata": {
    "papermill": {
     "duration": 0.048729,
     "end_time": "2023-11-03T04:14:06.863951",
     "exception": false,
     "start_time": "2023-11-03T04:14:06.815222",
     "status": "completed"
    },
    "tags": []
   },
   "source": [
    "creating a pivot table using popular_books features"
   ]
  },
  {
   "cell_type": "code",
   "execution_count": 67,
   "id": "d7b0eedb",
   "metadata": {
    "execution": {
     "iopub.execute_input": "2023-11-03T04:14:06.964047Z",
     "iopub.status.busy": "2023-11-03T04:14:06.963630Z",
     "iopub.status.idle": "2023-11-03T04:14:07.205851Z",
     "shell.execute_reply": "2023-11-03T04:14:07.204728Z"
    },
    "papermill": {
     "duration": 0.295155,
     "end_time": "2023-11-03T04:14:07.208392",
     "exception": false,
     "start_time": "2023-11-03T04:14:06.913237",
     "status": "completed"
    },
    "tags": []
   },
   "outputs": [
    {
     "data": {
      "text/html": [
       "<div>\n",
       "<style scoped>\n",
       "    .dataframe tbody tr th:only-of-type {\n",
       "        vertical-align: middle;\n",
       "    }\n",
       "\n",
       "    .dataframe tbody tr th {\n",
       "        vertical-align: top;\n",
       "    }\n",
       "\n",
       "    .dataframe thead th {\n",
       "        text-align: right;\n",
       "    }\n",
       "</style>\n",
       "<table border=\"1\" class=\"dataframe\">\n",
       "  <thead>\n",
       "    <tr style=\"text-align: right;\">\n",
       "      <th>User-ID</th>\n",
       "      <th>254</th>\n",
       "      <th>2276</th>\n",
       "      <th>2766</th>\n",
       "      <th>2977</th>\n",
       "      <th>3363</th>\n",
       "      <th>4017</th>\n",
       "      <th>4385</th>\n",
       "      <th>6251</th>\n",
       "      <th>6323</th>\n",
       "      <th>6543</th>\n",
       "      <th>...</th>\n",
       "      <th>271705</th>\n",
       "      <th>273979</th>\n",
       "      <th>274004</th>\n",
       "      <th>274061</th>\n",
       "      <th>274301</th>\n",
       "      <th>274308</th>\n",
       "      <th>275970</th>\n",
       "      <th>277427</th>\n",
       "      <th>277639</th>\n",
       "      <th>278418</th>\n",
       "    </tr>\n",
       "    <tr>\n",
       "      <th>Book-Title</th>\n",
       "      <th></th>\n",
       "      <th></th>\n",
       "      <th></th>\n",
       "      <th></th>\n",
       "      <th></th>\n",
       "      <th></th>\n",
       "      <th></th>\n",
       "      <th></th>\n",
       "      <th></th>\n",
       "      <th></th>\n",
       "      <th></th>\n",
       "      <th></th>\n",
       "      <th></th>\n",
       "      <th></th>\n",
       "      <th></th>\n",
       "      <th></th>\n",
       "      <th></th>\n",
       "      <th></th>\n",
       "      <th></th>\n",
       "      <th></th>\n",
       "      <th></th>\n",
       "    </tr>\n",
       "  </thead>\n",
       "  <tbody>\n",
       "    <tr>\n",
       "      <th>1984</th>\n",
       "      <td>9.0</td>\n",
       "      <td>0</td>\n",
       "      <td>0</td>\n",
       "      <td>0</td>\n",
       "      <td>0</td>\n",
       "      <td>0</td>\n",
       "      <td>0</td>\n",
       "      <td>0</td>\n",
       "      <td>0</td>\n",
       "      <td>0</td>\n",
       "      <td>...</td>\n",
       "      <td>10</td>\n",
       "      <td>0.0</td>\n",
       "      <td>0</td>\n",
       "      <td>0</td>\n",
       "      <td>0</td>\n",
       "      <td>0</td>\n",
       "      <td>0</td>\n",
       "      <td>0</td>\n",
       "      <td>0</td>\n",
       "      <td>0.0</td>\n",
       "    </tr>\n",
       "    <tr>\n",
       "      <th>1st to die: a novel</th>\n",
       "      <td>0.0</td>\n",
       "      <td>0</td>\n",
       "      <td>0</td>\n",
       "      <td>0</td>\n",
       "      <td>0</td>\n",
       "      <td>0</td>\n",
       "      <td>0</td>\n",
       "      <td>0</td>\n",
       "      <td>0</td>\n",
       "      <td>9</td>\n",
       "      <td>...</td>\n",
       "      <td>0</td>\n",
       "      <td>0.0</td>\n",
       "      <td>0</td>\n",
       "      <td>0</td>\n",
       "      <td>0</td>\n",
       "      <td>0</td>\n",
       "      <td>0</td>\n",
       "      <td>0</td>\n",
       "      <td>0</td>\n",
       "      <td>0.0</td>\n",
       "    </tr>\n",
       "    <tr>\n",
       "      <th>2nd chance</th>\n",
       "      <td>0.0</td>\n",
       "      <td>10</td>\n",
       "      <td>0</td>\n",
       "      <td>0</td>\n",
       "      <td>0</td>\n",
       "      <td>0</td>\n",
       "      <td>0</td>\n",
       "      <td>0</td>\n",
       "      <td>0</td>\n",
       "      <td>0</td>\n",
       "      <td>...</td>\n",
       "      <td>0</td>\n",
       "      <td>0.0</td>\n",
       "      <td>0</td>\n",
       "      <td>0</td>\n",
       "      <td>0</td>\n",
       "      <td>0</td>\n",
       "      <td>0</td>\n",
       "      <td>0</td>\n",
       "      <td>0</td>\n",
       "      <td>0.0</td>\n",
       "    </tr>\n",
       "    <tr>\n",
       "      <th>4 blondes</th>\n",
       "      <td>0.0</td>\n",
       "      <td>0</td>\n",
       "      <td>0</td>\n",
       "      <td>0</td>\n",
       "      <td>0</td>\n",
       "      <td>0</td>\n",
       "      <td>0</td>\n",
       "      <td>0</td>\n",
       "      <td>0</td>\n",
       "      <td>0</td>\n",
       "      <td>...</td>\n",
       "      <td>0</td>\n",
       "      <td>0.0</td>\n",
       "      <td>0</td>\n",
       "      <td>0</td>\n",
       "      <td>0</td>\n",
       "      <td>0</td>\n",
       "      <td>0</td>\n",
       "      <td>0</td>\n",
       "      <td>0</td>\n",
       "      <td>0.0</td>\n",
       "    </tr>\n",
       "    <tr>\n",
       "      <th>\\o\\\" is for outlaw\"</th>\n",
       "      <td>0.0</td>\n",
       "      <td>0</td>\n",
       "      <td>0</td>\n",
       "      <td>0</td>\n",
       "      <td>0</td>\n",
       "      <td>0</td>\n",
       "      <td>0</td>\n",
       "      <td>0</td>\n",
       "      <td>0</td>\n",
       "      <td>0</td>\n",
       "      <td>...</td>\n",
       "      <td>0</td>\n",
       "      <td>0.0</td>\n",
       "      <td>0</td>\n",
       "      <td>0</td>\n",
       "      <td>8</td>\n",
       "      <td>0</td>\n",
       "      <td>0</td>\n",
       "      <td>0</td>\n",
       "      <td>0</td>\n",
       "      <td>0.0</td>\n",
       "    </tr>\n",
       "    <tr>\n",
       "      <th>...</th>\n",
       "      <td>...</td>\n",
       "      <td>...</td>\n",
       "      <td>...</td>\n",
       "      <td>...</td>\n",
       "      <td>...</td>\n",
       "      <td>...</td>\n",
       "      <td>...</td>\n",
       "      <td>...</td>\n",
       "      <td>...</td>\n",
       "      <td>...</td>\n",
       "      <td>...</td>\n",
       "      <td>...</td>\n",
       "      <td>...</td>\n",
       "      <td>...</td>\n",
       "      <td>...</td>\n",
       "      <td>...</td>\n",
       "      <td>...</td>\n",
       "      <td>...</td>\n",
       "      <td>...</td>\n",
       "      <td>...</td>\n",
       "      <td>...</td>\n",
       "    </tr>\n",
       "    <tr>\n",
       "      <th>wuthering heights</th>\n",
       "      <td>0.0</td>\n",
       "      <td>0</td>\n",
       "      <td>0</td>\n",
       "      <td>0</td>\n",
       "      <td>0</td>\n",
       "      <td>0</td>\n",
       "      <td>0</td>\n",
       "      <td>0</td>\n",
       "      <td>0</td>\n",
       "      <td>0</td>\n",
       "      <td>...</td>\n",
       "      <td>0</td>\n",
       "      <td>0.0</td>\n",
       "      <td>0</td>\n",
       "      <td>0</td>\n",
       "      <td>0</td>\n",
       "      <td>0</td>\n",
       "      <td>0</td>\n",
       "      <td>0</td>\n",
       "      <td>0</td>\n",
       "      <td>0.0</td>\n",
       "    </tr>\n",
       "    <tr>\n",
       "      <th>year of wonders</th>\n",
       "      <td>0.0</td>\n",
       "      <td>0</td>\n",
       "      <td>0</td>\n",
       "      <td>7</td>\n",
       "      <td>0</td>\n",
       "      <td>0</td>\n",
       "      <td>0</td>\n",
       "      <td>0</td>\n",
       "      <td>0</td>\n",
       "      <td>0</td>\n",
       "      <td>...</td>\n",
       "      <td>0</td>\n",
       "      <td>9.0</td>\n",
       "      <td>0</td>\n",
       "      <td>0</td>\n",
       "      <td>0</td>\n",
       "      <td>0</td>\n",
       "      <td>0</td>\n",
       "      <td>0</td>\n",
       "      <td>0</td>\n",
       "      <td>0.0</td>\n",
       "    </tr>\n",
       "    <tr>\n",
       "      <th>you belong to me</th>\n",
       "      <td>0.0</td>\n",
       "      <td>0</td>\n",
       "      <td>0</td>\n",
       "      <td>0</td>\n",
       "      <td>0</td>\n",
       "      <td>0</td>\n",
       "      <td>0</td>\n",
       "      <td>0</td>\n",
       "      <td>0</td>\n",
       "      <td>0</td>\n",
       "      <td>...</td>\n",
       "      <td>0</td>\n",
       "      <td>0.0</td>\n",
       "      <td>0</td>\n",
       "      <td>10</td>\n",
       "      <td>0</td>\n",
       "      <td>0</td>\n",
       "      <td>0</td>\n",
       "      <td>0</td>\n",
       "      <td>0</td>\n",
       "      <td>0.0</td>\n",
       "    </tr>\n",
       "    <tr>\n",
       "      <th>zen and the art of motorcycle maintenance: an inquiry into values</th>\n",
       "      <td>0.0</td>\n",
       "      <td>0</td>\n",
       "      <td>0</td>\n",
       "      <td>0</td>\n",
       "      <td>0</td>\n",
       "      <td>0</td>\n",
       "      <td>0</td>\n",
       "      <td>0</td>\n",
       "      <td>0</td>\n",
       "      <td>0</td>\n",
       "      <td>...</td>\n",
       "      <td>0</td>\n",
       "      <td>0.0</td>\n",
       "      <td>0</td>\n",
       "      <td>0</td>\n",
       "      <td>0</td>\n",
       "      <td>0</td>\n",
       "      <td>0</td>\n",
       "      <td>0</td>\n",
       "      <td>0</td>\n",
       "      <td>0.0</td>\n",
       "    </tr>\n",
       "    <tr>\n",
       "      <th>zoya</th>\n",
       "      <td>0.0</td>\n",
       "      <td>0</td>\n",
       "      <td>0</td>\n",
       "      <td>0</td>\n",
       "      <td>0</td>\n",
       "      <td>0</td>\n",
       "      <td>0</td>\n",
       "      <td>0</td>\n",
       "      <td>0</td>\n",
       "      <td>0</td>\n",
       "      <td>...</td>\n",
       "      <td>0</td>\n",
       "      <td>0.0</td>\n",
       "      <td>0</td>\n",
       "      <td>0</td>\n",
       "      <td>0</td>\n",
       "      <td>0</td>\n",
       "      <td>0</td>\n",
       "      <td>0</td>\n",
       "      <td>0</td>\n",
       "      <td>0.0</td>\n",
       "    </tr>\n",
       "  </tbody>\n",
       "</table>\n",
       "<p>719 rows × 815 columns</p>\n",
       "</div>"
      ],
      "text/plain": [
       "User-ID                                             254     2276    2766    \\\n",
       "Book-Title                                                                   \n",
       "1984                                                   9.0       0       0   \n",
       "1st to die: a novel                                    0.0       0       0   \n",
       "2nd chance                                             0.0      10       0   \n",
       "4 blondes                                              0.0       0       0   \n",
       "\\o\\\" is for outlaw\"                                    0.0       0       0   \n",
       "...                                                    ...     ...     ...   \n",
       "wuthering heights                                      0.0       0       0   \n",
       "year of wonders                                        0.0       0       0   \n",
       "you belong to me                                       0.0       0       0   \n",
       "zen and the art of motorcycle maintenance: an i...     0.0       0       0   \n",
       "zoya                                                   0.0       0       0   \n",
       "\n",
       "User-ID                                             2977    3363    4017    \\\n",
       "Book-Title                                                                   \n",
       "1984                                                     0       0       0   \n",
       "1st to die: a novel                                      0       0       0   \n",
       "2nd chance                                               0       0       0   \n",
       "4 blondes                                                0       0       0   \n",
       "\\o\\\" is for outlaw\"                                      0       0       0   \n",
       "...                                                    ...     ...     ...   \n",
       "wuthering heights                                        0       0       0   \n",
       "year of wonders                                          7       0       0   \n",
       "you belong to me                                         0       0       0   \n",
       "zen and the art of motorcycle maintenance: an i...       0       0       0   \n",
       "zoya                                                     0       0       0   \n",
       "\n",
       "User-ID                                             4385    6251    6323    \\\n",
       "Book-Title                                                                   \n",
       "1984                                                     0       0       0   \n",
       "1st to die: a novel                                      0       0       0   \n",
       "2nd chance                                               0       0       0   \n",
       "4 blondes                                                0       0       0   \n",
       "\\o\\\" is for outlaw\"                                      0       0       0   \n",
       "...                                                    ...     ...     ...   \n",
       "wuthering heights                                        0       0       0   \n",
       "year of wonders                                          0       0       0   \n",
       "you belong to me                                         0       0       0   \n",
       "zen and the art of motorcycle maintenance: an i...       0       0       0   \n",
       "zoya                                                     0       0       0   \n",
       "\n",
       "User-ID                                             6543    ...  271705  \\\n",
       "Book-Title                                                  ...           \n",
       "1984                                                     0  ...      10   \n",
       "1st to die: a novel                                      9  ...       0   \n",
       "2nd chance                                               0  ...       0   \n",
       "4 blondes                                                0  ...       0   \n",
       "\\o\\\" is for outlaw\"                                      0  ...       0   \n",
       "...                                                    ...  ...     ...   \n",
       "wuthering heights                                        0  ...       0   \n",
       "year of wonders                                          0  ...       0   \n",
       "you belong to me                                         0  ...       0   \n",
       "zen and the art of motorcycle maintenance: an i...       0  ...       0   \n",
       "zoya                                                     0  ...       0   \n",
       "\n",
       "User-ID                                             273979  274004  274061  \\\n",
       "Book-Title                                                                   \n",
       "1984                                                   0.0       0       0   \n",
       "1st to die: a novel                                    0.0       0       0   \n",
       "2nd chance                                             0.0       0       0   \n",
       "4 blondes                                              0.0       0       0   \n",
       "\\o\\\" is for outlaw\"                                    0.0       0       0   \n",
       "...                                                    ...     ...     ...   \n",
       "wuthering heights                                      0.0       0       0   \n",
       "year of wonders                                        9.0       0       0   \n",
       "you belong to me                                       0.0       0      10   \n",
       "zen and the art of motorcycle maintenance: an i...     0.0       0       0   \n",
       "zoya                                                   0.0       0       0   \n",
       "\n",
       "User-ID                                             274301  274308  275970  \\\n",
       "Book-Title                                                                   \n",
       "1984                                                     0       0       0   \n",
       "1st to die: a novel                                      0       0       0   \n",
       "2nd chance                                               0       0       0   \n",
       "4 blondes                                                0       0       0   \n",
       "\\o\\\" is for outlaw\"                                      8       0       0   \n",
       "...                                                    ...     ...     ...   \n",
       "wuthering heights                                        0       0       0   \n",
       "year of wonders                                          0       0       0   \n",
       "you belong to me                                         0       0       0   \n",
       "zen and the art of motorcycle maintenance: an i...       0       0       0   \n",
       "zoya                                                     0       0       0   \n",
       "\n",
       "User-ID                                             277427  277639  278418  \n",
       "Book-Title                                                                  \n",
       "1984                                                     0       0     0.0  \n",
       "1st to die: a novel                                      0       0     0.0  \n",
       "2nd chance                                               0       0     0.0  \n",
       "4 blondes                                                0       0     0.0  \n",
       "\\o\\\" is for outlaw\"                                      0       0     0.0  \n",
       "...                                                    ...     ...     ...  \n",
       "wuthering heights                                        0       0     0.0  \n",
       "year of wonders                                          0       0     0.0  \n",
       "you belong to me                                         0       0     0.0  \n",
       "zen and the art of motorcycle maintenance: an i...       0       0     0.0  \n",
       "zoya                                                     0       0     0.0  \n",
       "\n",
       "[719 rows x 815 columns]"
      ]
     },
     "execution_count": 67,
     "metadata": {},
     "output_type": "execute_result"
    }
   ],
   "source": [
    "pt = pd.pivot_table(data=popular_books, values=\"Book-Rating\", index=\"Book-Title\", columns=\"User-ID\", fill_value=0)\n",
    "\n",
    "pt"
   ]
  },
  {
   "cell_type": "code",
   "execution_count": 68,
   "id": "1ca186f9",
   "metadata": {
    "execution": {
     "iopub.execute_input": "2023-11-03T04:14:07.310651Z",
     "iopub.status.busy": "2023-11-03T04:14:07.309331Z",
     "iopub.status.idle": "2023-11-03T04:14:07.319323Z",
     "shell.execute_reply": "2023-11-03T04:14:07.318188Z"
    },
    "papermill": {
     "duration": 0.063383,
     "end_time": "2023-11-03T04:14:07.321633",
     "exception": false,
     "start_time": "2023-11-03T04:14:07.258250",
     "status": "completed"
    },
    "tags": []
   },
   "outputs": [
    {
     "data": {
      "text/plain": [
       "Book-Title\n",
       "1984                                                                 9.0\n",
       "1st to die: a novel                                                  0.0\n",
       "2nd chance                                                           0.0\n",
       "4 blondes                                                            0.0\n",
       "\\o\\\" is for outlaw\"                                                  0.0\n",
       "                                                                    ... \n",
       "wuthering heights                                                    0.0\n",
       "year of wonders                                                      0.0\n",
       "you belong to me                                                     0.0\n",
       "zen and the art of motorcycle maintenance: an inquiry into values    0.0\n",
       "zoya                                                                 0.0\n",
       "Name: 254, Length: 719, dtype: float64"
      ]
     },
     "execution_count": 68,
     "metadata": {},
     "output_type": "execute_result"
    }
   ],
   "source": [
    "pt[254]"
   ]
  },
  {
   "cell_type": "markdown",
   "id": "9689d39f",
   "metadata": {
    "papermill": {
     "duration": 0.049796,
     "end_time": "2023-11-03T04:14:07.421364",
     "exception": false,
     "start_time": "2023-11-03T04:14:07.371568",
     "status": "completed"
    },
    "tags": []
   },
   "source": [
    "Create Model Using Cosine_similarity"
   ]
  },
  {
   "cell_type": "markdown",
   "id": "cb621c5a",
   "metadata": {
    "papermill": {
     "duration": 0.049122,
     "end_time": "2023-11-03T04:14:07.520832",
     "exception": false,
     "start_time": "2023-11-03T04:14:07.471710",
     "status": "completed"
    },
    "tags": []
   },
   "source": [
    "here we compute the cosine_similarity for the data in the pivot_table 'pt'"
   ]
  },
  {
   "cell_type": "code",
   "execution_count": 69,
   "id": "f50c8bb6",
   "metadata": {
    "execution": {
     "iopub.execute_input": "2023-11-03T04:14:07.623403Z",
     "iopub.status.busy": "2023-11-03T04:14:07.622485Z",
     "iopub.status.idle": "2023-11-03T04:14:07.648354Z",
     "shell.execute_reply": "2023-11-03T04:14:07.646699Z"
    },
    "papermill": {
     "duration": 0.082669,
     "end_time": "2023-11-03T04:14:07.653143",
     "exception": false,
     "start_time": "2023-11-03T04:14:07.570474",
     "status": "completed"
    },
    "tags": []
   },
   "outputs": [],
   "source": [
    "similarity_scores = cosine_similarity(X=pt)"
   ]
  },
  {
   "cell_type": "code",
   "execution_count": 70,
   "id": "97013232",
   "metadata": {
    "execution": {
     "iopub.execute_input": "2023-11-03T04:14:07.814266Z",
     "iopub.status.busy": "2023-11-03T04:14:07.813825Z",
     "iopub.status.idle": "2023-11-03T04:14:07.820341Z",
     "shell.execute_reply": "2023-11-03T04:14:07.819570Z"
    },
    "papermill": {
     "duration": 0.061147,
     "end_time": "2023-11-03T04:14:07.822401",
     "exception": false,
     "start_time": "2023-11-03T04:14:07.761254",
     "status": "completed"
    },
    "tags": []
   },
   "outputs": [
    {
     "data": {
      "text/plain": [
       "(719, 719)"
      ]
     },
     "execution_count": 70,
     "metadata": {},
     "output_type": "execute_result"
    }
   ],
   "source": [
    "similarity_scores.shape"
   ]
  },
  {
   "cell_type": "code",
   "execution_count": 71,
   "id": "fe60ecf1",
   "metadata": {
    "execution": {
     "iopub.execute_input": "2023-11-03T04:14:07.925174Z",
     "iopub.status.busy": "2023-11-03T04:14:07.924000Z",
     "iopub.status.idle": "2023-11-03T04:14:07.939455Z",
     "shell.execute_reply": "2023-11-03T04:14:07.938283Z"
    },
    "papermill": {
     "duration": 0.06968,
     "end_time": "2023-11-03T04:14:07.942083",
     "exception": false,
     "start_time": "2023-11-03T04:14:07.872403",
     "status": "completed"
    },
    "tags": []
   },
   "outputs": [
    {
     "data": {
      "text/plain": [
       "array([1.        , 0.0999137 , 0.01189468, 0.        , 0.04205081,\n",
       "       0.05229234, 0.02703559, 0.08005247, 0.133798  , 0.        ,\n",
       "       0.03177829, 0.03573298, 0.0226271 , 0.06592522, 0.020304  ,\n",
       "       0.09425025, 0.08089641, 0.1304464 , 0.10866788, 0.0496928 ,\n",
       "       0.02453052, 0.11405415, 0.        , 0.13965274, 0.07645776,\n",
       "       0.05992325, 0.08499677, 0.        , 0.09621379, 0.07404925,\n",
       "       0.00732437, 0.01435345, 0.        , 0.07761015, 0.04406341,\n",
       "       0.01486269, 0.09251799, 0.01776199, 0.02543351, 0.07778745,\n",
       "       0.12026486, 0.11854319, 0.0554492 , 0.08139372, 0.07683348,\n",
       "       0.08560054, 0.05350252, 0.0534403 , 0.26331669, 0.09527704,\n",
       "       0.05861375, 0.08728505, 0.06575169, 0.        , 0.04353225,\n",
       "       0.01871487, 0.        , 0.05484345, 0.00531237, 0.07674541,\n",
       "       0.05085288, 0.18422052, 0.        , 0.01208759, 0.02775734,\n",
       "       0.04169477, 0.12354122, 0.16140808, 0.        , 0.1301383 ,\n",
       "       0.06445396, 0.        , 0.        , 0.        , 0.04405541,\n",
       "       0.10686088, 0.02734449, 0.0254609 , 0.06699347, 0.01297391,\n",
       "       0.10248694, 0.03167165, 0.01328403, 0.2306084 , 0.        ,\n",
       "       0.10130612, 0.06009182, 0.13811804, 0.11361279, 0.08116824,\n",
       "       0.00829019, 0.06440002, 0.154433  , 0.03196179, 0.01041434,\n",
       "       0.02513457, 0.02060486, 0.11324547, 0.02618677, 0.02119881,\n",
       "       0.        , 0.01560485, 0.11802811, 0.04646003, 0.05669574,\n",
       "       0.06343332, 0.        , 0.0464449 , 0.05137593, 0.02737765,\n",
       "       0.06356828, 0.02061934, 0.02043932, 0.07231425, 0.01707714,\n",
       "       0.03274466, 0.        , 0.01539053, 0.10755626, 0.16102364,\n",
       "       0.14166836, 0.0607709 , 0.07930224, 0.05510014, 0.07266454,\n",
       "       0.03674914, 0.05783708, 0.02879387, 0.03269331, 0.0461238 ,\n",
       "       0.00980762, 0.01628995, 0.07072309, 0.        , 0.        ,\n",
       "       0.        , 0.02156817, 0.02988946, 0.09718526, 0.        ,\n",
       "       0.01575679, 0.02348879, 0.02738574, 0.        , 0.        ,\n",
       "       0.01766268, 0.02806762, 0.        , 0.05841023, 0.0207297 ,\n",
       "       0.1007532 , 0.02695615, 0.10410091, 0.09644228, 0.13781517,\n",
       "       0.04878689, 0.0850604 , 0.01374966, 0.        , 0.07634515,\n",
       "       0.0085956 , 0.04399795, 0.        , 0.01226526, 0.03900409,\n",
       "       0.07285412, 0.01186594, 0.01838869, 0.02598903, 0.01396025,\n",
       "       0.1432484 , 0.05930779, 0.02512033, 0.02671383, 0.        ,\n",
       "       0.14526273, 0.05462639, 0.        , 0.03117647, 0.03550135,\n",
       "       0.01912455, 0.21650925, 0.01476873, 0.0942457 , 0.02133718,\n",
       "       0.01961781, 0.0526149 , 0.07075313, 0.01083057, 0.03556034,\n",
       "       0.05840542, 0.        , 0.1431346 , 0.02032375, 0.10093291,\n",
       "       0.09542563, 0.06440055, 0.1254017 , 0.07340487, 0.01117956,\n",
       "       0.        , 0.02396915, 0.        , 0.17585166, 0.05009695,\n",
       "       0.0464906 , 0.10047575, 0.12936761, 0.0445973 , 0.05234846,\n",
       "       0.03389069, 0.        , 0.08966431, 0.08018256, 0.06224157,\n",
       "       0.04650607, 0.1484422 , 0.08448393, 0.12021004, 0.03753626,\n",
       "       0.03863444, 0.07863527, 0.08558838, 0.11864451, 0.02371133,\n",
       "       0.00265847, 0.        , 0.        , 0.03577111, 0.14888113,\n",
       "       0.03614062, 0.07266389, 0.09496112, 0.05276845, 0.10003031,\n",
       "       0.07379678, 0.06261301, 0.01776027, 0.01519651, 0.01981277,\n",
       "       0.02400254, 0.00937364, 0.02080469, 0.01854434, 0.06631277,\n",
       "       0.01979871, 0.11481724, 0.07637937, 0.08206016, 0.        ,\n",
       "       0.01988328, 0.        , 0.04577455, 0.08081263, 0.13615232,\n",
       "       0.01202785, 0.13163253, 0.07232632, 0.11537437, 0.0480334 ,\n",
       "       0.01579975, 0.02565328, 0.04692154, 0.01822882, 0.09912675,\n",
       "       0.12916787, 0.        , 0.05368603, 0.018133  , 0.        ,\n",
       "       0.04388786, 0.03392925, 0.153877  , 0.06620646, 0.08248527,\n",
       "       0.02910842, 0.        , 0.        , 0.0855621 , 0.0768255 ,\n",
       "       0.04675675, 0.0129682 , 0.02069234, 0.04432946, 0.08450963,\n",
       "       0.0086322 , 0.01339344, 0.01970156, 0.02352055, 0.12225698,\n",
       "       0.        , 0.02418693, 0.06352963, 0.        , 0.05913776,\n",
       "       0.08410268, 0.13614834, 0.01927969, 0.01228408, 0.07011877,\n",
       "       0.04319889, 0.02867419, 0.02184841, 0.06373678, 0.07130938,\n",
       "       0.13914227, 0.01538898, 0.1167132 , 0.0181063 , 0.13099699,\n",
       "       0.04685691, 0.09459803, 0.        , 0.06298902, 0.        ,\n",
       "       0.20469829, 0.07246533, 0.        , 0.07665443, 0.12070545,\n",
       "       0.01015592, 0.02514496, 0.        , 0.08721251, 0.03902569,\n",
       "       0.18515419, 0.02209215, 0.0168586 , 0.02975525, 0.06644569,\n",
       "       0.09825353, 0.10198495, 0.01640181, 0.11635609, 0.10002511,\n",
       "       0.034028  , 0.02598903, 0.07456014, 0.0825619 , 0.01784878,\n",
       "       0.        , 0.02121499, 0.14900173, 0.04277674, 0.        ,\n",
       "       0.01035915, 0.02097733, 0.0287069 , 0.        , 0.0202339 ,\n",
       "       0.        , 0.01164106, 0.00929156, 0.20143977, 0.01514332,\n",
       "       0.03802323, 0.06509278, 0.087832  , 0.05762668, 0.0604728 ,\n",
       "       0.        , 0.01954386, 0.07641909, 0.15917803, 0.06976966,\n",
       "       0.        , 0.14220017, 0.07367223, 0.02864158, 0.04656746,\n",
       "       0.01760775, 0.11070589, 0.07794022, 0.08683203, 0.11628025,\n",
       "       0.09539542, 0.10660466, 0.        , 0.02061445, 0.0584957 ,\n",
       "       0.0175095 , 0.05607437, 0.02052499, 0.09503665, 0.12770657,\n",
       "       0.        , 0.06654309, 0.08898117, 0.03457163, 0.02709897,\n",
       "       0.01465235, 0.0595601 , 0.01712107, 0.02407758, 0.01755262,\n",
       "       0.11486693, 0.06099234, 0.1391151 , 0.        , 0.06500118,\n",
       "       0.        , 0.        , 0.05613944, 0.02207835, 0.00823155,\n",
       "       0.02238413, 0.06952804, 0.14912013, 0.08192628, 0.        ,\n",
       "       0.07029987, 0.01506201, 0.09874723, 0.        , 0.01633246,\n",
       "       0.        , 0.04892769, 0.15628767, 0.        , 0.02269156,\n",
       "       0.01936178, 0.01077247, 0.02482524, 0.00873007, 0.08034116,\n",
       "       0.01825804, 0.06844392, 0.02108042, 0.12493306, 0.09741706,\n",
       "       0.08420688, 0.06191806, 0.02808902, 0.04224353, 0.04585585,\n",
       "       0.05089432, 0.        , 0.08751806, 0.00853122, 0.0966841 ,\n",
       "       0.09965577, 0.        , 0.12010638, 0.11991069, 0.01713707,\n",
       "       0.01975982, 0.10072475, 0.1269322 , 0.08757792, 0.08773485,\n",
       "       0.05194964, 0.07826898, 0.04479587, 0.05982032, 0.02226929,\n",
       "       0.02245645, 0.06355335, 0.01866119, 0.        , 0.04425973,\n",
       "       0.        , 0.        , 0.0512667 , 0.01283226, 0.        ,\n",
       "       0.08796172, 0.        , 0.04734378, 0.12186923, 0.0715927 ,\n",
       "       0.10088269, 0.01674616, 0.09664898, 0.07883946, 0.00342853,\n",
       "       0.0217154 , 0.04634827, 0.10836801, 0.05011243, 0.05520465,\n",
       "       0.        , 0.05931206, 0.10522934, 0.        , 0.07360457,\n",
       "       0.        , 0.1329359 , 0.04673439, 0.15435187, 0.        ,\n",
       "       0.01714618, 0.05298478, 0.        , 0.07892531, 0.12754151,\n",
       "       0.00566885, 0.06966708, 0.05288922, 0.05762264, 0.11811512,\n",
       "       0.05028948, 0.18790708, 0.11199349, 0.06345598, 0.06237368,\n",
       "       0.        , 0.        , 0.10574617, 0.11107324, 0.04519976,\n",
       "       0.0177835 , 0.        , 0.01164473, 0.21422499, 0.05660341,\n",
       "       0.0423734 , 0.02578221, 0.07089329, 0.05065985, 0.07055971,\n",
       "       0.01584746, 0.10637858, 0.02369288, 0.01280109, 0.13266966,\n",
       "       0.11435112, 0.08367406, 0.08924327, 0.10561371, 0.06692383,\n",
       "       0.07990103, 0.13025344, 0.        , 0.19459133, 0.02227429,\n",
       "       0.07855585, 0.        , 0.05608029, 0.06564822, 0.        ,\n",
       "       0.19150929, 0.06144289, 0.03409413, 0.09791433, 0.09349734,\n",
       "       0.02124117, 0.02257933, 0.06309649, 0.06870929, 0.08067563,\n",
       "       0.1657143 , 0.07028453, 0.01142064, 0.08321625, 0.17528356,\n",
       "       0.07801419, 0.01694899, 0.16298684, 0.25717553, 0.17935621,\n",
       "       0.05456291, 0.04027312, 0.06733334, 0.14085165, 0.22044678,\n",
       "       0.1871504 , 0.02331808, 0.19510224, 0.01468892, 0.04900631,\n",
       "       0.12016584, 0.13836538, 0.02408522, 0.08343632, 0.02302663,\n",
       "       0.12465093, 0.01055305, 0.07163406, 0.0928744 , 0.03333919,\n",
       "       0.0700925 , 0.02238021, 0.14949586, 0.08568461, 0.        ,\n",
       "       0.        , 0.01830356, 0.09521681, 0.04291124, 0.14820876,\n",
       "       0.01483113, 0.10042398, 0.05568837, 0.0448179 , 0.05947579,\n",
       "       0.06403331, 0.14050562, 0.08059795, 0.        , 0.04095625,\n",
       "       0.0221756 , 0.16934947, 0.01860862, 0.15588905, 0.14304028,\n",
       "       0.        , 0.05787816, 0.07526504, 0.07272845, 0.06378382,\n",
       "       0.06841054, 0.18434904, 0.02430012, 0.01661191, 0.05297822,\n",
       "       0.04805997, 0.        , 0.11781588, 0.07795876, 0.12291611,\n",
       "       0.02247355, 0.05971528, 0.02037015, 0.04389111, 0.10002638,\n",
       "       0.10450219, 0.02538357, 0.00169243, 0.09619109, 0.0770845 ,\n",
       "       0.02103713, 0.01572773, 0.02031044, 0.09545575, 0.01780903,\n",
       "       0.18094225, 0.0520717 , 0.18438748, 0.05742651, 0.01449901,\n",
       "       0.11715626, 0.09587366, 0.01021178, 0.10323797, 0.07421358,\n",
       "       0.07847313, 0.        , 0.22700367, 0.01046038, 0.1322457 ,\n",
       "       0.02591587, 0.14068768, 0.        , 0.12200992, 0.06289053,\n",
       "       0.02745084, 0.14074167, 0.01676798, 0.09263709, 0.05045869,\n",
       "       0.05823817, 0.17633624, 0.14735973, 0.10708194, 0.12881891,\n",
       "       0.03853186, 0.03737679, 0.02400155, 0.07643701, 0.03246169,\n",
       "       0.02930354, 0.02420211, 0.04115084, 0.14073151, 0.12022969,\n",
       "       0.01471374, 0.02771242, 0.02077203, 0.07201737, 0.08675349,\n",
       "       0.15485244, 0.06768953, 0.01033514, 0.09617147, 0.05564518,\n",
       "       0.0924443 , 0.00924546, 0.13022242, 0.056451  , 0.        ,\n",
       "       0.06548481, 0.02013856, 0.        , 0.01792137, 0.        ,\n",
       "       0.12329998, 0.07980979, 0.08861857, 0.00711806, 0.07261967,\n",
       "       0.        , 0.04110338, 0.0817707 , 0.0758563 , 0.        ,\n",
       "       0.06967923, 0.02345695, 0.01593088, 0.03638552, 0.05102579,\n",
       "       0.01110856, 0.00943819, 0.12208488, 0.        , 0.00867153,\n",
       "       0.05713332, 0.01592652, 0.11799012, 0.07158663])"
      ]
     },
     "execution_count": 71,
     "metadata": {},
     "output_type": "execute_result"
    }
   ],
   "source": [
    "# Similarity first user with other user\n",
    "\n",
    "similarity_scores[0]"
   ]
  },
  {
   "cell_type": "code",
   "execution_count": 72,
   "id": "22a30d48",
   "metadata": {
    "execution": {
     "iopub.execute_input": "2023-11-03T04:14:08.046702Z",
     "iopub.status.busy": "2023-11-03T04:14:08.046260Z",
     "iopub.status.idle": "2023-11-03T04:14:08.104842Z",
     "shell.execute_reply": "2023-11-03T04:14:08.104018Z"
    },
    "papermill": {
     "duration": 0.114526,
     "end_time": "2023-11-03T04:14:08.107583",
     "exception": false,
     "start_time": "2023-11-03T04:14:07.993057",
     "status": "completed"
    },
    "tags": []
   },
   "outputs": [
    {
     "data": {
      "text/plain": [
       "[(0, 1.0),\n",
       " (1, 0.09991370443681998),\n",
       " (2, 0.011894676421575648),\n",
       " (3, 0.0),\n",
       " (4, 0.042050812160027144),\n",
       " (5, 0.0522923428754616),\n",
       " (6, 0.027035592129264218),\n",
       " (7, 0.08005246987594641),\n",
       " (8, 0.13379800079660079),\n",
       " (9, 0.0),\n",
       " (10, 0.03177829126649559),\n",
       " (11, 0.03573297811768626),\n",
       " (12, 0.022627095695491876),\n",
       " (13, 0.06592521898256122),\n",
       " (14, 0.02030399594727408),\n",
       " (15, 0.09425025422049897),\n",
       " (16, 0.08089640554206895),\n",
       " (17, 0.13044639995428942),\n",
       " (18, 0.10866787678155022),\n",
       " (19, 0.049692801008612855),\n",
       " (20, 0.024530524976685255),\n",
       " (21, 0.11405414701564792),\n",
       " (22, 0.0),\n",
       " (23, 0.13965274219894008),\n",
       " (24, 0.07645775981397283),\n",
       " (25, 0.05992324616320607),\n",
       " (26, 0.08499677059744355),\n",
       " (27, 0.0),\n",
       " (28, 0.09621378577288568),\n",
       " (29, 0.0740492482078533),\n",
       " (30, 0.007324366251940837),\n",
       " (31, 0.01435345067390976),\n",
       " (32, 0.0),\n",
       " (33, 0.07761014992531964),\n",
       " (34, 0.04406341116244771),\n",
       " (35, 0.01486268748271215),\n",
       " (36, 0.09251799313259884),\n",
       " (37, 0.017761989688713762),\n",
       " (38, 0.02543350839956968),\n",
       " (39, 0.07778744949702383),\n",
       " (40, 0.1202648555294815),\n",
       " (41, 0.1185431932539106),\n",
       " (42, 0.05544919673069813),\n",
       " (43, 0.08139371923884797),\n",
       " (44, 0.07683348063032663),\n",
       " (45, 0.08560053653512883),\n",
       " (46, 0.053502515977879195),\n",
       " (47, 0.05344030451025426),\n",
       " (48, 0.26331668558969296),\n",
       " (49, 0.09527703545347672),\n",
       " (50, 0.05861374987374356),\n",
       " (51, 0.08728505291846037),\n",
       " (52, 0.06575168559659123),\n",
       " (53, 0.0),\n",
       " (54, 0.04353224517142862),\n",
       " (55, 0.018714866401050877),\n",
       " (56, 0.0),\n",
       " (57, 0.054843448009898516),\n",
       " (58, 0.005312367362293086),\n",
       " (59, 0.0767454122633513),\n",
       " (60, 0.05085287581078625),\n",
       " (61, 0.18422051694704247),\n",
       " (62, 0.0),\n",
       " (63, 0.012087590335457532),\n",
       " (64, 0.02775733996500575),\n",
       " (65, 0.041694769446052354),\n",
       " (66, 0.12354121580054411),\n",
       " (67, 0.16140807538784901),\n",
       " (68, 0.0),\n",
       " (69, 0.13013830397768777),\n",
       " (70, 0.06445395608545612),\n",
       " (71, 0.0),\n",
       " (72, 0.0),\n",
       " (73, 0.0),\n",
       " (74, 0.044055409453358736),\n",
       " (75, 0.10686088267827762),\n",
       " (76, 0.02734448893939146),\n",
       " (77, 0.025460900446711256),\n",
       " (78, 0.06699347109102612),\n",
       " (79, 0.012973912747491989),\n",
       " (80, 0.10248693521610205),\n",
       " (81, 0.031671645193325305),\n",
       " (82, 0.013284034651148661),\n",
       " (83, 0.23060840046543507),\n",
       " (84, 0.0),\n",
       " (85, 0.10130612197313289),\n",
       " (86, 0.060091815719488566),\n",
       " (87, 0.13811804122731114),\n",
       " (88, 0.11361279050085639),\n",
       " (89, 0.0811682375532799),\n",
       " (90, 0.008290188176076053),\n",
       " (91, 0.06440002430836199),\n",
       " (92, 0.15443300128602558),\n",
       " (93, 0.031961788020588),\n",
       " (94, 0.010414339068866752),\n",
       " (95, 0.02513456783140031),\n",
       " (96, 0.02060486430894455),\n",
       " (97, 0.1132454684424845),\n",
       " (98, 0.02618676719365358),\n",
       " (99, 0.021198811942484377),\n",
       " (100, 0.0),\n",
       " (101, 0.01560484565604773),\n",
       " (102, 0.11802810925393885),\n",
       " (103, 0.046460029846088935),\n",
       " (104, 0.056695741520506625),\n",
       " (105, 0.06343332368602739),\n",
       " (106, 0.0),\n",
       " (107, 0.04644489936294823),\n",
       " (108, 0.05137593095734639),\n",
       " (109, 0.0273776498734843),\n",
       " (110, 0.06356828046741919),\n",
       " (111, 0.02061933937608069),\n",
       " (112, 0.02043932271935257),\n",
       " (113, 0.07231424654580308),\n",
       " (114, 0.017077144437261257),\n",
       " (115, 0.032744662086535294),\n",
       " (116, 0.0),\n",
       " (117, 0.015390533955270815),\n",
       " (118, 0.10755626374328939),\n",
       " (119, 0.16102364040924586),\n",
       " (120, 0.14166835530492738),\n",
       " (121, 0.060770900684454204),\n",
       " (122, 0.07930224367172342),\n",
       " (123, 0.055100144522463826),\n",
       " (124, 0.07266454000367582),\n",
       " (125, 0.03674913879785127),\n",
       " (126, 0.05783708317109021),\n",
       " (127, 0.028793873683973115),\n",
       " (128, 0.03269330773716747),\n",
       " (129, 0.046123802971489845),\n",
       " (130, 0.009807619582711376),\n",
       " (131, 0.016289954012202644),\n",
       " (132, 0.0707230921294833),\n",
       " (133, 0.0),\n",
       " (134, 0.0),\n",
       " (135, 0.0),\n",
       " (136, 0.021568167146708932),\n",
       " (137, 0.029889459687780586),\n",
       " (138, 0.09718525537292937),\n",
       " (139, 0.0),\n",
       " (140, 0.015756787619586755),\n",
       " (141, 0.023488794381331633),\n",
       " (142, 0.02738573900052549),\n",
       " (143, 0.0),\n",
       " (144, 0.0),\n",
       " (145, 0.017662683735465864),\n",
       " (146, 0.028067618377598656),\n",
       " (147, 0.0),\n",
       " (148, 0.05841022990890417),\n",
       " (149, 0.020729695400390925),\n",
       " (150, 0.10075320470893027),\n",
       " (151, 0.02695615110260651),\n",
       " (152, 0.10410090866700955),\n",
       " (153, 0.09644228313399218),\n",
       " (154, 0.13781516595127977),\n",
       " (155, 0.04878689280370779),\n",
       " (156, 0.08506040125109933),\n",
       " (157, 0.013749660422240358),\n",
       " (158, 0.0),\n",
       " (159, 0.07634514942880985),\n",
       " (160, 0.008595601466223431),\n",
       " (161, 0.04399795316887499),\n",
       " (162, 0.0),\n",
       " (163, 0.012265262488342627),\n",
       " (164, 0.03900408740382429),\n",
       " (165, 0.07285412372335064),\n",
       " (166, 0.011865936100775331),\n",
       " (167, 0.01838868746012354),\n",
       " (168, 0.02598903460282222),\n",
       " (169, 0.013960253664198046),\n",
       " (170, 0.14324839677850623),\n",
       " (171, 0.05930778988644408),\n",
       " (172, 0.025120331004341995),\n",
       " (173, 0.026713826451792887),\n",
       " (174, 0.0),\n",
       " (175, 0.14526272849720298),\n",
       " (176, 0.05462638773822999),\n",
       " (177, 0.0),\n",
       " (178, 0.03117647183348292),\n",
       " (179, 0.03550135192287963),\n",
       " (180, 0.01912454882108786),\n",
       " (181, 0.21650925243379174),\n",
       " (182, 0.014768728871684096),\n",
       " (183, 0.0942457020952218),\n",
       " (184, 0.02133718288128839),\n",
       " (185, 0.01961781049764555),\n",
       " (186, 0.052614899414182854),\n",
       " (187, 0.07075312610437876),\n",
       " (188, 0.010830566059052605),\n",
       " (189, 0.03556034417929572),\n",
       " (190, 0.05840542307600225),\n",
       " (191, 0.0),\n",
       " (192, 0.14313460113858884),\n",
       " (193, 0.020323746347517522),\n",
       " (194, 0.10093291383593442),\n",
       " (195, 0.09542563340368916),\n",
       " (196, 0.06440055359901856),\n",
       " (197, 0.12540170429956665),\n",
       " (198, 0.07340486533047849),\n",
       " (199, 0.011179561712278584),\n",
       " (200, 0.0),\n",
       " (201, 0.023969150294217714),\n",
       " (202, 0.0),\n",
       " (203, 0.17585166214330838),\n",
       " (204, 0.05009695201513879),\n",
       " (205, 0.04649059843320379),\n",
       " (206, 0.10047574650002129),\n",
       " (207, 0.12936761058023763),\n",
       " (208, 0.04459729640236159),\n",
       " (209, 0.05234845949912103),\n",
       " (210, 0.033890688734092116),\n",
       " (211, 0.0),\n",
       " (212, 0.08966430631606893),\n",
       " (213, 0.0801825642120935),\n",
       " (214, 0.0622415698711718),\n",
       " (215, 0.046506072089293166),\n",
       " (216, 0.14844220121863017),\n",
       " (217, 0.08448392837418352),\n",
       " (218, 0.12021004209793373),\n",
       " (219, 0.037536255960780925),\n",
       " (220, 0.03863444089837187),\n",
       " (221, 0.07863527210484052),\n",
       " (222, 0.08558837950972084),\n",
       " (223, 0.11864450623399139),\n",
       " (224, 0.023711326901013803),\n",
       " (225, 0.002658471075040719),\n",
       " (226, 0.0),\n",
       " (227, 0.0),\n",
       " (228, 0.035771114930230996),\n",
       " (229, 0.14888113354015756),\n",
       " (230, 0.036140618174300906),\n",
       " (231, 0.0726638938707041),\n",
       " (232, 0.09496111588536216),\n",
       " (233, 0.05276844616862853),\n",
       " (234, 0.10003031223125453),\n",
       " (235, 0.0737967794455398),\n",
       " (236, 0.06261301234394037),\n",
       " (237, 0.017760272618287352),\n",
       " (238, 0.015196510800719893),\n",
       " (239, 0.01981276532654625),\n",
       " (240, 0.024002543790817045),\n",
       " (241, 0.00937363750601854),\n",
       " (242, 0.02080468656347694),\n",
       " (243, 0.018544343409042336),\n",
       " (244, 0.06631277226010167),\n",
       " (245, 0.019798708733555388),\n",
       " (246, 0.11481723645095737),\n",
       " (247, 0.07637936682899185),\n",
       " (248, 0.08206015589456213),\n",
       " (249, 0.0),\n",
       " (250, 0.01988327793753367),\n",
       " (251, 0.0),\n",
       " (252, 0.04577454888530159),\n",
       " (253, 0.08081262924513866),\n",
       " (254, 0.13615232117717077),\n",
       " (255, 0.012027852596661845),\n",
       " (256, 0.13163252948675472),\n",
       " (257, 0.07232632498138886),\n",
       " (258, 0.11537436976398406),\n",
       " (259, 0.048033396742143616),\n",
       " (260, 0.015799754893866595),\n",
       " (261, 0.02565328429584073),\n",
       " (262, 0.04692154206801084),\n",
       " (263, 0.018228816677099427),\n",
       " (264, 0.09912675063259611),\n",
       " (265, 0.12916787481513922),\n",
       " (266, 0.0),\n",
       " (267, 0.05368602647985153),\n",
       " (268, 0.01813300039864214),\n",
       " (269, 0.0),\n",
       " (270, 0.04388785670526847),\n",
       " (271, 0.0339292545429446),\n",
       " (272, 0.1538770007862648),\n",
       " (273, 0.06620645892611529),\n",
       " (274, 0.0824852741676316),\n",
       " (275, 0.02910841597107905),\n",
       " (276, 0.0),\n",
       " (277, 0.0),\n",
       " (278, 0.08556209648330297),\n",
       " (279, 0.07682550331829452),\n",
       " (280, 0.046756754202020426),\n",
       " (281, 0.012968197160458021),\n",
       " (282, 0.020692338999509313),\n",
       " (283, 0.044329459567618204),\n",
       " (284, 0.08450962830817643),\n",
       " (285, 0.008632196240696085),\n",
       " (286, 0.013393439381476843),\n",
       " (287, 0.019701558290507154),\n",
       " (288, 0.023520551934988126),\n",
       " (289, 0.12225698171301372),\n",
       " (290, 0.0),\n",
       " (291, 0.024186932359531465),\n",
       " (292, 0.06352962664149069),\n",
       " (293, 0.0),\n",
       " (294, 0.05913776231763752),\n",
       " (295, 0.08410268000094616),\n",
       " (296, 0.13614833687015301),\n",
       " (297, 0.019279685850739914),\n",
       " (298, 0.01228408419499267),\n",
       " (299, 0.07011877095888173),\n",
       " (300, 0.04319888622376259),\n",
       " (301, 0.028674186919701583),\n",
       " (302, 0.021848414458001016),\n",
       " (303, 0.0637367761069208),\n",
       " (304, 0.07130938343475739),\n",
       " (305, 0.1391422697207925),\n",
       " (306, 0.015388978068371946),\n",
       " (307, 0.11671319952059567),\n",
       " (308, 0.01810630003181428),\n",
       " (309, 0.1309969918073752),\n",
       " (310, 0.04685691195043191),\n",
       " (311, 0.09459803081006879),\n",
       " (312, 0.0),\n",
       " (313, 0.06298902376293508),\n",
       " (314, 0.0),\n",
       " (315, 0.20469829119944727),\n",
       " (316, 0.07246533169556696),\n",
       " (317, 0.0),\n",
       " (318, 0.0766544261653792),\n",
       " (319, 0.12070545241831657),\n",
       " (320, 0.010155916748332713),\n",
       " (321, 0.02514496051050757),\n",
       " (322, 0.0),\n",
       " (323, 0.08721251355780599),\n",
       " (324, 0.039025692032015974),\n",
       " (325, 0.18515418624826524),\n",
       " (326, 0.022092149331515022),\n",
       " (327, 0.016858600203123682),\n",
       " (328, 0.029755254482476432),\n",
       " (329, 0.06644569122065519),\n",
       " (330, 0.09825352675188453),\n",
       " (331, 0.10198495314118107),\n",
       " (332, 0.016401807331652387),\n",
       " (333, 0.11635608518652639),\n",
       " (334, 0.10002511056608657),\n",
       " (335, 0.03402799665376873),\n",
       " (336, 0.02598903460282222),\n",
       " (337, 0.07456013956314114),\n",
       " (338, 0.0825618965856072),\n",
       " (339, 0.017848775092703408),\n",
       " (340, 0.0),\n",
       " (341, 0.02121499205268589),\n",
       " (342, 0.14900173136616937),\n",
       " (343, 0.042776740901745616),\n",
       " (344, 0.0),\n",
       " (345, 0.010359148754172702),\n",
       " (346, 0.020977332043161333),\n",
       " (347, 0.02870690134781952),\n",
       " (348, 0.0),\n",
       " (349, 0.020233897176800252),\n",
       " (350, 0.0),\n",
       " (351, 0.011641059051921846),\n",
       " (352, 0.00929155898064548),\n",
       " (353, 0.20143976888534182),\n",
       " (354, 0.015143316804933846),\n",
       " (355, 0.038023230066809986),\n",
       " (356, 0.0650927773464465),\n",
       " (357, 0.08783200280911324),\n",
       " (358, 0.057626684101655556),\n",
       " (359, 0.06047280412250456),\n",
       " (360, 0.0),\n",
       " (361, 0.019543858278628073),\n",
       " (362, 0.07641909380166526),\n",
       " (363, 0.15917802996766617),\n",
       " (364, 0.06976965848409127),\n",
       " (365, 0.0),\n",
       " (366, 0.14220017278956634),\n",
       " (367, 0.07367223302634085),\n",
       " (368, 0.028641584081506688),\n",
       " (369, 0.046567461272644294),\n",
       " (370, 0.01760774628955633),\n",
       " (371, 0.11070589087189954),\n",
       " (372, 0.07794022324434832),\n",
       " (373, 0.08683203255177212),\n",
       " (374, 0.11628025009488864),\n",
       " (375, 0.0953954175182986),\n",
       " (376, 0.1066046640468056),\n",
       " (377, 0.0),\n",
       " (378, 0.020614445739041067),\n",
       " (379, 0.05849570322441473),\n",
       " (380, 0.017509496267342054),\n",
       " (381, 0.05607437453626603),\n",
       " (382, 0.02052498940530881),\n",
       " (383, 0.09503664753758422),\n",
       " (384, 0.12770657155154852),\n",
       " (385, 0.0),\n",
       " (386, 0.06654308644336593),\n",
       " (387, 0.08898116579407876),\n",
       " (388, 0.034571633523174564),\n",
       " (389, 0.027098969433214628),\n",
       " (390, 0.014652347953027238),\n",
       " (391, 0.05956010178612179),\n",
       " (392, 0.017121067963763118),\n",
       " (393, 0.024077577298580306),\n",
       " (394, 0.01755261908560742),\n",
       " (395, 0.1148669288142544),\n",
       " (396, 0.060992344783897166),\n",
       " (397, 0.13911510184180403),\n",
       " (398, 0.0),\n",
       " (399, 0.06500117566651653),\n",
       " (400, 0.0),\n",
       " (401, 0.0),\n",
       " (402, 0.05613944434228448),\n",
       " (403, 0.022078354669332327),\n",
       " (404, 0.008231548103223569),\n",
       " (405, 0.022384132857136686),\n",
       " (406, 0.06952804056257057),\n",
       " (407, 0.14912013126688792),\n",
       " (408, 0.08192628404451686),\n",
       " (409, 0.0),\n",
       " (410, 0.07029987165890327),\n",
       " (411, 0.015062006231561068),\n",
       " (412, 0.09874723127341087),\n",
       " (413, 0.0),\n",
       " (414, 0.01633245790075744),\n",
       " (415, 0.0),\n",
       " (416, 0.048927688972128944),\n",
       " (417, 0.15628767003519692),\n",
       " (418, 0.0),\n",
       " (419, 0.02269156048621941),\n",
       " (420, 0.0193617811831198),\n",
       " (421, 0.010772468937396775),\n",
       " (422, 0.024825244892303568),\n",
       " (423, 0.008730065964077641),\n",
       " (424, 0.08034116040728524),\n",
       " (425, 0.01825804023688717),\n",
       " (426, 0.06844391587146191),\n",
       " (427, 0.021080423777674877),\n",
       " (428, 0.1249330600174654),\n",
       " (429, 0.0974170581331768),\n",
       " (430, 0.08420687805760833),\n",
       " (431, 0.061918062220213586),\n",
       " (432, 0.02808902163900285),\n",
       " (433, 0.042243533657652724),\n",
       " (434, 0.045855847780912874),\n",
       " (435, 0.050894316464521736),\n",
       " (436, 0.0),\n",
       " (437, 0.08751806167837041),\n",
       " (438, 0.00853121970560097),\n",
       " (439, 0.09668409745266401),\n",
       " (440, 0.09965577298974786),\n",
       " (441, 0.0),\n",
       " (442, 0.12010638118647249),\n",
       " (443, 0.1199106932868684),\n",
       " (444, 0.017137071684762455),\n",
       " (445, 0.01975981906973765),\n",
       " (446, 0.10072474941620055),\n",
       " (447, 0.12693219505302375),\n",
       " (448, 0.08757791997148481),\n",
       " (449, 0.08773484733273175),\n",
       " (450, 0.05194963640104071),\n",
       " (451, 0.07826897800033467),\n",
       " (452, 0.04479586927665188),\n",
       " (453, 0.05982032433839682),\n",
       " (454, 0.022269290803115963),\n",
       " (455, 0.02245645224525099),\n",
       " (456, 0.06355335392485563),\n",
       " (457, 0.018661190172188546),\n",
       " (458, 0.0),\n",
       " (459, 0.044259725044918076),\n",
       " (460, 0.0),\n",
       " (461, 0.0),\n",
       " (462, 0.05126670334200117),\n",
       " (463, 0.01283225842585771),\n",
       " (464, 0.0),\n",
       " (465, 0.08796171833820543),\n",
       " (466, 0.0),\n",
       " (467, 0.04734378434348944),\n",
       " (468, 0.12186922619140572),\n",
       " (469, 0.07159270083421779),\n",
       " (470, 0.10088269487111347),\n",
       " (471, 0.016746164475006715),\n",
       " (472, 0.09664897669398803),\n",
       " (473, 0.07883946086990776),\n",
       " (474, 0.003428525782102762),\n",
       " (475, 0.021715398087364522),\n",
       " (476, 0.04634827368917979),\n",
       " (477, 0.10836800888608529),\n",
       " (478, 0.050112429207054526),\n",
       " (479, 0.05520465109403304),\n",
       " (480, 0.0),\n",
       " (481, 0.05931205520849227),\n",
       " (482, 0.10522933859091786),\n",
       " (483, 0.0),\n",
       " (484, 0.0736045668118945),\n",
       " (485, 0.0),\n",
       " (486, 0.132935899130592),\n",
       " (487, 0.04673438994816359),\n",
       " (488, 0.1543518729334901),\n",
       " (489, 0.0),\n",
       " (490, 0.0171461847253878),\n",
       " (491, 0.05298478023808025),\n",
       " (492, 0.0),\n",
       " (493, 0.07892531163996896),\n",
       " (494, 0.1275415137320892),\n",
       " (495, 0.0056688481615678275),\n",
       " (496, 0.06966708376041454),\n",
       " (497, 0.05288921910947858),\n",
       " (498, 0.05762264409042139),\n",
       " (499, 0.11811512491539254),\n",
       " (500, 0.05028948204122814),\n",
       " (501, 0.18790707816989385),\n",
       " (502, 0.11199348824195932),\n",
       " (503, 0.06345597902735843),\n",
       " (504, 0.062373683046773334),\n",
       " (505, 0.0),\n",
       " (506, 0.0),\n",
       " (507, 0.10574616771210477),\n",
       " (508, 0.11107323837045466),\n",
       " (509, 0.04519975754598484),\n",
       " (510, 0.01778349517576035),\n",
       " (511, 0.0),\n",
       " (512, 0.011644727641486666),\n",
       " (513, 0.2142249863657188),\n",
       " (514, 0.05660340669222072),\n",
       " (515, 0.0423734041229564),\n",
       " (516, 0.025782210644827164),\n",
       " (517, 0.0708932868624412),\n",
       " (518, 0.05065985169330193),\n",
       " (519, 0.07055970638425692),\n",
       " (520, 0.015847455648434986),\n",
       " (521, 0.10637857861259928),\n",
       " (522, 0.023692881680874106),\n",
       " (523, 0.01280108609850742),\n",
       " (524, 0.1326696591858805),\n",
       " (525, 0.11435111674580672),\n",
       " (526, 0.08367405612965635),\n",
       " (527, 0.08924327146615292),\n",
       " (528, 0.10561371009861022),\n",
       " (529, 0.06692383285525921),\n",
       " (530, 0.07990102780945309),\n",
       " (531, 0.13025343960927546),\n",
       " (532, 0.0),\n",
       " (533, 0.1945913301271719),\n",
       " (534, 0.02227428783914949),\n",
       " (535, 0.0785558510940234),\n",
       " (536, 0.0),\n",
       " (537, 0.05608028959259705),\n",
       " (538, 0.06564822103902915),\n",
       " (539, 0.0),\n",
       " (540, 0.1915092894769818),\n",
       " (541, 0.06144288769054244),\n",
       " (542, 0.034094130516191645),\n",
       " (543, 0.09791433189439425),\n",
       " (544, 0.09349733543930942),\n",
       " (545, 0.02124116725332931),\n",
       " (546, 0.022579326747877868),\n",
       " (547, 0.06309648555442603),\n",
       " (548, 0.06870929031980245),\n",
       " (549, 0.08067563175994914),\n",
       " (550, 0.16571429613724833),\n",
       " (551, 0.07028452731704),\n",
       " (552, 0.011420642642429105),\n",
       " (553, 0.08321624900253381),\n",
       " (554, 0.17528356134820602),\n",
       " (555, 0.07801419012989912),\n",
       " (556, 0.016948992561665717),\n",
       " (557, 0.16298683907968622),\n",
       " (558, 0.25717553496685785),\n",
       " (559, 0.1793562146567134),\n",
       " (560, 0.05456291227548526),\n",
       " (561, 0.04027312155487893),\n",
       " (562, 0.06733334322780962),\n",
       " (563, 0.1408516498065476),\n",
       " (564, 0.2204467783292418),\n",
       " (565, 0.18715039796581026),\n",
       " (566, 0.023318076966728107),\n",
       " (567, 0.19510223814372807),\n",
       " (568, 0.014688918586939248),\n",
       " (569, 0.049006314714900176),\n",
       " (570, 0.1201658413991955),\n",
       " (571, 0.13836538353551028),\n",
       " (572, 0.024085219761016404),\n",
       " (573, 0.0834363186800032),\n",
       " (574, 0.023026629590177143),\n",
       " (575, 0.12465092777990955),\n",
       " (576, 0.010553051718045317),\n",
       " (577, 0.07163406099253589),\n",
       " (578, 0.09287440250839385),\n",
       " (579, 0.03333918535415906),\n",
       " (580, 0.07009250280253378),\n",
       " (581, 0.022380211675699143),\n",
       " (582, 0.14949586193709227),\n",
       " (583, 0.08568460938850256),\n",
       " (584, 0.0),\n",
       " (585, 0.0),\n",
       " (586, 0.01830356146761774),\n",
       " (587, 0.09521681434392457),\n",
       " (588, 0.04291123579015548),\n",
       " (589, 0.1482087579827798),\n",
       " (590, 0.01483113454242387),\n",
       " (591, 0.10042398387835795),\n",
       " (592, 0.0556883748569272),\n",
       " (593, 0.0448178984693842),\n",
       " (594, 0.0594757930466015),\n",
       " (595, 0.06403331024039588),\n",
       " (596, 0.14050561676248413),\n",
       " (597, 0.08059794519820399),\n",
       " (598, 0.0),\n",
       " (599, 0.04095624930906902),\n",
       " (600, 0.0221755981038419),\n",
       " (601, 0.1693494650818239),\n",
       " (602, 0.018608624482462147),\n",
       " (603, 0.15588904638387238),\n",
       " (604, 0.14304028047181155),\n",
       " (605, 0.0),\n",
       " (606, 0.05787816221602639),\n",
       " (607, 0.07526504142495816),\n",
       " (608, 0.0727284543213628),\n",
       " (609, 0.06378381744008804),\n",
       " (610, 0.06841053608656329),\n",
       " (611, 0.1843490366438097),\n",
       " (612, 0.02430012449402242),\n",
       " (613, 0.016611907344343996),\n",
       " (614, 0.05297822409513497),\n",
       " (615, 0.04805997481426211),\n",
       " (616, 0.0),\n",
       " (617, 0.11781588120620952),\n",
       " (618, 0.07795876148166474),\n",
       " (619, 0.12291610885083701),\n",
       " (620, 0.022473546296782578),\n",
       " (621, 0.05971527522977225),\n",
       " (622, 0.02037015391618116),\n",
       " (623, 0.043891105576809766),\n",
       " (624, 0.10002638403816352),\n",
       " (625, 0.10450219251020067),\n",
       " (626, 0.025383574370671163),\n",
       " (627, 0.00169242926737365),\n",
       " (628, 0.09619109375790216),\n",
       " (629, 0.07708449643350376),\n",
       " (630, 0.021037125924361706),\n",
       " (631, 0.0157277269810035),\n",
       " (632, 0.020310440637468844),\n",
       " (633, 0.09545575468081709),\n",
       " (634, 0.017809034222295468),\n",
       " (635, 0.18094225216441853),\n",
       " (636, 0.052071695344333764),\n",
       " (637, 0.1843874814079204),\n",
       " (638, 0.05742650919761644),\n",
       " (639, 0.01449900583074111),\n",
       " (640, 0.11715625950258408),\n",
       " (641, 0.09587365657045294),\n",
       " (642, 0.010211784933566167),\n",
       " (643, 0.10323797368101506),\n",
       " (644, 0.07421358421857317),\n",
       " (645, 0.07847313249394076),\n",
       " (646, 0.0),\n",
       " (647, 0.22700367288326906),\n",
       " (648, 0.010460384647470853),\n",
       " (649, 0.13224569739150674),\n",
       " (650, 0.025915865828304217),\n",
       " (651, 0.14068767501456034),\n",
       " (652, 0.0),\n",
       " (653, 0.1220099192805649),\n",
       " (654, 0.0628905321068132),\n",
       " (655, 0.02745083854076375),\n",
       " (656, 0.14074167092377274),\n",
       " (657, 0.016767976486173064),\n",
       " (658, 0.09263708638276434),\n",
       " (659, 0.050458685752415224),\n",
       " (660, 0.05823817135534262),\n",
       " (661, 0.17633623834710418),\n",
       " (662, 0.14735973438655803),\n",
       " (663, 0.1070819397475215),\n",
       " (664, 0.1288189145950784),\n",
       " (665, 0.03853185836842802),\n",
       " (666, 0.037376791524773995),\n",
       " (667, 0.02400155065693728),\n",
       " (668, 0.07643700969701771),\n",
       " (669, 0.03246169487797916),\n",
       " (670, 0.029303539334091043),\n",
       " (671, 0.024202114102305595),\n",
       " (672, 0.04115084334093072),\n",
       " (673, 0.14073151278961762),\n",
       " (674, 0.1202296886978092),\n",
       " (675, 0.014713737679104694),\n",
       " (676, 0.02771241940754037),\n",
       " (677, 0.020772027049671092),\n",
       " (678, 0.0720173673826542),\n",
       " (679, 0.086753488355738),\n",
       " (680, 0.15485243550124775),\n",
       " (681, 0.0676895316551231),\n",
       " (682, 0.010335141424671991),\n",
       " (683, 0.0961714696279137),\n",
       " (684, 0.05564518487303545),\n",
       " (685, 0.09244430072020564),\n",
       " (686, 0.009245461039317478),\n",
       " (687, 0.130222420672014),\n",
       " (688, 0.056450997014158955),\n",
       " (689, 0.0),\n",
       " (690, 0.06548481227510251),\n",
       " (691, 0.020138557936476422),\n",
       " (692, 0.0),\n",
       " (693, 0.01792136682481349),\n",
       " (694, 0.0),\n",
       " (695, 0.12329997861653876),\n",
       " (696, 0.0798097909890366),\n",
       " (697, 0.08861856720415417),\n",
       " (698, 0.007118056266836121),\n",
       " (699, 0.07261966994594977),\n",
       " (700, 0.0),\n",
       " (701, 0.04110338067335807),\n",
       " (702, 0.08177070396433911),\n",
       " (703, 0.07585629680834927),\n",
       " (704, 0.0),\n",
       " (705, 0.06967922923098174),\n",
       " (706, 0.023456945153962124),\n",
       " (707, 0.015930875439996984),\n",
       " (708, 0.03638551996384881),\n",
       " (709, 0.051025786938434174),\n",
       " (710, 0.011108558010761787),\n",
       " (711, 0.009438188649941648),\n",
       " (712, 0.1220848833862817),\n",
       " (713, 0.0),\n",
       " (714, 0.008671525694404799),\n",
       " (715, 0.057133317582110106),\n",
       " (716, 0.015926521127111137),\n",
       " (717, 0.11799011937685382),\n",
       " (718, 0.07158662540079876)]"
      ]
     },
     "execution_count": 72,
     "metadata": {},
     "output_type": "execute_result"
    }
   ],
   "source": [
    "list(enumerate(similarity_scores[0]))"
   ]
  },
  {
   "cell_type": "code",
   "execution_count": 73,
   "id": "38935cd7",
   "metadata": {
    "execution": {
     "iopub.execute_input": "2023-11-03T04:14:08.216565Z",
     "iopub.status.busy": "2023-11-03T04:14:08.215364Z",
     "iopub.status.idle": "2023-11-03T04:14:08.261144Z",
     "shell.execute_reply": "2023-11-03T04:14:08.259953Z"
    },
    "papermill": {
     "duration": 0.102304,
     "end_time": "2023-11-03T04:14:08.263680",
     "exception": false,
     "start_time": "2023-11-03T04:14:08.161376",
     "status": "completed"
    },
    "tags": []
   },
   "outputs": [
    {
     "data": {
      "text/plain": [
       "[(0, 1.0),\n",
       " (48, 0.26331668558969296),\n",
       " (558, 0.25717553496685785),\n",
       " (83, 0.23060840046543507),\n",
       " (647, 0.22700367288326906),\n",
       " (564, 0.2204467783292418),\n",
       " (181, 0.21650925243379174),\n",
       " (513, 0.2142249863657188),\n",
       " (315, 0.20469829119944727),\n",
       " (353, 0.20143976888534182),\n",
       " (567, 0.19510223814372807),\n",
       " (533, 0.1945913301271719),\n",
       " (540, 0.1915092894769818),\n",
       " (501, 0.18790707816989385),\n",
       " (565, 0.18715039796581026),\n",
       " (325, 0.18515418624826524),\n",
       " (637, 0.1843874814079204),\n",
       " (611, 0.1843490366438097),\n",
       " (61, 0.18422051694704247),\n",
       " (635, 0.18094225216441853),\n",
       " (559, 0.1793562146567134),\n",
       " (661, 0.17633623834710418),\n",
       " (203, 0.17585166214330838),\n",
       " (554, 0.17528356134820602),\n",
       " (601, 0.1693494650818239),\n",
       " (550, 0.16571429613724833),\n",
       " (557, 0.16298683907968622),\n",
       " (67, 0.16140807538784901),\n",
       " (119, 0.16102364040924586),\n",
       " (363, 0.15917802996766617),\n",
       " (417, 0.15628767003519692),\n",
       " (603, 0.15588904638387238),\n",
       " (680, 0.15485243550124775),\n",
       " (92, 0.15443300128602558),\n",
       " (488, 0.1543518729334901),\n",
       " (272, 0.1538770007862648),\n",
       " (582, 0.14949586193709227),\n",
       " (407, 0.14912013126688792),\n",
       " (342, 0.14900173136616937),\n",
       " (229, 0.14888113354015756),\n",
       " (216, 0.14844220121863017),\n",
       " (589, 0.1482087579827798),\n",
       " (662, 0.14735973438655803),\n",
       " (175, 0.14526272849720298),\n",
       " (170, 0.14324839677850623),\n",
       " (192, 0.14313460113858884),\n",
       " (604, 0.14304028047181155),\n",
       " (366, 0.14220017278956634),\n",
       " (120, 0.14166835530492738),\n",
       " (563, 0.1408516498065476),\n",
       " (656, 0.14074167092377274),\n",
       " (673, 0.14073151278961762),\n",
       " (651, 0.14068767501456034),\n",
       " (596, 0.14050561676248413),\n",
       " (23, 0.13965274219894008),\n",
       " (305, 0.1391422697207925),\n",
       " (397, 0.13911510184180403),\n",
       " (571, 0.13836538353551028),\n",
       " (87, 0.13811804122731114),\n",
       " (154, 0.13781516595127977),\n",
       " (254, 0.13615232117717077),\n",
       " (296, 0.13614833687015301),\n",
       " (8, 0.13379800079660079),\n",
       " (486, 0.132935899130592),\n",
       " (524, 0.1326696591858805),\n",
       " (649, 0.13224569739150674),\n",
       " (256, 0.13163252948675472),\n",
       " (309, 0.1309969918073752),\n",
       " (17, 0.13044639995428942),\n",
       " (531, 0.13025343960927546),\n",
       " (687, 0.130222420672014),\n",
       " (69, 0.13013830397768777),\n",
       " (207, 0.12936761058023763),\n",
       " (265, 0.12916787481513922),\n",
       " (664, 0.1288189145950784),\n",
       " (384, 0.12770657155154852),\n",
       " (494, 0.1275415137320892),\n",
       " (447, 0.12693219505302375),\n",
       " (197, 0.12540170429956665),\n",
       " (428, 0.1249330600174654),\n",
       " (575, 0.12465092777990955),\n",
       " (66, 0.12354121580054411),\n",
       " (695, 0.12329997861653876),\n",
       " (619, 0.12291610885083701),\n",
       " (289, 0.12225698171301372),\n",
       " (712, 0.1220848833862817),\n",
       " (653, 0.1220099192805649),\n",
       " (468, 0.12186922619140572),\n",
       " (319, 0.12070545241831657),\n",
       " (40, 0.1202648555294815),\n",
       " (674, 0.1202296886978092),\n",
       " (218, 0.12021004209793373),\n",
       " (570, 0.1201658413991955),\n",
       " (442, 0.12010638118647249),\n",
       " (443, 0.1199106932868684),\n",
       " (223, 0.11864450623399139),\n",
       " (41, 0.1185431932539106),\n",
       " (499, 0.11811512491539254),\n",
       " (102, 0.11802810925393885),\n",
       " (717, 0.11799011937685382),\n",
       " (617, 0.11781588120620952),\n",
       " (640, 0.11715625950258408),\n",
       " (307, 0.11671319952059567),\n",
       " (333, 0.11635608518652639),\n",
       " (374, 0.11628025009488864),\n",
       " (258, 0.11537436976398406),\n",
       " (395, 0.1148669288142544),\n",
       " (246, 0.11481723645095737),\n",
       " (525, 0.11435111674580672),\n",
       " (21, 0.11405414701564792),\n",
       " (88, 0.11361279050085639),\n",
       " (97, 0.1132454684424845),\n",
       " (502, 0.11199348824195932),\n",
       " (508, 0.11107323837045466),\n",
       " (371, 0.11070589087189954),\n",
       " (18, 0.10866787678155022),\n",
       " (477, 0.10836800888608529),\n",
       " (118, 0.10755626374328939),\n",
       " (663, 0.1070819397475215),\n",
       " (75, 0.10686088267827762),\n",
       " (376, 0.1066046640468056),\n",
       " (521, 0.10637857861259928),\n",
       " (507, 0.10574616771210477),\n",
       " (528, 0.10561371009861022),\n",
       " (482, 0.10522933859091786),\n",
       " (625, 0.10450219251020067),\n",
       " (152, 0.10410090866700955),\n",
       " (643, 0.10323797368101506),\n",
       " (80, 0.10248693521610205),\n",
       " (331, 0.10198495314118107),\n",
       " (85, 0.10130612197313289),\n",
       " (194, 0.10093291383593442),\n",
       " (470, 0.10088269487111347),\n",
       " (150, 0.10075320470893027),\n",
       " (446, 0.10072474941620055),\n",
       " (206, 0.10047574650002129),\n",
       " (591, 0.10042398387835795),\n",
       " (234, 0.10003031223125453),\n",
       " (624, 0.10002638403816352),\n",
       " (334, 0.10002511056608657),\n",
       " (1, 0.09991370443681998),\n",
       " (440, 0.09965577298974786),\n",
       " (264, 0.09912675063259611),\n",
       " (412, 0.09874723127341087),\n",
       " (330, 0.09825352675188453),\n",
       " (543, 0.09791433189439425),\n",
       " (429, 0.0974170581331768),\n",
       " (138, 0.09718525537292937),\n",
       " (439, 0.09668409745266401),\n",
       " (472, 0.09664897669398803),\n",
       " (153, 0.09644228313399218),\n",
       " (28, 0.09621378577288568),\n",
       " (628, 0.09619109375790216),\n",
       " (683, 0.0961714696279137),\n",
       " (641, 0.09587365657045294),\n",
       " (633, 0.09545575468081709),\n",
       " (195, 0.09542563340368916),\n",
       " (375, 0.0953954175182986),\n",
       " (49, 0.09527703545347672),\n",
       " (587, 0.09521681434392457),\n",
       " (383, 0.09503664753758422),\n",
       " (232, 0.09496111588536216),\n",
       " (311, 0.09459803081006879),\n",
       " (15, 0.09425025422049897),\n",
       " (183, 0.0942457020952218),\n",
       " (544, 0.09349733543930942),\n",
       " (578, 0.09287440250839385),\n",
       " (658, 0.09263708638276434),\n",
       " (36, 0.09251799313259884),\n",
       " (685, 0.09244430072020564),\n",
       " (212, 0.08966430631606893),\n",
       " (527, 0.08924327146615292),\n",
       " (387, 0.08898116579407876),\n",
       " (697, 0.08861856720415417),\n",
       " (465, 0.08796171833820543),\n",
       " (357, 0.08783200280911324),\n",
       " (449, 0.08773484733273175),\n",
       " (448, 0.08757791997148481),\n",
       " (437, 0.08751806167837041),\n",
       " (51, 0.08728505291846037),\n",
       " (323, 0.08721251355780599),\n",
       " (373, 0.08683203255177212),\n",
       " (679, 0.086753488355738),\n",
       " (583, 0.08568460938850256),\n",
       " (45, 0.08560053653512883),\n",
       " (222, 0.08558837950972084),\n",
       " (278, 0.08556209648330297),\n",
       " (156, 0.08506040125109933),\n",
       " (26, 0.08499677059744355),\n",
       " (284, 0.08450962830817643),\n",
       " (217, 0.08448392837418352),\n",
       " (430, 0.08420687805760833),\n",
       " (295, 0.08410268000094616),\n",
       " (526, 0.08367405612965635),\n",
       " (573, 0.0834363186800032),\n",
       " (553, 0.08321624900253381),\n",
       " (338, 0.0825618965856072),\n",
       " (274, 0.0824852741676316),\n",
       " (248, 0.08206015589456213),\n",
       " (408, 0.08192628404451686),\n",
       " (702, 0.08177070396433911),\n",
       " (43, 0.08139371923884797),\n",
       " (89, 0.0811682375532799),\n",
       " (16, 0.08089640554206895),\n",
       " (253, 0.08081262924513866),\n",
       " (549, 0.08067563175994914),\n",
       " (597, 0.08059794519820399),\n",
       " (424, 0.08034116040728524),\n",
       " (213, 0.0801825642120935),\n",
       " (7, 0.08005246987594641),\n",
       " (530, 0.07990102780945309),\n",
       " (696, 0.0798097909890366),\n",
       " (122, 0.07930224367172342),\n",
       " (493, 0.07892531163996896),\n",
       " (473, 0.07883946086990776),\n",
       " (221, 0.07863527210484052),\n",
       " (535, 0.0785558510940234),\n",
       " (645, 0.07847313249394076),\n",
       " (451, 0.07826897800033467),\n",
       " (555, 0.07801419012989912),\n",
       " (618, 0.07795876148166474),\n",
       " (372, 0.07794022324434832),\n",
       " (39, 0.07778744949702383),\n",
       " (33, 0.07761014992531964),\n",
       " (629, 0.07708449643350376),\n",
       " (44, 0.07683348063032663),\n",
       " (279, 0.07682550331829452),\n",
       " (59, 0.0767454122633513),\n",
       " (318, 0.0766544261653792),\n",
       " (24, 0.07645775981397283),\n",
       " (668, 0.07643700969701771),\n",
       " (362, 0.07641909380166526),\n",
       " (247, 0.07637936682899185),\n",
       " (159, 0.07634514942880985),\n",
       " (703, 0.07585629680834927),\n",
       " (607, 0.07526504142495816),\n",
       " (337, 0.07456013956314114),\n",
       " (644, 0.07421358421857317),\n",
       " (29, 0.0740492482078533),\n",
       " (235, 0.0737967794455398),\n",
       " (367, 0.07367223302634085),\n",
       " (484, 0.0736045668118945),\n",
       " (198, 0.07340486533047849),\n",
       " (165, 0.07285412372335064),\n",
       " (608, 0.0727284543213628),\n",
       " (124, 0.07266454000367582),\n",
       " (231, 0.0726638938707041),\n",
       " (699, 0.07261966994594977),\n",
       " (316, 0.07246533169556696),\n",
       " (257, 0.07232632498138886),\n",
       " (113, 0.07231424654580308),\n",
       " (678, 0.0720173673826542),\n",
       " (577, 0.07163406099253589),\n",
       " (469, 0.07159270083421779),\n",
       " (718, 0.07158662540079876),\n",
       " (304, 0.07130938343475739),\n",
       " (517, 0.0708932868624412),\n",
       " (187, 0.07075312610437876),\n",
       " (132, 0.0707230921294833),\n",
       " (519, 0.07055970638425692),\n",
       " (410, 0.07029987165890327),\n",
       " (551, 0.07028452731704),\n",
       " (299, 0.07011877095888173),\n",
       " (580, 0.07009250280253378),\n",
       " (364, 0.06976965848409127),\n",
       " (705, 0.06967922923098174),\n",
       " (496, 0.06966708376041454),\n",
       " (406, 0.06952804056257057),\n",
       " (548, 0.06870929031980245),\n",
       " (426, 0.06844391587146191),\n",
       " (610, 0.06841053608656329),\n",
       " (681, 0.0676895316551231),\n",
       " (562, 0.06733334322780962),\n",
       " (78, 0.06699347109102612),\n",
       " (529, 0.06692383285525921),\n",
       " (386, 0.06654308644336593),\n",
       " (329, 0.06644569122065519),\n",
       " (244, 0.06631277226010167),\n",
       " (273, 0.06620645892611529),\n",
       " (13, 0.06592521898256122),\n",
       " (52, 0.06575168559659123),\n",
       " (538, 0.06564822103902915),\n",
       " (690, 0.06548481227510251),\n",
       " (356, 0.0650927773464465),\n",
       " (399, 0.06500117566651653),\n",
       " (70, 0.06445395608545612),\n",
       " (196, 0.06440055359901856),\n",
       " (91, 0.06440002430836199),\n",
       " (595, 0.06403331024039588),\n",
       " (609, 0.06378381744008804),\n",
       " (303, 0.0637367761069208),\n",
       " (110, 0.06356828046741919),\n",
       " (456, 0.06355335392485563),\n",
       " (292, 0.06352962664149069),\n",
       " (503, 0.06345597902735843),\n",
       " (105, 0.06343332368602739),\n",
       " (547, 0.06309648555442603),\n",
       " (313, 0.06298902376293508),\n",
       " (654, 0.0628905321068132),\n",
       " (236, 0.06261301234394037),\n",
       " (504, 0.062373683046773334),\n",
       " (214, 0.0622415698711718),\n",
       " (431, 0.061918062220213586),\n",
       " (541, 0.06144288769054244),\n",
       " (396, 0.060992344783897166),\n",
       " (121, 0.060770900684454204),\n",
       " (359, 0.06047280412250456),\n",
       " (86, 0.060091815719488566),\n",
       " (25, 0.05992324616320607),\n",
       " (453, 0.05982032433839682),\n",
       " (621, 0.05971527522977225),\n",
       " (391, 0.05956010178612179),\n",
       " (594, 0.0594757930466015),\n",
       " (481, 0.05931205520849227),\n",
       " (171, 0.05930778988644408),\n",
       " (294, 0.05913776231763752),\n",
       " (50, 0.05861374987374356),\n",
       " (379, 0.05849570322441473),\n",
       " (148, 0.05841022990890417),\n",
       " (190, 0.05840542307600225),\n",
       " (660, 0.05823817135534262),\n",
       " (606, 0.05787816221602639),\n",
       " (126, 0.05783708317109021),\n",
       " (358, 0.057626684101655556),\n",
       " (498, 0.05762264409042139),\n",
       " (638, 0.05742650919761644),\n",
       " (715, 0.057133317582110106),\n",
       " (104, 0.056695741520506625),\n",
       " (514, 0.05660340669222072),\n",
       " (688, 0.056450997014158955),\n",
       " (402, 0.05613944434228448),\n",
       " (537, 0.05608028959259705),\n",
       " (381, 0.05607437453626603),\n",
       " (592, 0.0556883748569272),\n",
       " (684, 0.05564518487303545),\n",
       " (42, 0.05544919673069813),\n",
       " (479, 0.05520465109403304),\n",
       " (123, 0.055100144522463826),\n",
       " (57, 0.054843448009898516),\n",
       " (176, 0.05462638773822999),\n",
       " (560, 0.05456291227548526),\n",
       " (267, 0.05368602647985153),\n",
       " (46, 0.053502515977879195),\n",
       " (47, 0.05344030451025426),\n",
       " (491, 0.05298478023808025),\n",
       " (614, 0.05297822409513497),\n",
       " (497, 0.05288921910947858),\n",
       " (233, 0.05276844616862853),\n",
       " (186, 0.052614899414182854),\n",
       " (209, 0.05234845949912103),\n",
       " (5, 0.0522923428754616),\n",
       " (636, 0.052071695344333764),\n",
       " (450, 0.05194963640104071),\n",
       " (108, 0.05137593095734639),\n",
       " (462, 0.05126670334200117),\n",
       " (709, 0.051025786938434174),\n",
       " (435, 0.050894316464521736),\n",
       " (60, 0.05085287581078625),\n",
       " (518, 0.05065985169330193),\n",
       " (659, 0.050458685752415224),\n",
       " (500, 0.05028948204122814),\n",
       " (478, 0.050112429207054526),\n",
       " (204, 0.05009695201513879),\n",
       " (19, 0.049692801008612855),\n",
       " (569, 0.049006314714900176),\n",
       " (416, 0.048927688972128944),\n",
       " (155, 0.04878689280370779),\n",
       " (615, 0.04805997481426211),\n",
       " (259, 0.048033396742143616),\n",
       " (467, 0.04734378434348944),\n",
       " (262, 0.04692154206801084),\n",
       " (310, 0.04685691195043191),\n",
       " (280, 0.046756754202020426),\n",
       " (487, 0.04673438994816359),\n",
       " (369, 0.046567461272644294),\n",
       " (215, 0.046506072089293166),\n",
       " (205, 0.04649059843320379),\n",
       " (103, 0.046460029846088935),\n",
       " (107, 0.04644489936294823),\n",
       " (476, 0.04634827368917979),\n",
       " (129, 0.046123802971489845),\n",
       " (434, 0.045855847780912874),\n",
       " (252, 0.04577454888530159),\n",
       " (509, 0.04519975754598484),\n",
       " (593, 0.0448178984693842),\n",
       " (452, 0.04479586927665188),\n",
       " (208, 0.04459729640236159),\n",
       " (283, 0.044329459567618204),\n",
       " (459, 0.044259725044918076),\n",
       " (34, 0.04406341116244771),\n",
       " (74, 0.044055409453358736),\n",
       " (161, 0.04399795316887499),\n",
       " (623, 0.043891105576809766),\n",
       " (270, 0.04388785670526847),\n",
       " (54, 0.04353224517142862),\n",
       " (300, 0.04319888622376259),\n",
       " (588, 0.04291123579015548),\n",
       " (343, 0.042776740901745616),\n",
       " (515, 0.0423734041229564),\n",
       " (433, 0.042243533657652724),\n",
       " (4, 0.042050812160027144),\n",
       " (65, 0.041694769446052354),\n",
       " (672, 0.04115084334093072),\n",
       " (701, 0.04110338067335807),\n",
       " (599, 0.04095624930906902),\n",
       " (561, 0.04027312155487893),\n",
       " (324, 0.039025692032015974),\n",
       " (164, 0.03900408740382429),\n",
       " (220, 0.03863444089837187),\n",
       " (665, 0.03853185836842802),\n",
       " (355, 0.038023230066809986),\n",
       " (219, 0.037536255960780925),\n",
       " (666, 0.037376791524773995),\n",
       " (125, 0.03674913879785127),\n",
       " (708, 0.03638551996384881),\n",
       " (230, 0.036140618174300906),\n",
       " (228, 0.035771114930230996),\n",
       " (11, 0.03573297811768626),\n",
       " (189, 0.03556034417929572),\n",
       " (179, 0.03550135192287963),\n",
       " (388, 0.034571633523174564),\n",
       " (542, 0.034094130516191645),\n",
       " (335, 0.03402799665376873),\n",
       " (271, 0.0339292545429446),\n",
       " (210, 0.033890688734092116),\n",
       " (579, 0.03333918535415906),\n",
       " (115, 0.032744662086535294),\n",
       " (128, 0.03269330773716747),\n",
       " (669, 0.03246169487797916),\n",
       " (93, 0.031961788020588),\n",
       " (10, 0.03177829126649559),\n",
       " (81, 0.031671645193325305),\n",
       " (178, 0.03117647183348292),\n",
       " (137, 0.029889459687780586),\n",
       " (328, 0.029755254482476432),\n",
       " (670, 0.029303539334091043),\n",
       " (275, 0.02910841597107905),\n",
       " (127, 0.028793873683973115),\n",
       " (347, 0.02870690134781952),\n",
       " (301, 0.028674186919701583),\n",
       " (368, 0.028641584081506688),\n",
       " (432, 0.02808902163900285),\n",
       " (146, 0.028067618377598656),\n",
       " (64, 0.02775733996500575),\n",
       " (676, 0.02771241940754037),\n",
       " (655, 0.02745083854076375),\n",
       " (142, 0.02738573900052549),\n",
       " (109, 0.0273776498734843),\n",
       " (76, 0.02734448893939146),\n",
       " (389, 0.027098969433214628),\n",
       " (6, 0.027035592129264218),\n",
       " (151, 0.02695615110260651),\n",
       " (173, 0.026713826451792887),\n",
       " (98, 0.02618676719365358),\n",
       " (168, 0.02598903460282222),\n",
       " (336, 0.02598903460282222),\n",
       " (650, 0.025915865828304217),\n",
       " (516, 0.025782210644827164),\n",
       " (261, 0.02565328429584073),\n",
       " (77, 0.025460900446711256),\n",
       " (38, 0.02543350839956968),\n",
       " (626, 0.025383574370671163),\n",
       " (321, 0.02514496051050757),\n",
       " (95, 0.02513456783140031),\n",
       " (172, 0.025120331004341995),\n",
       " (422, 0.024825244892303568),\n",
       " (20, 0.024530524976685255),\n",
       " (612, 0.02430012449402242),\n",
       " (671, 0.024202114102305595),\n",
       " (291, 0.024186932359531465),\n",
       " (572, 0.024085219761016404),\n",
       " (393, 0.024077577298580306),\n",
       " (240, 0.024002543790817045),\n",
       " (667, 0.02400155065693728),\n",
       " (201, 0.023969150294217714),\n",
       " (224, 0.023711326901013803),\n",
       " (522, 0.023692881680874106),\n",
       " (288, 0.023520551934988126),\n",
       " (141, 0.023488794381331633),\n",
       " (706, 0.023456945153962124),\n",
       " (566, 0.023318076966728107),\n",
       " (574, 0.023026629590177143),\n",
       " (419, 0.02269156048621941),\n",
       " (12, 0.022627095695491876),\n",
       " (546, 0.022579326747877868),\n",
       " (620, 0.022473546296782578),\n",
       " (455, 0.02245645224525099),\n",
       " (405, 0.022384132857136686),\n",
       " (581, 0.022380211675699143),\n",
       " (534, 0.02227428783914949),\n",
       " (454, 0.022269290803115963),\n",
       " (600, 0.0221755981038419),\n",
       " (326, 0.022092149331515022),\n",
       " (403, 0.022078354669332327),\n",
       " (302, 0.021848414458001016),\n",
       " (475, 0.021715398087364522),\n",
       " (136, 0.021568167146708932),\n",
       " (184, 0.02133718288128839),\n",
       " (545, 0.02124116725332931),\n",
       " (341, 0.02121499205268589),\n",
       " (99, 0.021198811942484377),\n",
       " (427, 0.021080423777674877),\n",
       " (630, 0.021037125924361706),\n",
       " (346, 0.020977332043161333),\n",
       " (242, 0.02080468656347694),\n",
       " (677, 0.020772027049671092),\n",
       " (149, 0.020729695400390925),\n",
       " (282, 0.020692338999509313),\n",
       " (111, 0.02061933937608069),\n",
       " (378, 0.020614445739041067),\n",
       " (96, 0.02060486430894455),\n",
       " (382, 0.02052498940530881),\n",
       " (112, 0.02043932271935257),\n",
       " (622, 0.02037015391618116),\n",
       " (193, 0.020323746347517522),\n",
       " (632, 0.020310440637468844),\n",
       " (14, 0.02030399594727408),\n",
       " (349, 0.020233897176800252),\n",
       " (691, 0.020138557936476422),\n",
       " (250, 0.01988327793753367),\n",
       " (239, 0.01981276532654625),\n",
       " (245, 0.019798708733555388),\n",
       " (445, 0.01975981906973765),\n",
       " (287, 0.019701558290507154),\n",
       " (185, 0.01961781049764555),\n",
       " (361, 0.019543858278628073),\n",
       " (420, 0.0193617811831198),\n",
       " (297, 0.019279685850739914),\n",
       " (180, 0.01912454882108786),\n",
       " (55, 0.018714866401050877),\n",
       " (457, 0.018661190172188546),\n",
       " (602, 0.018608624482462147),\n",
       " (243, 0.018544343409042336),\n",
       " (167, 0.01838868746012354),\n",
       " (586, 0.01830356146761774),\n",
       " (425, 0.01825804023688717),\n",
       " (263, 0.018228816677099427),\n",
       " (268, 0.01813300039864214),\n",
       " (308, 0.01810630003181428),\n",
       " (693, 0.01792136682481349),\n",
       " (339, 0.017848775092703408),\n",
       " (634, 0.017809034222295468),\n",
       " (510, 0.01778349517576035),\n",
       " (37, 0.017761989688713762),\n",
       " (237, 0.017760272618287352),\n",
       " (145, 0.017662683735465864),\n",
       " (370, 0.01760774628955633),\n",
       " (394, 0.01755261908560742),\n",
       " (380, 0.017509496267342054),\n",
       " (490, 0.0171461847253878),\n",
       " (444, 0.017137071684762455),\n",
       " (392, 0.017121067963763118),\n",
       " (114, 0.017077144437261257),\n",
       " (556, 0.016948992561665717),\n",
       " (327, 0.016858600203123682),\n",
       " (657, 0.016767976486173064),\n",
       " (471, 0.016746164475006715),\n",
       " (613, 0.016611907344343996),\n",
       " (332, 0.016401807331652387),\n",
       " (414, 0.01633245790075744),\n",
       " (131, 0.016289954012202644),\n",
       " (707, 0.015930875439996984),\n",
       " (716, 0.015926521127111137),\n",
       " (520, 0.015847455648434986),\n",
       " (260, 0.015799754893866595),\n",
       " (140, 0.015756787619586755),\n",
       " (631, 0.0157277269810035),\n",
       " (101, 0.01560484565604773),\n",
       " (117, 0.015390533955270815),\n",
       " (306, 0.015388978068371946),\n",
       " (238, 0.015196510800719893),\n",
       " (354, 0.015143316804933846),\n",
       " (411, 0.015062006231561068),\n",
       " (35, 0.01486268748271215),\n",
       " (590, 0.01483113454242387),\n",
       " (182, 0.014768728871684096),\n",
       " (675, 0.014713737679104694),\n",
       " (568, 0.014688918586939248),\n",
       " (390, 0.014652347953027238),\n",
       " (639, 0.01449900583074111),\n",
       " (31, 0.01435345067390976),\n",
       " (169, 0.013960253664198046),\n",
       " (157, 0.013749660422240358),\n",
       " (286, 0.013393439381476843),\n",
       " (82, 0.013284034651148661),\n",
       " (79, 0.012973912747491989),\n",
       " (281, 0.012968197160458021),\n",
       " (463, 0.01283225842585771),\n",
       " (523, 0.01280108609850742),\n",
       " (298, 0.01228408419499267),\n",
       " (163, 0.012265262488342627),\n",
       " (63, 0.012087590335457532),\n",
       " (255, 0.012027852596661845),\n",
       " (2, 0.011894676421575648),\n",
       " (166, 0.011865936100775331),\n",
       " (512, 0.011644727641486666),\n",
       " (351, 0.011641059051921846),\n",
       " (552, 0.011420642642429105),\n",
       " (199, 0.011179561712278584),\n",
       " (710, 0.011108558010761787),\n",
       " (188, 0.010830566059052605),\n",
       " (421, 0.010772468937396775),\n",
       " (576, 0.010553051718045317),\n",
       " (648, 0.010460384647470853),\n",
       " (94, 0.010414339068866752),\n",
       " (345, 0.010359148754172702),\n",
       " (682, 0.010335141424671991),\n",
       " (642, 0.010211784933566167),\n",
       " (320, 0.010155916748332713),\n",
       " (130, 0.009807619582711376),\n",
       " (711, 0.009438188649941648),\n",
       " (241, 0.00937363750601854),\n",
       " (352, 0.00929155898064548),\n",
       " (686, 0.009245461039317478),\n",
       " (423, 0.008730065964077641),\n",
       " (714, 0.008671525694404799),\n",
       " (285, 0.008632196240696085),\n",
       " (160, 0.008595601466223431),\n",
       " (438, 0.00853121970560097),\n",
       " (90, 0.008290188176076053),\n",
       " (404, 0.008231548103223569),\n",
       " (30, 0.007324366251940837),\n",
       " (698, 0.007118056266836121),\n",
       " (495, 0.0056688481615678275),\n",
       " (58, 0.005312367362293086),\n",
       " (474, 0.003428525782102762),\n",
       " (225, 0.002658471075040719),\n",
       " (627, 0.00169242926737365),\n",
       " (3, 0.0),\n",
       " (9, 0.0),\n",
       " (22, 0.0),\n",
       " (27, 0.0),\n",
       " (32, 0.0),\n",
       " (53, 0.0),\n",
       " (56, 0.0),\n",
       " (62, 0.0),\n",
       " (68, 0.0),\n",
       " (71, 0.0),\n",
       " (72, 0.0),\n",
       " (73, 0.0),\n",
       " (84, 0.0),\n",
       " (100, 0.0),\n",
       " (106, 0.0),\n",
       " (116, 0.0),\n",
       " (133, 0.0),\n",
       " (134, 0.0),\n",
       " (135, 0.0),\n",
       " (139, 0.0),\n",
       " (143, 0.0),\n",
       " (144, 0.0),\n",
       " (147, 0.0),\n",
       " (158, 0.0),\n",
       " (162, 0.0),\n",
       " (174, 0.0),\n",
       " (177, 0.0),\n",
       " (191, 0.0),\n",
       " (200, 0.0),\n",
       " (202, 0.0),\n",
       " (211, 0.0),\n",
       " (226, 0.0),\n",
       " (227, 0.0),\n",
       " (249, 0.0),\n",
       " (251, 0.0),\n",
       " (266, 0.0),\n",
       " (269, 0.0),\n",
       " (276, 0.0),\n",
       " (277, 0.0),\n",
       " (290, 0.0),\n",
       " (293, 0.0),\n",
       " (312, 0.0),\n",
       " (314, 0.0),\n",
       " (317, 0.0),\n",
       " (322, 0.0),\n",
       " (340, 0.0),\n",
       " (344, 0.0),\n",
       " (348, 0.0),\n",
       " (350, 0.0),\n",
       " (360, 0.0),\n",
       " (365, 0.0),\n",
       " (377, 0.0),\n",
       " (385, 0.0),\n",
       " (398, 0.0),\n",
       " (400, 0.0),\n",
       " (401, 0.0),\n",
       " (409, 0.0),\n",
       " (413, 0.0),\n",
       " (415, 0.0),\n",
       " (418, 0.0),\n",
       " (436, 0.0),\n",
       " (441, 0.0),\n",
       " (458, 0.0),\n",
       " (460, 0.0),\n",
       " (461, 0.0),\n",
       " (464, 0.0),\n",
       " (466, 0.0),\n",
       " (480, 0.0),\n",
       " (483, 0.0),\n",
       " (485, 0.0),\n",
       " (489, 0.0),\n",
       " (492, 0.0),\n",
       " (505, 0.0),\n",
       " (506, 0.0),\n",
       " (511, 0.0),\n",
       " (532, 0.0),\n",
       " (536, 0.0),\n",
       " (539, 0.0),\n",
       " (584, 0.0),\n",
       " (585, 0.0),\n",
       " (598, 0.0),\n",
       " (605, 0.0),\n",
       " (616, 0.0),\n",
       " (646, 0.0),\n",
       " (652, 0.0),\n",
       " (689, 0.0),\n",
       " (692, 0.0),\n",
       " (694, 0.0),\n",
       " (700, 0.0),\n",
       " (704, 0.0),\n",
       " (713, 0.0)]"
      ]
     },
     "execution_count": 73,
     "metadata": {},
     "output_type": "execute_result"
    }
   ],
   "source": [
    "sorted(list(enumerate(similarity_scores[0])), key=lambda x : x[1], reverse=True)"
   ]
  },
  {
   "cell_type": "code",
   "execution_count": 74,
   "id": "b15c9627",
   "metadata": {
    "execution": {
     "iopub.execute_input": "2023-11-03T04:14:08.370768Z",
     "iopub.status.busy": "2023-11-03T04:14:08.370060Z",
     "iopub.status.idle": "2023-11-03T04:14:08.377878Z",
     "shell.execute_reply": "2023-11-03T04:14:08.376693Z"
    },
    "papermill": {
     "duration": 0.064001,
     "end_time": "2023-11-03T04:14:08.380260",
     "exception": false,
     "start_time": "2023-11-03T04:14:08.316259",
     "status": "completed"
    },
    "tags": []
   },
   "outputs": [
    {
     "data": {
      "text/plain": [
       "Index(['1984', '1st to die: a novel', '2nd chance', '4 blondes',\n",
       "       '\\o\\\" is for outlaw\"', 'a bend in the road', 'a case of need',\n",
       "       'a child called \\it\\\": one child's courage to survive\"',\n",
       "       'a civil action', 'a cry in the night',\n",
       "       ...\n",
       "       'winter solstice', 'wish you well', 'without remorse',\n",
       "       'wizard and glass (the dark tower, book 4)', 'wld accordng garp',\n",
       "       'wuthering heights', 'year of wonders', 'you belong to me',\n",
       "       'zen and the art of motorcycle maintenance: an inquiry into values',\n",
       "       'zoya'],\n",
       "      dtype='object', name='Book-Title', length=719)"
      ]
     },
     "execution_count": 74,
     "metadata": {},
     "output_type": "execute_result"
    }
   ],
   "source": [
    "pt.index"
   ]
  },
  {
   "cell_type": "code",
   "execution_count": 75,
   "id": "d194a1b2",
   "metadata": {
    "execution": {
     "iopub.execute_input": "2023-11-03T04:14:08.488575Z",
     "iopub.status.busy": "2023-11-03T04:14:08.487577Z",
     "iopub.status.idle": "2023-11-03T04:14:08.494876Z",
     "shell.execute_reply": "2023-11-03T04:14:08.493722Z"
    },
    "papermill": {
     "duration": 0.063698,
     "end_time": "2023-11-03T04:14:08.497029",
     "exception": false,
     "start_time": "2023-11-03T04:14:08.433331",
     "status": "completed"
    },
    "tags": []
   },
   "outputs": [
    {
     "data": {
      "text/plain": [
       "(array([0]),)"
      ]
     },
     "execution_count": 75,
     "metadata": {},
     "output_type": "execute_result"
    }
   ],
   "source": [
    "np.where(pt.index == \"1984\")"
   ]
  },
  {
   "cell_type": "code",
   "execution_count": 76,
   "id": "4d98f234",
   "metadata": {
    "execution": {
     "iopub.execute_input": "2023-11-03T04:14:08.604882Z",
     "iopub.status.busy": "2023-11-03T04:14:08.604122Z",
     "iopub.status.idle": "2023-11-03T04:14:08.611469Z",
     "shell.execute_reply": "2023-11-03T04:14:08.610368Z"
    },
    "papermill": {
     "duration": 0.064079,
     "end_time": "2023-11-03T04:14:08.613801",
     "exception": false,
     "start_time": "2023-11-03T04:14:08.549722",
     "status": "completed"
    },
    "tags": []
   },
   "outputs": [
    {
     "data": {
      "text/plain": [
       "0"
      ]
     },
     "execution_count": 76,
     "metadata": {},
     "output_type": "execute_result"
    }
   ],
   "source": [
    "np.where(pt.index == \"1984\")[0][0]"
   ]
  },
  {
   "cell_type": "code",
   "execution_count": 77,
   "id": "5fe52b70",
   "metadata": {
    "execution": {
     "iopub.execute_input": "2023-11-03T04:14:08.724594Z",
     "iopub.status.busy": "2023-11-03T04:14:08.724160Z",
     "iopub.status.idle": "2023-11-03T04:14:08.732507Z",
     "shell.execute_reply": "2023-11-03T04:14:08.731277Z"
    },
    "papermill": {
     "duration": 0.066691,
     "end_time": "2023-11-03T04:14:08.734731",
     "exception": false,
     "start_time": "2023-11-03T04:14:08.668040",
     "status": "completed"
    },
    "tags": []
   },
   "outputs": [],
   "source": [
    "# Let's create a recommender function\n",
    "\n",
    "def books_recommend(bookName: str):\n",
    "    try:\n",
    "        bookName = bookName.lower()\n",
    "        book_index = np.where(pt.index == bookName)[0][0]\n",
    "        similar_books = sorted(list(enumerate(similarity_scores[book_index])), key=lambda x : x[1], reverse=True)[1:21]\n",
    "    except:\n",
    "        print(\"Error occured\")\n",
    "    else:\n",
    "        print(similar_books)\n",
    "        print(\"-------------------------------------------------------------------------------\")\n",
    "        for i in similar_books:\n",
    "            print(pt.index[i[0]].capitalize())"
   ]
  },
  {
   "cell_type": "code",
   "execution_count": 78,
   "id": "c711fda6",
   "metadata": {
    "execution": {
     "iopub.execute_input": "2023-11-03T04:14:08.843950Z",
     "iopub.status.busy": "2023-11-03T04:14:08.843465Z",
     "iopub.status.idle": "2023-11-03T04:14:08.850563Z",
     "shell.execute_reply": "2023-11-03T04:14:08.849372Z"
    },
    "papermill": {
     "duration": 0.064707,
     "end_time": "2023-11-03T04:14:08.853061",
     "exception": false,
     "start_time": "2023-11-03T04:14:08.788354",
     "status": "completed"
    },
    "tags": []
   },
   "outputs": [
    {
     "name": "stdout",
     "output_type": "stream",
     "text": [
      "[(595, 0.3942606412794923), (518, 0.3586771918283425), (541, 0.3312305807516229), (515, 0.29053697714891374), (608, 0.2768191834779188), (641, 0.24616152168779534), (629, 0.24162349972377106), (136, 0.24035978726221138), (594, 0.23462638917608647), (432, 0.22496841011861493), (236, 0.21630787901367213), (39, 0.20691863355815998), (332, 0.20391561957222581), (173, 0.2026935508284005), (559, 0.20248501730247195), (619, 0.20054536047352378), (523, 0.19815319108525034), (2, 0.1973490309636965), (365, 0.19550827829253614), (9, 0.1952879926441593)]\n",
      "-------------------------------------------------------------------------------\n",
      "The pelican brief\n",
      "The client\n",
      "The firm\n",
      "The chamber\n",
      "The rainmaker\n",
      "The testament\n",
      "The street lawyer\n",
      "Dark angel\n",
      "The partner\n",
      "Secrets\n",
      "Harry potter and the sorcerer's stone (harry potter (paperback))\n",
      "Along came a spider (alex cross novels)\n",
      "Midnight bayou\n",
      "Envy\n",
      "The hitchhiker's guide to the galaxy\n",
      "The runaway jury\n",
      "The cradle will fall\n",
      "2nd chance\n",
      "No greater love\n",
      "A cry in the night\n"
     ]
    }
   ],
   "source": [
    "# books_recommend(\"Harry Potter and the Chamber of Secrets (Book 2)\")\n",
    "books_recommend(\"A time to kill\")"
   ]
  },
  {
   "cell_type": "markdown",
   "id": "621f17f5",
   "metadata": {
    "papermill": {
     "duration": 0.052751,
     "end_time": "2023-11-03T04:14:08.958680",
     "exception": false,
     "start_time": "2023-11-03T04:14:08.905929",
     "status": "completed"
    },
    "tags": []
   },
   "source": [
    "Demo test step by step. how function is work"
   ]
  },
  {
   "cell_type": "code",
   "execution_count": 79,
   "id": "0346b1ec",
   "metadata": {
    "execution": {
     "iopub.execute_input": "2023-11-03T04:14:09.067217Z",
     "iopub.status.busy": "2023-11-03T04:14:09.066420Z",
     "iopub.status.idle": "2023-11-03T04:14:09.126783Z",
     "shell.execute_reply": "2023-11-03T04:14:09.125467Z"
    },
    "papermill": {
     "duration": 0.118238,
     "end_time": "2023-11-03T04:14:09.129675",
     "exception": false,
     "start_time": "2023-11-03T04:14:09.011437",
     "status": "completed"
    },
    "tags": []
   },
   "outputs": [
    {
     "data": {
      "text/html": [
       "<div>\n",
       "<style scoped>\n",
       "    .dataframe tbody tr th:only-of-type {\n",
       "        vertical-align: middle;\n",
       "    }\n",
       "\n",
       "    .dataframe tbody tr th {\n",
       "        vertical-align: top;\n",
       "    }\n",
       "\n",
       "    .dataframe thead th {\n",
       "        text-align: right;\n",
       "    }\n",
       "</style>\n",
       "<table border=\"1\" class=\"dataframe\">\n",
       "  <thead>\n",
       "    <tr style=\"text-align: right;\">\n",
       "      <th></th>\n",
       "      <th>ISBN</th>\n",
       "      <th>Book-Title</th>\n",
       "      <th>Book-Author</th>\n",
       "      <th>Year-Of-Publication</th>\n",
       "      <th>Publisher</th>\n",
       "      <th>Image-URL-S</th>\n",
       "      <th>Image-URL-M</th>\n",
       "      <th>Image-URL-L</th>\n",
       "    </tr>\n",
       "  </thead>\n",
       "  <tbody>\n",
       "    <tr>\n",
       "      <th>1863</th>\n",
       "      <td>0446610038</td>\n",
       "      <td>1st to die: a novel</td>\n",
       "      <td>James Patterson</td>\n",
       "      <td>2002</td>\n",
       "      <td>Warner Vision</td>\n",
       "      <td>http://images.amazon.com/images/P/0446610038.0...</td>\n",
       "      <td>http://images.amazon.com/images/P/0446610038.0...</td>\n",
       "      <td>http://images.amazon.com/images/P/0446610038.0...</td>\n",
       "    </tr>\n",
       "    <tr>\n",
       "      <th>4131</th>\n",
       "      <td>0316666009</td>\n",
       "      <td>1st to die: a novel</td>\n",
       "      <td>James Patterson</td>\n",
       "      <td>2001</td>\n",
       "      <td>Little Brown and Company</td>\n",
       "      <td>http://images.amazon.com/images/P/0316666009.0...</td>\n",
       "      <td>http://images.amazon.com/images/P/0316666009.0...</td>\n",
       "      <td>http://images.amazon.com/images/P/0316666009.0...</td>\n",
       "    </tr>\n",
       "  </tbody>\n",
       "</table>\n",
       "</div>"
      ],
      "text/plain": [
       "            ISBN           Book-Title      Book-Author Year-Of-Publication  \\\n",
       "1863  0446610038  1st to die: a novel  James Patterson                2002   \n",
       "4131  0316666009  1st to die: a novel  James Patterson                2001   \n",
       "\n",
       "                     Publisher  \\\n",
       "1863             Warner Vision   \n",
       "4131  Little Brown and Company   \n",
       "\n",
       "                                            Image-URL-S  \\\n",
       "1863  http://images.amazon.com/images/P/0446610038.0...   \n",
       "4131  http://images.amazon.com/images/P/0316666009.0...   \n",
       "\n",
       "                                            Image-URL-M  \\\n",
       "1863  http://images.amazon.com/images/P/0446610038.0...   \n",
       "4131  http://images.amazon.com/images/P/0316666009.0...   \n",
       "\n",
       "                                            Image-URL-L  \n",
       "1863  http://images.amazon.com/images/P/0446610038.0...  \n",
       "4131  http://images.amazon.com/images/P/0316666009.0...  "
      ]
     },
     "execution_count": 79,
     "metadata": {},
     "output_type": "execute_result"
    }
   ],
   "source": [
    "books[books[\"Book-Title\"] == pt.index[1]]"
   ]
  },
  {
   "cell_type": "code",
   "execution_count": 80,
   "id": "a0be05e0",
   "metadata": {
    "execution": {
     "iopub.execute_input": "2023-11-03T04:14:09.240765Z",
     "iopub.status.busy": "2023-11-03T04:14:09.239512Z",
     "iopub.status.idle": "2023-11-03T04:14:09.300881Z",
     "shell.execute_reply": "2023-11-03T04:14:09.299689Z"
    },
    "papermill": {
     "duration": 0.118682,
     "end_time": "2023-11-03T04:14:09.303437",
     "exception": false,
     "start_time": "2023-11-03T04:14:09.184755",
     "status": "completed"
    },
    "tags": []
   },
   "outputs": [
    {
     "data": {
      "text/html": [
       "<div>\n",
       "<style scoped>\n",
       "    .dataframe tbody tr th:only-of-type {\n",
       "        vertical-align: middle;\n",
       "    }\n",
       "\n",
       "    .dataframe tbody tr th {\n",
       "        vertical-align: top;\n",
       "    }\n",
       "\n",
       "    .dataframe thead th {\n",
       "        text-align: right;\n",
       "    }\n",
       "</style>\n",
       "<table border=\"1\" class=\"dataframe\">\n",
       "  <thead>\n",
       "    <tr style=\"text-align: right;\">\n",
       "      <th></th>\n",
       "      <th>ISBN</th>\n",
       "      <th>Book-Title</th>\n",
       "      <th>Book-Author</th>\n",
       "      <th>Year-Of-Publication</th>\n",
       "      <th>Publisher</th>\n",
       "      <th>Image-URL-S</th>\n",
       "      <th>Image-URL-M</th>\n",
       "      <th>Image-URL-L</th>\n",
       "    </tr>\n",
       "  </thead>\n",
       "  <tbody>\n",
       "    <tr>\n",
       "      <th>1863</th>\n",
       "      <td>0446610038</td>\n",
       "      <td>1st to die: a novel</td>\n",
       "      <td>James Patterson</td>\n",
       "      <td>2002</td>\n",
       "      <td>Warner Vision</td>\n",
       "      <td>http://images.amazon.com/images/P/0446610038.0...</td>\n",
       "      <td>http://images.amazon.com/images/P/0446610038.0...</td>\n",
       "      <td>http://images.amazon.com/images/P/0446610038.0...</td>\n",
       "    </tr>\n",
       "  </tbody>\n",
       "</table>\n",
       "</div>"
      ],
      "text/plain": [
       "            ISBN           Book-Title      Book-Author Year-Of-Publication  \\\n",
       "1863  0446610038  1st to die: a novel  James Patterson                2002   \n",
       "\n",
       "          Publisher                                        Image-URL-S  \\\n",
       "1863  Warner Vision  http://images.amazon.com/images/P/0446610038.0...   \n",
       "\n",
       "                                            Image-URL-M  \\\n",
       "1863  http://images.amazon.com/images/P/0446610038.0...   \n",
       "\n",
       "                                            Image-URL-L  \n",
       "1863  http://images.amazon.com/images/P/0446610038.0...  "
      ]
     },
     "execution_count": 80,
     "metadata": {},
     "output_type": "execute_result"
    }
   ],
   "source": [
    "books[books[\"Book-Title\"] == pt.index[1]].drop_duplicates(\"Book-Title\")"
   ]
  },
  {
   "cell_type": "code",
   "execution_count": 81,
   "id": "dd7a84da",
   "metadata": {
    "execution": {
     "iopub.execute_input": "2023-11-03T04:14:09.414217Z",
     "iopub.status.busy": "2023-11-03T04:14:09.413777Z",
     "iopub.status.idle": "2023-11-03T04:14:09.469852Z",
     "shell.execute_reply": "2023-11-03T04:14:09.468570Z"
    },
    "papermill": {
     "duration": 0.114176,
     "end_time": "2023-11-03T04:14:09.472353",
     "exception": false,
     "start_time": "2023-11-03T04:14:09.358177",
     "status": "completed"
    },
    "tags": []
   },
   "outputs": [
    {
     "data": {
      "text/plain": [
       "1863    1st to die: a novel\n",
       "Name: Book-Title, dtype: object"
      ]
     },
     "execution_count": 81,
     "metadata": {},
     "output_type": "execute_result"
    }
   ],
   "source": [
    "books[books[\"Book-Title\"] == pt.index[1]].drop_duplicates(\"Book-Title\")['Book-Title']"
   ]
  },
  {
   "cell_type": "code",
   "execution_count": 82,
   "id": "f9836cd2",
   "metadata": {
    "execution": {
     "iopub.execute_input": "2023-11-03T04:14:09.582467Z",
     "iopub.status.busy": "2023-11-03T04:14:09.582047Z",
     "iopub.status.idle": "2023-11-03T04:14:09.637536Z",
     "shell.execute_reply": "2023-11-03T04:14:09.635941Z"
    },
    "papermill": {
     "duration": 0.11365,
     "end_time": "2023-11-03T04:14:09.640097",
     "exception": false,
     "start_time": "2023-11-03T04:14:09.526447",
     "status": "completed"
    },
    "tags": []
   },
   "outputs": [
    {
     "data": {
      "text/plain": [
       "pandas.core.series.Series"
      ]
     },
     "execution_count": 82,
     "metadata": {},
     "output_type": "execute_result"
    }
   ],
   "source": [
    "type(books[books[\"Book-Title\"] == pt.index[1]].drop_duplicates(\"Book-Title\")['Book-Title'])"
   ]
  },
  {
   "cell_type": "code",
   "execution_count": 83,
   "id": "ac643988",
   "metadata": {
    "execution": {
     "iopub.execute_input": "2023-11-03T04:14:09.752367Z",
     "iopub.status.busy": "2023-11-03T04:14:09.751935Z",
     "iopub.status.idle": "2023-11-03T04:14:09.807516Z",
     "shell.execute_reply": "2023-11-03T04:14:09.806233Z"
    },
    "papermill": {
     "duration": 0.115526,
     "end_time": "2023-11-03T04:14:09.810472",
     "exception": false,
     "start_time": "2023-11-03T04:14:09.694946",
     "status": "completed"
    },
    "tags": []
   },
   "outputs": [
    {
     "data": {
      "text/plain": [
       "array(['1st to die: a novel'], dtype=object)"
      ]
     },
     "execution_count": 83,
     "metadata": {},
     "output_type": "execute_result"
    }
   ],
   "source": [
    "books[books[\"Book-Title\"] == pt.index[1]].drop_duplicates(\"Book-Title\")['Book-Title'].values"
   ]
  },
  {
   "cell_type": "code",
   "execution_count": 84,
   "id": "5e342797",
   "metadata": {
    "execution": {
     "iopub.execute_input": "2023-11-03T04:14:09.920861Z",
     "iopub.status.busy": "2023-11-03T04:14:09.919775Z",
     "iopub.status.idle": "2023-11-03T04:14:09.974808Z",
     "shell.execute_reply": "2023-11-03T04:14:09.973581Z"
    },
    "papermill": {
     "duration": 0.113033,
     "end_time": "2023-11-03T04:14:09.977432",
     "exception": false,
     "start_time": "2023-11-03T04:14:09.864399",
     "status": "completed"
    },
    "tags": []
   },
   "outputs": [
    {
     "data": {
      "text/plain": [
       "['1st to die: a novel']"
      ]
     },
     "execution_count": 84,
     "metadata": {},
     "output_type": "execute_result"
    }
   ],
   "source": [
    "list(books[books[\"Book-Title\"] == pt.index[1]].drop_duplicates(\"Book-Title\")['Book-Title'].values)"
   ]
  },
  {
   "cell_type": "code",
   "execution_count": 85,
   "id": "75f50b2c",
   "metadata": {
    "execution": {
     "iopub.execute_input": "2023-11-03T04:14:10.087632Z",
     "iopub.status.busy": "2023-11-03T04:14:10.087154Z",
     "iopub.status.idle": "2023-11-03T04:14:10.096753Z",
     "shell.execute_reply": "2023-11-03T04:14:10.095753Z"
    },
    "papermill": {
     "duration": 0.067837,
     "end_time": "2023-11-03T04:14:10.099120",
     "exception": false,
     "start_time": "2023-11-03T04:14:10.031283",
     "status": "completed"
    },
    "tags": []
   },
   "outputs": [],
   "source": [
    "def books_recommend2(bookName: str):\n",
    "    bookName = bookName.lower()\n",
    "    book_index = np.where(pt.index == bookName)[0][0]\n",
    "    similar_books = sorted(list(enumerate(similarity_scores[book_index])), key=lambda x : x[1], reverse=True)[1:11]\n",
    "    print(similar_books)\n",
    "    print(\"=\"*100)\n",
    "    books_info = []\n",
    "    for i in similar_books:\n",
    "        book_items = []\n",
    "        temp_df = books[books[\"Book-Title\"] == pt.index[i[0]]]\n",
    "        book_items.extend(list(temp_df.drop_duplicates(\"Book-Title\")[\"Book-Title\"].values))\n",
    "        book_items.extend(list(temp_df.drop_duplicates(\"Book-Title\")[\"Book-Author\"].values))\n",
    "        book_items.extend(list(temp_df.drop_duplicates(\"Book-Title\")[\"Image-URL-M\"].values))\n",
    "        \n",
    "        books_info.append(book_items)\n",
    "    \n",
    "    return books_info"
   ]
  },
  {
   "cell_type": "code",
   "execution_count": 86,
   "id": "d8573d74",
   "metadata": {
    "execution": {
     "iopub.execute_input": "2023-11-03T04:14:10.213101Z",
     "iopub.status.busy": "2023-11-03T04:14:10.211981Z",
     "iopub.status.idle": "2023-11-03T04:14:10.695950Z",
     "shell.execute_reply": "2023-11-03T04:14:10.694863Z"
    },
    "papermill": {
     "duration": 0.545052,
     "end_time": "2023-11-03T04:14:10.698802",
     "exception": false,
     "start_time": "2023-11-03T04:14:10.153750",
     "status": "completed"
    },
    "tags": []
   },
   "outputs": [
    {
     "name": "stdout",
     "output_type": "stream",
     "text": [
      "[(518, 0.43923489375243807), (541, 0.4038646301611324), (24, 0.3942606412794923), (594, 0.36836066300042775), (608, 0.3494266928366363), (515, 0.30555654317891123), (629, 0.29875087841942993), (291, 0.2791615923264137), (504, 0.27670491186191204), (641, 0.27588546323959895)]\n",
      "====================================================================================================\n"
     ]
    },
    {
     "data": {
      "text/plain": [
       "[['the client',\n",
       "  'John Grisham',\n",
       "  'http://images.amazon.com/images/P/038542471X.01.MZZZZZZZ.jpg'],\n",
       " ['the firm',\n",
       "  'John Grisham',\n",
       "  'http://images.amazon.com/images/P/0385416342.01.MZZZZZZZ.jpg'],\n",
       " ['a time to kill',\n",
       "  'JOHN GRISHAM',\n",
       "  'http://images.amazon.com/images/P/0440211727.01.MZZZZZZZ.jpg'],\n",
       " ['the partner',\n",
       "  'John Grisham',\n",
       "  'http://images.amazon.com/images/P/0385472951.01.MZZZZZZZ.jpg'],\n",
       " ['the rainmaker',\n",
       "  'JOHN GRISHAM',\n",
       "  'http://images.amazon.com/images/P/044022165X.01.MZZZZZZZ.jpg'],\n",
       " ['the chamber',\n",
       "  'John Grisham',\n",
       "  'http://images.amazon.com/images/P/0385424728.01.MZZZZZZZ.jpg'],\n",
       " ['the street lawyer',\n",
       "  'JOHN GRISHAM',\n",
       "  'http://images.amazon.com/images/P/0440225701.01.MZZZZZZZ.jpg'],\n",
       " ['kaleidoscope',\n",
       "  'June Stepansky',\n",
       "  'http://images.amazon.com/images/P/0884092097.01.MZZZZZZZ.jpg'],\n",
       " ['the bourne identity',\n",
       "  'Robert Ludlum',\n",
       "  'http://images.amazon.com/images/P/0553260111.01.MZZZZZZZ.jpg'],\n",
       " ['the testament',\n",
       "  'John Grisham',\n",
       "  'http://images.amazon.com/images/P/0440234743.01.MZZZZZZZ.jpg']]"
      ]
     },
     "execution_count": 86,
     "metadata": {},
     "output_type": "execute_result"
    }
   ],
   "source": [
    "books_recommend2(\"The pelican brief\")"
   ]
  },
  {
   "cell_type": "markdown",
   "id": "88c2b9bf",
   "metadata": {
    "papermill": {
     "duration": 0.054526,
     "end_time": "2023-11-03T04:14:10.808268",
     "exception": false,
     "start_time": "2023-11-03T04:14:10.753742",
     "status": "completed"
    },
    "tags": []
   },
   "source": [
    "**Create Model Using NearestNeighbors**"
   ]
  },
  {
   "cell_type": "code",
   "execution_count": 87,
   "id": "69017551",
   "metadata": {
    "execution": {
     "iopub.execute_input": "2023-11-03T04:14:10.919935Z",
     "iopub.status.busy": "2023-11-03T04:14:10.919485Z",
     "iopub.status.idle": "2023-11-03T04:14:10.927335Z",
     "shell.execute_reply": "2023-11-03T04:14:10.926528Z"
    },
    "papermill": {
     "duration": 0.066375,
     "end_time": "2023-11-03T04:14:10.929391",
     "exception": false,
     "start_time": "2023-11-03T04:14:10.863016",
     "status": "completed"
    },
    "tags": []
   },
   "outputs": [
    {
     "data": {
      "text/plain": [
       "array([[ 9.,  0.,  0., ...,  0.,  0.,  0.],\n",
       "       [ 0.,  0.,  0., ...,  0.,  0.,  0.],\n",
       "       [ 0., 10.,  0., ...,  0.,  0.,  0.],\n",
       "       ...,\n",
       "       [ 0.,  0.,  0., ...,  0.,  0.,  0.],\n",
       "       [ 0.,  0.,  0., ...,  0.,  0.,  0.],\n",
       "       [ 0.,  0.,  0., ...,  0.,  0.,  0.]])"
      ]
     },
     "execution_count": 87,
     "metadata": {},
     "output_type": "execute_result"
    }
   ],
   "source": [
    "pt.values"
   ]
  },
  {
   "cell_type": "code",
   "execution_count": 88,
   "id": "c82e599c",
   "metadata": {
    "execution": {
     "iopub.execute_input": "2023-11-03T04:14:11.040163Z",
     "iopub.status.busy": "2023-11-03T04:14:11.039413Z",
     "iopub.status.idle": "2023-11-03T04:14:11.047184Z",
     "shell.execute_reply": "2023-11-03T04:14:11.046104Z"
    },
    "papermill": {
     "duration": 0.06559,
     "end_time": "2023-11-03T04:14:11.049348",
     "exception": false,
     "start_time": "2023-11-03T04:14:10.983758",
     "status": "completed"
    },
    "tags": []
   },
   "outputs": [
    {
     "data": {
      "text/plain": [
       "(719, 815)"
      ]
     },
     "execution_count": 88,
     "metadata": {},
     "output_type": "execute_result"
    }
   ],
   "source": [
    "pt.values.shape"
   ]
  },
  {
   "cell_type": "code",
   "execution_count": 89,
   "id": "9f971091",
   "metadata": {
    "execution": {
     "iopub.execute_input": "2023-11-03T04:14:11.160877Z",
     "iopub.status.busy": "2023-11-03T04:14:11.159991Z",
     "iopub.status.idle": "2023-11-03T04:14:11.180042Z",
     "shell.execute_reply": "2023-11-03T04:14:11.178776Z"
    },
    "papermill": {
     "duration": 0.079184,
     "end_time": "2023-11-03T04:14:11.183178",
     "exception": false,
     "start_time": "2023-11-03T04:14:11.103994",
     "status": "completed"
    },
    "tags": []
   },
   "outputs": [],
   "source": [
    "# csr_matrix remove the all zero or NaN value from the array and return a sparse matrix\n",
    "# so that we can calculate distance easily\n",
    "\n",
    "features_matrix = csr_matrix(pt.values)"
   ]
  },
  {
   "cell_type": "code",
   "execution_count": 90,
   "id": "88b1c58c",
   "metadata": {
    "execution": {
     "iopub.execute_input": "2023-11-03T04:14:11.296994Z",
     "iopub.status.busy": "2023-11-03T04:14:11.296180Z",
     "iopub.status.idle": "2023-11-03T04:14:11.303758Z",
     "shell.execute_reply": "2023-11-03T04:14:11.302664Z"
    },
    "papermill": {
     "duration": 0.067189,
     "end_time": "2023-11-03T04:14:11.306033",
     "exception": false,
     "start_time": "2023-11-03T04:14:11.238844",
     "status": "completed"
    },
    "tags": []
   },
   "outputs": [
    {
     "data": {
      "text/plain": [
       "<719x815 sparse matrix of type '<class 'numpy.float64'>'\n",
       "\twith 14645 stored elements in Compressed Sparse Row format>"
      ]
     },
     "execution_count": 90,
     "metadata": {},
     "output_type": "execute_result"
    }
   ],
   "source": [
    "features_matrix"
   ]
  },
  {
   "cell_type": "code",
   "execution_count": 91,
   "id": "f1c1973a",
   "metadata": {
    "execution": {
     "iopub.execute_input": "2023-11-03T04:14:11.417966Z",
     "iopub.status.busy": "2023-11-03T04:14:11.417536Z",
     "iopub.status.idle": "2023-11-03T04:14:11.424816Z",
     "shell.execute_reply": "2023-11-03T04:14:11.423591Z"
    },
    "papermill": {
     "duration": 0.065908,
     "end_time": "2023-11-03T04:14:11.427131",
     "exception": false,
     "start_time": "2023-11-03T04:14:11.361223",
     "status": "completed"
    },
    "tags": []
   },
   "outputs": [
    {
     "data": {
      "text/plain": [
       "(719, 815)"
      ]
     },
     "execution_count": 91,
     "metadata": {},
     "output_type": "execute_result"
    }
   ],
   "source": [
    "features_matrix.shape"
   ]
  },
  {
   "cell_type": "code",
   "execution_count": 92,
   "id": "15b3806d",
   "metadata": {
    "execution": {
     "iopub.execute_input": "2023-11-03T04:14:11.540100Z",
     "iopub.status.busy": "2023-11-03T04:14:11.539713Z",
     "iopub.status.idle": "2023-11-03T04:14:11.545059Z",
     "shell.execute_reply": "2023-11-03T04:14:11.544015Z"
    },
    "papermill": {
     "duration": 0.065153,
     "end_time": "2023-11-03T04:14:11.547580",
     "exception": false,
     "start_time": "2023-11-03T04:14:11.482427",
     "status": "completed"
    },
    "tags": []
   },
   "outputs": [],
   "source": [
    "# NearestNeighbors works as like KNN algorithm but NearestNeighbors is calculate distance like KNN and make cluster\n",
    "# by the nearest neighbors\n",
    "\n",
    "# Default parameter: NearestNeighbors(\n",
    "#     *,\n",
    "#     n_neighbors=5,\n",
    "#     radius=1.0,\n",
    "#     algorithm='auto',\n",
    "#     leaf_size=30,\n",
    "#     metric='minkowski',\n",
    "#     p=2,\n",
    "#     metric_params=None,\n",
    "#     n_jobs=None,\n",
    "# )\n",
    "\n",
    "model_NN = NearestNeighbors(n_neighbors=7, algorithm=\"brute\", metric=\"cosine\")"
   ]
  },
  {
   "cell_type": "code",
   "execution_count": 93,
   "id": "62ad8253",
   "metadata": {
    "execution": {
     "iopub.execute_input": "2023-11-03T04:14:11.661810Z",
     "iopub.status.busy": "2023-11-03T04:14:11.661377Z",
     "iopub.status.idle": "2023-11-03T04:14:11.674349Z",
     "shell.execute_reply": "2023-11-03T04:14:11.673554Z"
    },
    "papermill": {
     "duration": 0.072946,
     "end_time": "2023-11-03T04:14:11.676527",
     "exception": false,
     "start_time": "2023-11-03T04:14:11.603581",
     "status": "completed"
    },
    "tags": []
   },
   "outputs": [
    {
     "data": {
      "text/html": [
       "<style>#sk-container-id-1 {color: black;background-color: white;}#sk-container-id-1 pre{padding: 0;}#sk-container-id-1 div.sk-toggleable {background-color: white;}#sk-container-id-1 label.sk-toggleable__label {cursor: pointer;display: block;width: 100%;margin-bottom: 0;padding: 0.3em;box-sizing: border-box;text-align: center;}#sk-container-id-1 label.sk-toggleable__label-arrow:before {content: \"▸\";float: left;margin-right: 0.25em;color: #696969;}#sk-container-id-1 label.sk-toggleable__label-arrow:hover:before {color: black;}#sk-container-id-1 div.sk-estimator:hover label.sk-toggleable__label-arrow:before {color: black;}#sk-container-id-1 div.sk-toggleable__content {max-height: 0;max-width: 0;overflow: hidden;text-align: left;background-color: #f0f8ff;}#sk-container-id-1 div.sk-toggleable__content pre {margin: 0.2em;color: black;border-radius: 0.25em;background-color: #f0f8ff;}#sk-container-id-1 input.sk-toggleable__control:checked~div.sk-toggleable__content {max-height: 200px;max-width: 100%;overflow: auto;}#sk-container-id-1 input.sk-toggleable__control:checked~label.sk-toggleable__label-arrow:before {content: \"▾\";}#sk-container-id-1 div.sk-estimator input.sk-toggleable__control:checked~label.sk-toggleable__label {background-color: #d4ebff;}#sk-container-id-1 div.sk-label input.sk-toggleable__control:checked~label.sk-toggleable__label {background-color: #d4ebff;}#sk-container-id-1 input.sk-hidden--visually {border: 0;clip: rect(1px 1px 1px 1px);clip: rect(1px, 1px, 1px, 1px);height: 1px;margin: -1px;overflow: hidden;padding: 0;position: absolute;width: 1px;}#sk-container-id-1 div.sk-estimator {font-family: monospace;background-color: #f0f8ff;border: 1px dotted black;border-radius: 0.25em;box-sizing: border-box;margin-bottom: 0.5em;}#sk-container-id-1 div.sk-estimator:hover {background-color: #d4ebff;}#sk-container-id-1 div.sk-parallel-item::after {content: \"\";width: 100%;border-bottom: 1px solid gray;flex-grow: 1;}#sk-container-id-1 div.sk-label:hover label.sk-toggleable__label {background-color: #d4ebff;}#sk-container-id-1 div.sk-serial::before {content: \"\";position: absolute;border-left: 1px solid gray;box-sizing: border-box;top: 0;bottom: 0;left: 50%;z-index: 0;}#sk-container-id-1 div.sk-serial {display: flex;flex-direction: column;align-items: center;background-color: white;padding-right: 0.2em;padding-left: 0.2em;position: relative;}#sk-container-id-1 div.sk-item {position: relative;z-index: 1;}#sk-container-id-1 div.sk-parallel {display: flex;align-items: stretch;justify-content: center;background-color: white;position: relative;}#sk-container-id-1 div.sk-item::before, #sk-container-id-1 div.sk-parallel-item::before {content: \"\";position: absolute;border-left: 1px solid gray;box-sizing: border-box;top: 0;bottom: 0;left: 50%;z-index: -1;}#sk-container-id-1 div.sk-parallel-item {display: flex;flex-direction: column;z-index: 1;position: relative;background-color: white;}#sk-container-id-1 div.sk-parallel-item:first-child::after {align-self: flex-end;width: 50%;}#sk-container-id-1 div.sk-parallel-item:last-child::after {align-self: flex-start;width: 50%;}#sk-container-id-1 div.sk-parallel-item:only-child::after {width: 0;}#sk-container-id-1 div.sk-dashed-wrapped {border: 1px dashed gray;margin: 0 0.4em 0.5em 0.4em;box-sizing: border-box;padding-bottom: 0.4em;background-color: white;}#sk-container-id-1 div.sk-label label {font-family: monospace;font-weight: bold;display: inline-block;line-height: 1.2em;}#sk-container-id-1 div.sk-label-container {text-align: center;}#sk-container-id-1 div.sk-container {/* jupyter's `normalize.less` sets `[hidden] { display: none; }` but bootstrap.min.css set `[hidden] { display: none !important; }` so we also need the `!important` here to be able to override the default hidden behavior on the sphinx rendered scikit-learn.org. See: https://github.com/scikit-learn/scikit-learn/issues/21755 */display: inline-block !important;position: relative;}#sk-container-id-1 div.sk-text-repr-fallback {display: none;}</style><div id=\"sk-container-id-1\" class=\"sk-top-container\"><div class=\"sk-text-repr-fallback\"><pre>NearestNeighbors(algorithm=&#x27;brute&#x27;, metric=&#x27;cosine&#x27;, n_neighbors=7)</pre><b>In a Jupyter environment, please rerun this cell to show the HTML representation or trust the notebook. <br />On GitHub, the HTML representation is unable to render, please try loading this page with nbviewer.org.</b></div><div class=\"sk-container\" hidden><div class=\"sk-item\"><div class=\"sk-estimator sk-toggleable\"><input class=\"sk-toggleable__control sk-hidden--visually\" id=\"sk-estimator-id-1\" type=\"checkbox\" checked><label for=\"sk-estimator-id-1\" class=\"sk-toggleable__label sk-toggleable__label-arrow\">NearestNeighbors</label><div class=\"sk-toggleable__content\"><pre>NearestNeighbors(algorithm=&#x27;brute&#x27;, metric=&#x27;cosine&#x27;, n_neighbors=7)</pre></div></div></div></div></div>"
      ],
      "text/plain": [
       "NearestNeighbors(algorithm='brute', metric='cosine', n_neighbors=7)"
      ]
     },
     "execution_count": 93,
     "metadata": {},
     "output_type": "execute_result"
    }
   ],
   "source": [
    "model_NN.fit(X=features_matrix)"
   ]
  },
  {
   "cell_type": "code",
   "execution_count": 94,
   "id": "9e37e6ea",
   "metadata": {
    "execution": {
     "iopub.execute_input": "2023-11-03T04:14:11.790132Z",
     "iopub.status.busy": "2023-11-03T04:14:11.789714Z",
     "iopub.status.idle": "2023-11-03T04:14:11.800984Z",
     "shell.execute_reply": "2023-11-03T04:14:11.799868Z"
    },
    "papermill": {
     "duration": 0.070967,
     "end_time": "2023-11-03T04:14:11.803246",
     "exception": false,
     "start_time": "2023-11-03T04:14:11.732279",
     "status": "completed"
    },
    "tags": []
   },
   "outputs": [
    {
     "data": {
      "text/plain": [
       "User-ID\n",
       "254       0.0\n",
       "2276      0.0\n",
       "2766      0.0\n",
       "2977      0.0\n",
       "3363      0.0\n",
       "         ... \n",
       "274308    0.0\n",
       "275970    0.0\n",
       "277427    0.0\n",
       "277639    0.0\n",
       "278418    0.0\n",
       "Name: \\o\\\" is for outlaw\", Length: 815, dtype: float64"
      ]
     },
     "execution_count": 94,
     "metadata": {},
     "output_type": "execute_result"
    }
   ],
   "source": [
    "#Demo test step by step. how function is work\n",
    "pt.iloc[4, :]\n"
   ]
  },
  {
   "cell_type": "code",
   "execution_count": 95,
   "id": "b73ab9fa",
   "metadata": {
    "execution": {
     "iopub.execute_input": "2023-11-03T04:14:11.916170Z",
     "iopub.status.busy": "2023-11-03T04:14:11.915760Z",
     "iopub.status.idle": "2023-11-03T04:14:11.933297Z",
     "shell.execute_reply": "2023-11-03T04:14:11.932203Z"
    },
    "papermill": {
     "duration": 0.076705,
     "end_time": "2023-11-03T04:14:11.935578",
     "exception": false,
     "start_time": "2023-11-03T04:14:11.858873",
     "status": "completed"
    },
    "tags": []
   },
   "outputs": [
    {
     "data": {
      "text/plain": [
       "array([ 0. ,  0. ,  0. ,  0. ,  0. ,  0. ,  0. ,  0. ,  0. ,  0. ,  0. ,\n",
       "        0. ,  0. ,  0. ,  8. ,  0. ,  0. ,  0. ,  0. ,  0. ,  0. ,  0. ,\n",
       "        0. ,  3.5,  0. ,  0. ,  0. ,  0. ,  0. ,  0. ,  0. ,  0. ,  0. ,\n",
       "        0. ,  0. ,  0. ,  0. ,  0. ,  0. ,  0. ,  0. ,  0. ,  0. ,  0. ,\n",
       "        0. ,  0. ,  0. ,  0. ,  0. ,  0. ,  0. ,  0. ,  0. ,  0. ,  0. ,\n",
       "        0. ,  0. ,  0. ,  0. ,  0. ,  0. ,  0. ,  0. ,  0. ,  0. ,  0. ,\n",
       "        0. ,  0. ,  0. ,  0. ,  0. ,  0. ,  0. ,  0. ,  0. ,  0. ,  0. ,\n",
       "        0. ,  0. , 10. ,  0. ,  0. ,  0. ,  0. ,  0. ,  0. ,  0. ,  0. ,\n",
       "        0. ,  0. ,  0. ,  0. ,  0. ,  0. ,  0. ,  0. ,  2.5,  0. ,  0. ,\n",
       "        0. ,  0. ,  0. ,  0. ,  0. ,  5. ,  0. ,  0. ,  0. ,  0. ,  0. ,\n",
       "        0. ,  0. ,  0. ,  0. ,  0. ,  0. ,  0. ,  0. ,  0. ,  0. ,  0. ,\n",
       "        0. ,  0. ,  0. ,  0. ,  0. ,  0. ,  0. ,  0. ,  0. ,  0. ,  0. ,\n",
       "        0. ,  0. ,  0. ,  0. ,  0. ,  6. ,  0. ,  0. ,  0. ,  0. ,  0. ,\n",
       "        0. ,  0. ,  0. ,  0. ,  0. ,  0. ,  0. ,  0. ,  0. ,  0. ,  0. ,\n",
       "        0. ,  0. ,  0. ,  0. ,  0. ,  0. ,  0. ,  0. ,  0. ,  0. ,  0. ,\n",
       "        0. ,  0. ,  0. ,  0. ,  0. ,  0. ,  0. ,  0. ,  0. ,  0. ,  0. ,\n",
       "        0. ,  0. ,  0. ,  0. ,  0. ,  0. ,  0. ,  0. ,  0. ,  0. ,  0. ,\n",
       "        0. ,  0. ,  0. ,  0. ,  0. ,  0. ,  0. ,  0. ,  0. ,  0. ,  0. ,\n",
       "        0. ,  0. ,  0. ,  0. ,  0. ,  0. ,  0. ,  0. ,  0. ,  0. ,  0. ,\n",
       "        0. ,  0. ,  0. ,  0. ,  0. ,  0. ,  7. ,  0. ,  0. ,  0. ,  0. ,\n",
       "        0. ,  0. ,  0. ,  0. ,  0. ,  0. ,  0. ,  0. ,  0. ,  0. ,  0. ,\n",
       "        0. ,  0. ,  0. ,  0. ,  0. ,  0. ,  0. ,  0. ,  0. ,  0. ,  0. ,\n",
       "        0. ,  0. ,  0. ,  0. ,  0. ,  0. ,  0. ,  0. ,  0. ,  0. ,  0. ,\n",
       "        0. ,  0. ,  0. ,  0. ,  0. ,  0. ,  0. ,  0. ,  0. ,  0. ,  0. ,\n",
       "        0. ,  0. ,  8. ,  0. ,  0. ,  0. ,  0. ,  0. ,  0. ,  0. ,  0. ,\n",
       "        0. ,  0. ,  9. ,  0. ,  0. ,  0. ,  0. ,  0. ,  0. ,  0. ,  0. ,\n",
       "        0. ,  0. ,  0. ,  0. ,  0. ,  0. ,  0. ,  0. ,  0. , 10. ,  0. ,\n",
       "        0. ,  0. ,  0. ,  0. ,  0. ,  0. ,  0. ,  0. ,  0. ,  0. ,  0. ,\n",
       "        0. ,  0. ,  0. ,  0. ,  0. ,  0. ,  0. ,  0. ,  0. ,  0. ,  0. ,\n",
       "        0. ,  0. ,  0. ,  0. ,  0. ,  0. ,  0. ,  0. ,  0. ,  0. ,  0. ,\n",
       "        0. ,  0. ,  0. ,  0. ,  0. , 10. ,  0. ,  0. ,  0. ,  0. ,  0. ,\n",
       "        0. ,  0. ,  0. ,  0. ,  0. ,  0. ,  0. ,  0. ,  0. ,  0. ,  9. ,\n",
       "        0. ,  0. ,  0. ,  0. ,  0. ,  0. ,  0. ,  0. ,  0. ,  0. ,  0. ,\n",
       "        0. ,  0. ,  0. ,  0. ,  0. ,  0. ,  0. ,  0. ,  0. ,  0. ,  0. ,\n",
       "        0. ,  0. ,  0. ,  0. ,  0. ,  0. ,  0. ,  0. ,  0. ,  0. ,  0. ,\n",
       "        0. ,  0. ,  0. ,  0. ,  0. ,  0. ,  0. ,  0. ,  0. ,  0. ,  0. ,\n",
       "        0. ,  0. ,  0. ,  0. ,  0. ,  0. ,  0. ,  7. ,  0. ,  0. ,  0. ,\n",
       "        9. ,  0. ,  0. ,  0. ,  0. ,  0. ,  0. ,  0. ,  0. ,  0. ,  0. ,\n",
       "        0. ,  0. ,  0. ,  0. ,  0. ,  0. ,  0. ,  0. ,  0. ,  0. ,  0. ,\n",
       "        0. ,  0. ,  0. ,  0. ,  0. ,  0. ,  0. ,  0. ,  0. ,  7. ,  0. ,\n",
       "        0. ,  0. ,  3. ,  0. ,  0. ,  0. ,  0. ,  0. ,  0. , 10. ,  0. ,\n",
       "        0. ,  0. ,  0. ,  0. ,  8. ,  0. ,  0. ,  0. ,  0. ,  0. ,  0. ,\n",
       "        0. ,  0. ,  0. ,  0. ,  0. ,  0. ,  0. ,  0. ,  0. ,  0. ,  0. ,\n",
       "        0. ,  0. ,  0. ,  0. ,  0. ,  0. ,  0. ,  0. ,  0. ,  0. ,  0. ,\n",
       "        0. ,  0. ,  0. ,  0. ,  0. ,  0. , 10. ,  0. ,  0. ,  0. ,  0. ,\n",
       "        0. ,  0. ,  0. ,  0. ,  0. ,  0. ,  0. ,  0. ,  0. ,  0. ,  0. ,\n",
       "        0. ,  0. ,  0. ,  0. ,  0. ,  0. ,  0. ,  0. ,  0. ,  0. ,  0. ,\n",
       "        0. ,  0. ,  0. ,  0. ,  0. ,  0. ,  0. ,  0. ,  0. ,  0. ,  0. ,\n",
       "        0. ,  0. ,  0. ,  0. ,  8. ,  0. ,  0. ,  0. ,  0. ,  0. ,  0. ,\n",
       "        0. ,  0. ,  0. ,  0. ,  0. ,  0. ,  0. ,  0. ,  0. ,  0. ,  0. ,\n",
       "        0. ,  0. ,  0. ,  0. ,  0. ,  0. ,  0. ,  0. ,  0. ,  0. ,  0. ,\n",
       "        0. ,  0. ,  0. ,  0. ,  0. ,  0. ,  0. ,  0. ,  0. ,  0. ,  0. ,\n",
       "        0. ,  0. ,  0. ,  0. ,  0. ,  0. ,  0. ,  0. ,  0. ,  0. ,  0. ,\n",
       "        0. ,  0. ,  0. ,  0. ,  0. ,  0. ,  0. ,  0. ,  0. ,  0. ,  0. ,\n",
       "        0. ,  0. ,  0. ,  0. ,  0. ,  0. ,  0. ,  0. ,  0. ,  0. ,  0. ,\n",
       "        0. ,  0. ,  0. ,  0. ,  0. ,  0. ,  0. ,  0. ,  0. ,  0. ,  0. ,\n",
       "        0. ,  0. ,  0. ,  0. ,  0. ,  0. ,  0. ,  0. ,  0. ,  0. ,  0. ,\n",
       "        0. ,  0. ,  0. ,  0. ,  0. ,  0. ,  0. ,  0. ,  0. ,  0. ,  0. ,\n",
       "       10. ,  0. ,  0. ,  0. ,  0. ,  0. ,  0. ,  0. ,  0. ,  0. ,  0. ,\n",
       "        0. ,  0. ,  8. ,  0. ,  0. ,  0. ,  0. ,  0. ,  0. ,  0. ,  0. ,\n",
       "        0. ,  0. ,  0. ,  0. ,  0. ,  0. ,  0. ,  0. ,  0. ,  0. ,  0. ,\n",
       "        0. ,  0. ,  0. ,  0. ,  0. ,  0. ,  0. ,  0. ,  0. ,  0. ,  0. ,\n",
       "       10. ,  0. ,  0. ,  0. ,  0. ,  0. ,  0. ,  0. ,  0. ,  0. ,  0. ,\n",
       "        0. ,  0. ,  0. ,  0. ,  0. ,  0. ,  0. ,  0. ,  0. ,  0. ,  0. ,\n",
       "        0. ,  0. ,  0. ,  0. ,  0. ,  0. ,  0. ,  0. ,  0. ,  0. ,  0. ,\n",
       "        0. ,  0. ,  0. ,  0. ,  0. ,  0. ,  0. ,  0. ,  0. ,  0. ,  0. ,\n",
       "        0. ,  0. ,  0. ,  0. ,  0. ,  0. ,  0. ,  0. ,  0. ,  0. ,  0. ,\n",
       "        0. ,  0. ,  0. ,  0. ,  0. ,  0. ,  0. ,  0. ,  0. ,  0. ,  0. ,\n",
       "        0. ,  0. ,  0. ,  0. ,  0. ,  0. ,  0. ,  0. ,  0. ,  0. ,  0. ,\n",
       "        0. ,  0. ,  0. ,  0. ,  0. ,  9. ,  0. ,  0. ,  0. ,  0. ,  0. ,\n",
       "        0. ,  0. ,  0. ,  0. ,  0. ,  0. ,  0. ,  0. ,  0. ,  0. ,  0. ,\n",
       "        0. ,  0. ,  0. ,  0. ,  0. ,  0. ,  0. ,  0. ,  0. ,  0. ,  0. ,\n",
       "        0. ,  0. ,  0. ,  0. ,  0. ,  0. ,  0. ,  0. ,  0. ,  0. ,  0. ,\n",
       "        0. ,  0. ,  0. ,  0. ,  0. ,  0. ,  8. ,  0. ,  0. ,  0. ,  0. ,\n",
       "        0. ])"
      ]
     },
     "execution_count": 95,
     "metadata": {},
     "output_type": "execute_result"
    }
   ],
   "source": [
    "pt.iloc[4, :].values"
   ]
  },
  {
   "cell_type": "code",
   "execution_count": 96,
   "id": "84d457a5",
   "metadata": {
    "execution": {
     "iopub.execute_input": "2023-11-03T04:14:12.050101Z",
     "iopub.status.busy": "2023-11-03T04:14:12.049394Z",
     "iopub.status.idle": "2023-11-03T04:14:12.065319Z",
     "shell.execute_reply": "2023-11-03T04:14:12.064217Z"
    },
    "papermill": {
     "duration": 0.0757,
     "end_time": "2023-11-03T04:14:12.067663",
     "exception": false,
     "start_time": "2023-11-03T04:14:11.991963",
     "status": "completed"
    },
    "tags": []
   },
   "outputs": [
    {
     "data": {
      "text/plain": [
       "array([[ 0. ,  0. ,  0. ,  0. ,  0. ,  0. ,  0. ,  0. ,  0. ,  0. ,  0. ,\n",
       "         0. ,  0. ,  0. ,  8. ,  0. ,  0. ,  0. ,  0. ,  0. ,  0. ,  0. ,\n",
       "         0. ,  3.5,  0. ,  0. ,  0. ,  0. ,  0. ,  0. ,  0. ,  0. ,  0. ,\n",
       "         0. ,  0. ,  0. ,  0. ,  0. ,  0. ,  0. ,  0. ,  0. ,  0. ,  0. ,\n",
       "         0. ,  0. ,  0. ,  0. ,  0. ,  0. ,  0. ,  0. ,  0. ,  0. ,  0. ,\n",
       "         0. ,  0. ,  0. ,  0. ,  0. ,  0. ,  0. ,  0. ,  0. ,  0. ,  0. ,\n",
       "         0. ,  0. ,  0. ,  0. ,  0. ,  0. ,  0. ,  0. ,  0. ,  0. ,  0. ,\n",
       "         0. ,  0. , 10. ,  0. ,  0. ,  0. ,  0. ,  0. ,  0. ,  0. ,  0. ,\n",
       "         0. ,  0. ,  0. ,  0. ,  0. ,  0. ,  0. ,  0. ,  2.5,  0. ,  0. ,\n",
       "         0. ,  0. ,  0. ,  0. ,  0. ,  5. ,  0. ,  0. ,  0. ,  0. ,  0. ,\n",
       "         0. ,  0. ,  0. ,  0. ,  0. ,  0. ,  0. ,  0. ,  0. ,  0. ,  0. ,\n",
       "         0. ,  0. ,  0. ,  0. ,  0. ,  0. ,  0. ,  0. ,  0. ,  0. ,  0. ,\n",
       "         0. ,  0. ,  0. ,  0. ,  0. ,  6. ,  0. ,  0. ,  0. ,  0. ,  0. ,\n",
       "         0. ,  0. ,  0. ,  0. ,  0. ,  0. ,  0. ,  0. ,  0. ,  0. ,  0. ,\n",
       "         0. ,  0. ,  0. ,  0. ,  0. ,  0. ,  0. ,  0. ,  0. ,  0. ,  0. ,\n",
       "         0. ,  0. ,  0. ,  0. ,  0. ,  0. ,  0. ,  0. ,  0. ,  0. ,  0. ,\n",
       "         0. ,  0. ,  0. ,  0. ,  0. ,  0. ,  0. ,  0. ,  0. ,  0. ,  0. ,\n",
       "         0. ,  0. ,  0. ,  0. ,  0. ,  0. ,  0. ,  0. ,  0. ,  0. ,  0. ,\n",
       "         0. ,  0. ,  0. ,  0. ,  0. ,  0. ,  0. ,  0. ,  0. ,  0. ,  0. ,\n",
       "         0. ,  0. ,  0. ,  0. ,  0. ,  0. ,  7. ,  0. ,  0. ,  0. ,  0. ,\n",
       "         0. ,  0. ,  0. ,  0. ,  0. ,  0. ,  0. ,  0. ,  0. ,  0. ,  0. ,\n",
       "         0. ,  0. ,  0. ,  0. ,  0. ,  0. ,  0. ,  0. ,  0. ,  0. ,  0. ,\n",
       "         0. ,  0. ,  0. ,  0. ,  0. ,  0. ,  0. ,  0. ,  0. ,  0. ,  0. ,\n",
       "         0. ,  0. ,  0. ,  0. ,  0. ,  0. ,  0. ,  0. ,  0. ,  0. ,  0. ,\n",
       "         0. ,  0. ,  8. ,  0. ,  0. ,  0. ,  0. ,  0. ,  0. ,  0. ,  0. ,\n",
       "         0. ,  0. ,  9. ,  0. ,  0. ,  0. ,  0. ,  0. ,  0. ,  0. ,  0. ,\n",
       "         0. ,  0. ,  0. ,  0. ,  0. ,  0. ,  0. ,  0. ,  0. , 10. ,  0. ,\n",
       "         0. ,  0. ,  0. ,  0. ,  0. ,  0. ,  0. ,  0. ,  0. ,  0. ,  0. ,\n",
       "         0. ,  0. ,  0. ,  0. ,  0. ,  0. ,  0. ,  0. ,  0. ,  0. ,  0. ,\n",
       "         0. ,  0. ,  0. ,  0. ,  0. ,  0. ,  0. ,  0. ,  0. ,  0. ,  0. ,\n",
       "         0. ,  0. ,  0. ,  0. ,  0. , 10. ,  0. ,  0. ,  0. ,  0. ,  0. ,\n",
       "         0. ,  0. ,  0. ,  0. ,  0. ,  0. ,  0. ,  0. ,  0. ,  0. ,  9. ,\n",
       "         0. ,  0. ,  0. ,  0. ,  0. ,  0. ,  0. ,  0. ,  0. ,  0. ,  0. ,\n",
       "         0. ,  0. ,  0. ,  0. ,  0. ,  0. ,  0. ,  0. ,  0. ,  0. ,  0. ,\n",
       "         0. ,  0. ,  0. ,  0. ,  0. ,  0. ,  0. ,  0. ,  0. ,  0. ,  0. ,\n",
       "         0. ,  0. ,  0. ,  0. ,  0. ,  0. ,  0. ,  0. ,  0. ,  0. ,  0. ,\n",
       "         0. ,  0. ,  0. ,  0. ,  0. ,  0. ,  0. ,  7. ,  0. ,  0. ,  0. ,\n",
       "         9. ,  0. ,  0. ,  0. ,  0. ,  0. ,  0. ,  0. ,  0. ,  0. ,  0. ,\n",
       "         0. ,  0. ,  0. ,  0. ,  0. ,  0. ,  0. ,  0. ,  0. ,  0. ,  0. ,\n",
       "         0. ,  0. ,  0. ,  0. ,  0. ,  0. ,  0. ,  0. ,  0. ,  7. ,  0. ,\n",
       "         0. ,  0. ,  3. ,  0. ,  0. ,  0. ,  0. ,  0. ,  0. , 10. ,  0. ,\n",
       "         0. ,  0. ,  0. ,  0. ,  8. ,  0. ,  0. ,  0. ,  0. ,  0. ,  0. ,\n",
       "         0. ,  0. ,  0. ,  0. ,  0. ,  0. ,  0. ,  0. ,  0. ,  0. ,  0. ,\n",
       "         0. ,  0. ,  0. ,  0. ,  0. ,  0. ,  0. ,  0. ,  0. ,  0. ,  0. ,\n",
       "         0. ,  0. ,  0. ,  0. ,  0. ,  0. , 10. ,  0. ,  0. ,  0. ,  0. ,\n",
       "         0. ,  0. ,  0. ,  0. ,  0. ,  0. ,  0. ,  0. ,  0. ,  0. ,  0. ,\n",
       "         0. ,  0. ,  0. ,  0. ,  0. ,  0. ,  0. ,  0. ,  0. ,  0. ,  0. ,\n",
       "         0. ,  0. ,  0. ,  0. ,  0. ,  0. ,  0. ,  0. ,  0. ,  0. ,  0. ,\n",
       "         0. ,  0. ,  0. ,  0. ,  8. ,  0. ,  0. ,  0. ,  0. ,  0. ,  0. ,\n",
       "         0. ,  0. ,  0. ,  0. ,  0. ,  0. ,  0. ,  0. ,  0. ,  0. ,  0. ,\n",
       "         0. ,  0. ,  0. ,  0. ,  0. ,  0. ,  0. ,  0. ,  0. ,  0. ,  0. ,\n",
       "         0. ,  0. ,  0. ,  0. ,  0. ,  0. ,  0. ,  0. ,  0. ,  0. ,  0. ,\n",
       "         0. ,  0. ,  0. ,  0. ,  0. ,  0. ,  0. ,  0. ,  0. ,  0. ,  0. ,\n",
       "         0. ,  0. ,  0. ,  0. ,  0. ,  0. ,  0. ,  0. ,  0. ,  0. ,  0. ,\n",
       "         0. ,  0. ,  0. ,  0. ,  0. ,  0. ,  0. ,  0. ,  0. ,  0. ,  0. ,\n",
       "         0. ,  0. ,  0. ,  0. ,  0. ,  0. ,  0. ,  0. ,  0. ,  0. ,  0. ,\n",
       "         0. ,  0. ,  0. ,  0. ,  0. ,  0. ,  0. ,  0. ,  0. ,  0. ,  0. ,\n",
       "         0. ,  0. ,  0. ,  0. ,  0. ,  0. ,  0. ,  0. ,  0. ,  0. ,  0. ,\n",
       "        10. ,  0. ,  0. ,  0. ,  0. ,  0. ,  0. ,  0. ,  0. ,  0. ,  0. ,\n",
       "         0. ,  0. ,  8. ,  0. ,  0. ,  0. ,  0. ,  0. ,  0. ,  0. ,  0. ,\n",
       "         0. ,  0. ,  0. ,  0. ,  0. ,  0. ,  0. ,  0. ,  0. ,  0. ,  0. ,\n",
       "         0. ,  0. ,  0. ,  0. ,  0. ,  0. ,  0. ,  0. ,  0. ,  0. ,  0. ,\n",
       "        10. ,  0. ,  0. ,  0. ,  0. ,  0. ,  0. ,  0. ,  0. ,  0. ,  0. ,\n",
       "         0. ,  0. ,  0. ,  0. ,  0. ,  0. ,  0. ,  0. ,  0. ,  0. ,  0. ,\n",
       "         0. ,  0. ,  0. ,  0. ,  0. ,  0. ,  0. ,  0. ,  0. ,  0. ,  0. ,\n",
       "         0. ,  0. ,  0. ,  0. ,  0. ,  0. ,  0. ,  0. ,  0. ,  0. ,  0. ,\n",
       "         0. ,  0. ,  0. ,  0. ,  0. ,  0. ,  0. ,  0. ,  0. ,  0. ,  0. ,\n",
       "         0. ,  0. ,  0. ,  0. ,  0. ,  0. ,  0. ,  0. ,  0. ,  0. ,  0. ,\n",
       "         0. ,  0. ,  0. ,  0. ,  0. ,  0. ,  0. ,  0. ,  0. ,  0. ,  0. ,\n",
       "         0. ,  0. ,  0. ,  0. ,  0. ,  9. ,  0. ,  0. ,  0. ,  0. ,  0. ,\n",
       "         0. ,  0. ,  0. ,  0. ,  0. ,  0. ,  0. ,  0. ,  0. ,  0. ,  0. ,\n",
       "         0. ,  0. ,  0. ,  0. ,  0. ,  0. ,  0. ,  0. ,  0. ,  0. ,  0. ,\n",
       "         0. ,  0. ,  0. ,  0. ,  0. ,  0. ,  0. ,  0. ,  0. ,  0. ,  0. ,\n",
       "         0. ,  0. ,  0. ,  0. ,  0. ,  0. ,  8. ,  0. ,  0. ,  0. ,  0. ,\n",
       "         0. ]])"
      ]
     },
     "execution_count": 96,
     "metadata": {},
     "output_type": "execute_result"
    }
   ],
   "source": [
    "# Make one row and 815 number of columns\n",
    "pt.iloc[4, :].values.reshape(1, -1)"
   ]
  },
  {
   "cell_type": "code",
   "execution_count": 97,
   "id": "c8ce6ddb",
   "metadata": {
    "execution": {
     "iopub.execute_input": "2023-11-03T04:14:12.183599Z",
     "iopub.status.busy": "2023-11-03T04:14:12.183139Z",
     "iopub.status.idle": "2023-11-03T04:14:12.199987Z",
     "shell.execute_reply": "2023-11-03T04:14:12.198741Z"
    },
    "papermill": {
     "duration": 0.079001,
     "end_time": "2023-11-03T04:14:12.202673",
     "exception": false,
     "start_time": "2023-11-03T04:14:12.123672",
     "status": "completed"
    },
    "tags": []
   },
   "outputs": [],
   "source": [
    "# It will return distances and indices those books are more similier\n",
    "\n",
    "distances, indices = model_NN.kneighbors(X=pt.iloc[4, :].values.reshape(1, -1), n_neighbors=7, return_distance=True)"
   ]
  },
  {
   "cell_type": "code",
   "execution_count": 98,
   "id": "b2c843d8",
   "metadata": {
    "execution": {
     "iopub.execute_input": "2023-11-03T04:14:12.321009Z",
     "iopub.status.busy": "2023-11-03T04:14:12.320593Z",
     "iopub.status.idle": "2023-11-03T04:14:12.327837Z",
     "shell.execute_reply": "2023-11-03T04:14:12.326721Z"
    },
    "papermill": {
     "duration": 0.069494,
     "end_time": "2023-11-03T04:14:12.330158",
     "exception": false,
     "start_time": "2023-11-03T04:14:12.260664",
     "status": "completed"
    },
    "tags": []
   },
   "outputs": [
    {
     "data": {
      "text/plain": [
       "array([[0.        , 0.525367  , 0.56481711, 0.58254334, 0.58807301,\n",
       "        0.60525546, 0.61220086]])"
      ]
     },
     "execution_count": 98,
     "metadata": {},
     "output_type": "execute_result"
    }
   ],
   "source": [
    "distances"
   ]
  },
  {
   "cell_type": "code",
   "execution_count": 99,
   "id": "6353b726",
   "metadata": {
    "execution": {
     "iopub.execute_input": "2023-11-03T04:14:12.444235Z",
     "iopub.status.busy": "2023-11-03T04:14:12.443582Z",
     "iopub.status.idle": "2023-11-03T04:14:12.450744Z",
     "shell.execute_reply": "2023-11-03T04:14:12.449584Z"
    },
    "papermill": {
     "duration": 0.066995,
     "end_time": "2023-11-03T04:14:12.452987",
     "exception": false,
     "start_time": "2023-11-03T04:14:12.385992",
     "status": "completed"
    },
    "tags": []
   },
   "outputs": [
    {
     "data": {
      "text/plain": [
       "array([0.        , 0.525367  , 0.56481711, 0.58254334, 0.58807301,\n",
       "       0.60525546, 0.61220086])"
      ]
     },
     "execution_count": 99,
     "metadata": {},
     "output_type": "execute_result"
    }
   ],
   "source": [
    "distances.flatten()"
   ]
  },
  {
   "cell_type": "code",
   "execution_count": 100,
   "id": "9200f45d",
   "metadata": {
    "execution": {
     "iopub.execute_input": "2023-11-03T04:14:12.567166Z",
     "iopub.status.busy": "2023-11-03T04:14:12.566487Z",
     "iopub.status.idle": "2023-11-03T04:14:12.573434Z",
     "shell.execute_reply": "2023-11-03T04:14:12.572401Z"
    },
    "papermill": {
     "duration": 0.06678,
     "end_time": "2023-11-03T04:14:12.575739",
     "exception": false,
     "start_time": "2023-11-03T04:14:12.508959",
     "status": "completed"
    },
    "tags": []
   },
   "outputs": [
    {
     "data": {
      "text/plain": [
       "array([[  4, 281, 259,  91, 228, 404, 166]])"
      ]
     },
     "execution_count": 100,
     "metadata": {},
     "output_type": "execute_result"
    }
   ],
   "source": [
    "indices"
   ]
  },
  {
   "cell_type": "code",
   "execution_count": 101,
   "id": "417e6088",
   "metadata": {
    "execution": {
     "iopub.execute_input": "2023-11-03T04:14:12.690979Z",
     "iopub.status.busy": "2023-11-03T04:14:12.690592Z",
     "iopub.status.idle": "2023-11-03T04:14:12.696413Z",
     "shell.execute_reply": "2023-11-03T04:14:12.695648Z"
    },
    "papermill": {
     "duration": 0.066308,
     "end_time": "2023-11-03T04:14:12.698439",
     "exception": false,
     "start_time": "2023-11-03T04:14:12.632131",
     "status": "completed"
    },
    "tags": []
   },
   "outputs": [
    {
     "data": {
      "text/plain": [
       "array([  4, 281, 259,  91, 228, 404, 166])"
      ]
     },
     "execution_count": 101,
     "metadata": {},
     "output_type": "execute_result"
    }
   ],
   "source": [
    "indices.flatten()"
   ]
  },
  {
   "cell_type": "code",
   "execution_count": 102,
   "id": "2dd0d383",
   "metadata": {
    "execution": {
     "iopub.execute_input": "2023-11-03T04:14:12.814460Z",
     "iopub.status.busy": "2023-11-03T04:14:12.814056Z",
     "iopub.status.idle": "2023-11-03T04:14:12.822067Z",
     "shell.execute_reply": "2023-11-03T04:14:12.820890Z"
    },
    "papermill": {
     "duration": 0.068978,
     "end_time": "2023-11-03T04:14:12.824565",
     "exception": false,
     "start_time": "2023-11-03T04:14:12.755587",
     "status": "completed"
    },
    "tags": []
   },
   "outputs": [
    {
     "name": "stdout",
     "output_type": "stream",
     "text": [
      "Recommendations for \\o\\\" is for outlaw\":\n",
      "\n",
      "1: j is for judgment, with distance of 0.5253670025061992:\n",
      "2: i is for innocent, with distance of 0.564817114135761:\n",
      "3: c is for corpse (kinsey millhone mysteries (paperback)), with distance of 0.5825433390031585:\n",
      "4: h is for homicide (kinsey millhone mysteries (paperback)), with distance of 0.5880730081365717:\n",
      "5: q is for quarry, with distance of 0.6052554552329044:\n",
      "6: e is for evidence: a kinsey millhone mystery (kinsey millhone mysteries (paperback)), with distance of 0.6122008554503326:\n"
     ]
    }
   ],
   "source": [
    "for i in range(0, len(distances.flatten())):\n",
    "    if i == 0:\n",
    "        print('Recommendations for {0}:\\n'.format(pt.index[4]))\n",
    "    else:\n",
    "        print('{0}: {1}, with distance of {2}:'.format(i, pt.index[indices.flatten()[i]], distances.flatten()[i]))"
   ]
  },
  {
   "cell_type": "code",
   "execution_count": 103,
   "id": "6f706f98",
   "metadata": {
    "execution": {
     "iopub.execute_input": "2023-11-03T04:14:12.940681Z",
     "iopub.status.busy": "2023-11-03T04:14:12.939927Z",
     "iopub.status.idle": "2023-11-03T04:14:12.946951Z",
     "shell.execute_reply": "2023-11-03T04:14:12.945962Z"
    },
    "papermill": {
     "duration": 0.067577,
     "end_time": "2023-11-03T04:14:12.949168",
     "exception": false,
     "start_time": "2023-11-03T04:14:12.881591",
     "status": "completed"
    },
    "tags": []
   },
   "outputs": [
    {
     "data": {
      "text/plain": [
       "'\\\\o\\\\\" is for outlaw\"'"
      ]
     },
     "execution_count": 103,
     "metadata": {},
     "output_type": "execute_result"
    }
   ],
   "source": [
    "pt.index[4]"
   ]
  },
  {
   "cell_type": "code",
   "execution_count": 104,
   "id": "3a6a1cde",
   "metadata": {
    "execution": {
     "iopub.execute_input": "2023-11-03T04:14:13.065378Z",
     "iopub.status.busy": "2023-11-03T04:14:13.064629Z",
     "iopub.status.idle": "2023-11-03T04:14:13.075941Z",
     "shell.execute_reply": "2023-11-03T04:14:13.074725Z"
    },
    "papermill": {
     "duration": 0.072258,
     "end_time": "2023-11-03T04:14:13.078358",
     "exception": false,
     "start_time": "2023-11-03T04:14:13.006100",
     "status": "completed"
    },
    "tags": []
   },
   "outputs": [
    {
     "data": {
      "text/plain": [
       "User-ID\n",
       "254       0.0\n",
       "2276      0.0\n",
       "2766      7.0\n",
       "2977      0.0\n",
       "3363      0.0\n",
       "         ... \n",
       "274308    0.0\n",
       "275970    0.0\n",
       "277427    0.0\n",
       "277639    0.0\n",
       "278418    0.0\n",
       "Name: a bend in the road, Length: 815, dtype: float64"
      ]
     },
     "execution_count": 104,
     "metadata": {},
     "output_type": "execute_result"
    }
   ],
   "source": [
    "pt.loc[\"A Bend in the Road\".lower(), :]"
   ]
  },
  {
   "cell_type": "code",
   "execution_count": 105,
   "id": "88ebf657",
   "metadata": {
    "execution": {
     "iopub.execute_input": "2023-11-03T04:14:13.195778Z",
     "iopub.status.busy": "2023-11-03T04:14:13.195329Z",
     "iopub.status.idle": "2023-11-03T04:14:13.202872Z",
     "shell.execute_reply": "2023-11-03T04:14:13.202047Z"
    },
    "papermill": {
     "duration": 0.069914,
     "end_time": "2023-11-03T04:14:13.205084",
     "exception": false,
     "start_time": "2023-11-03T04:14:13.135170",
     "status": "completed"
    },
    "tags": []
   },
   "outputs": [],
   "source": [
    "def books_recommend3(bookName: str):\n",
    "    bookName = bookName.lower()\n",
    "    distances, indices = model_NN.kneighbors(X=pt.loc[bookName, :].values.reshape(1, -1), n_neighbors=7, return_distance=True)\n",
    "    for i in range(len(distances.flatten())):\n",
    "        if i == 0:\n",
    "            print('Recommendations for {0}:\\n'.format(bookName.capitalize()))\n",
    "        else:\n",
    "            print('{0}: {1}, with distance of {2}:'.format(i, pt.index[indices.flatten()[i]], distances.flatten()[i]))"
   ]
  },
  {
   "cell_type": "code",
   "execution_count": 106,
   "id": "84c3f4ec",
   "metadata": {
    "execution": {
     "iopub.execute_input": "2023-11-03T04:14:13.321790Z",
     "iopub.status.busy": "2023-11-03T04:14:13.321035Z",
     "iopub.status.idle": "2023-11-03T04:14:13.330258Z",
     "shell.execute_reply": "2023-11-03T04:14:13.329013Z"
    },
    "papermill": {
     "duration": 0.07046,
     "end_time": "2023-11-03T04:14:13.332523",
     "exception": false,
     "start_time": "2023-11-03T04:14:13.262063",
     "status": "completed"
    },
    "tags": []
   },
   "outputs": [
    {
     "name": "stdout",
     "output_type": "stream",
     "text": [
      "Recommendations for Animal farm:\n",
      "\n",
      "1: 1984, with distance of 0.7366833144103071:\n",
      "2: angus, thongs and full-frontal snogging: confessions of georgia nicolson, with distance of 0.758359530394306:\n",
      "3: midnight, with distance of 0.7637429047975692:\n",
      "4: second nature, with distance of 0.7810295902838492:\n",
      "5: pleading guilty, with distance of 0.7858381581155238:\n",
      "6: call of the wild, with distance of 0.790636444634327:\n"
     ]
    }
   ],
   "source": [
    "# books_recommend3(\"Harry Potter and the Chamber of Secrets (Book 2)\")\n",
    "books_recommend3(\"Animal Farm\")"
   ]
  },
  {
   "cell_type": "markdown",
   "id": "0bbb9cc1",
   "metadata": {
    "papermill": {
     "duration": 0.057375,
     "end_time": "2023-11-03T04:14:13.448479",
     "exception": false,
     "start_time": "2023-11-03T04:14:13.391104",
     "status": "completed"
    },
    "tags": []
   },
   "source": [
    "**Export the model and other files**"
   ]
  },
  {
   "cell_type": "code",
   "execution_count": 107,
   "id": "d22991af",
   "metadata": {
    "execution": {
     "iopub.execute_input": "2023-11-03T04:14:13.565046Z",
     "iopub.status.busy": "2023-11-03T04:14:13.564624Z",
     "iopub.status.idle": "2023-11-03T04:14:13.569629Z",
     "shell.execute_reply": "2023-11-03T04:14:13.568550Z"
    },
    "papermill": {
     "duration": 0.066382,
     "end_time": "2023-11-03T04:14:13.571972",
     "exception": false,
     "start_time": "2023-11-03T04:14:13.505590",
     "status": "completed"
    },
    "tags": []
   },
   "outputs": [],
   "source": [
    "import pickle"
   ]
  },
  {
   "cell_type": "code",
   "execution_count": 108,
   "id": "5aa46a1d",
   "metadata": {
    "execution": {
     "iopub.execute_input": "2023-11-03T04:14:13.689577Z",
     "iopub.status.busy": "2023-11-03T04:14:13.689120Z",
     "iopub.status.idle": "2023-11-03T04:14:13.695183Z",
     "shell.execute_reply": "2023-11-03T04:14:13.694044Z"
    },
    "papermill": {
     "duration": 0.067379,
     "end_time": "2023-11-03T04:14:13.697418",
     "exception": false,
     "start_time": "2023-11-03T04:14:13.630039",
     "status": "completed"
    },
    "tags": []
   },
   "outputs": [],
   "source": [
    "# Save popular_df\n",
    "pickle.dump(obj=popular_df, file=open(file=\"popular_df.pkl\", mode=\"wb\"))\n"
   ]
  },
  {
   "cell_type": "code",
   "execution_count": 109,
   "id": "2031d7d8",
   "metadata": {
    "execution": {
     "iopub.execute_input": "2023-11-03T04:14:13.815131Z",
     "iopub.status.busy": "2023-11-03T04:14:13.814678Z",
     "iopub.status.idle": "2023-11-03T04:14:13.825927Z",
     "shell.execute_reply": "2023-11-03T04:14:13.824740Z"
    },
    "papermill": {
     "duration": 0.073105,
     "end_time": "2023-11-03T04:14:13.828332",
     "exception": false,
     "start_time": "2023-11-03T04:14:13.755227",
     "status": "completed"
    },
    "tags": []
   },
   "outputs": [],
   "source": [
    "# Save pt (pivote table)\n",
    "pickle.dump(obj=pt, file=open(file=\"pt.pkl\", mode=\"wb\"))\n"
   ]
  },
  {
   "cell_type": "code",
   "execution_count": 110,
   "id": "336030ca",
   "metadata": {
    "execution": {
     "iopub.execute_input": "2023-11-03T04:14:13.944628Z",
     "iopub.status.busy": "2023-11-03T04:14:13.944162Z",
     "iopub.status.idle": "2023-11-03T04:14:14.708526Z",
     "shell.execute_reply": "2023-11-03T04:14:14.706925Z"
    },
    "papermill": {
     "duration": 0.825732,
     "end_time": "2023-11-03T04:14:14.711425",
     "exception": false,
     "start_time": "2023-11-03T04:14:13.885693",
     "status": "completed"
    },
    "tags": []
   },
   "outputs": [],
   "source": [
    "# Save books dataframe\n",
    "pickle.dump(obj=books, file=open(file=\"books.pkl\", mode=\"wb\"))\n"
   ]
  },
  {
   "cell_type": "code",
   "execution_count": 111,
   "id": "b0b59676",
   "metadata": {
    "execution": {
     "iopub.execute_input": "2023-11-03T04:14:14.828399Z",
     "iopub.status.busy": "2023-11-03T04:14:14.827978Z",
     "iopub.status.idle": "2023-11-03T04:14:14.838266Z",
     "shell.execute_reply": "2023-11-03T04:14:14.836894Z"
    },
    "papermill": {
     "duration": 0.07164,
     "end_time": "2023-11-03T04:14:14.840842",
     "exception": false,
     "start_time": "2023-11-03T04:14:14.769202",
     "status": "completed"
    },
    "tags": []
   },
   "outputs": [],
   "source": [
    "# Save similarity_scores (cosine-similarity model)\n",
    "pickle.dump(obj=similarity_scores, file=open(file=\"similarity_scores.pkl\", mode=\"wb\"))\n"
   ]
  },
  {
   "cell_type": "code",
   "execution_count": 112,
   "id": "5a0c3088",
   "metadata": {
    "execution": {
     "iopub.execute_input": "2023-11-03T04:14:14.957384Z",
     "iopub.status.busy": "2023-11-03T04:14:14.956961Z",
     "iopub.status.idle": "2023-11-03T04:14:15.356540Z",
     "shell.execute_reply": "2023-11-03T04:14:15.355309Z"
    },
    "papermill": {
     "duration": 0.461125,
     "end_time": "2023-11-03T04:14:15.359539",
     "exception": false,
     "start_time": "2023-11-03T04:14:14.898414",
     "status": "completed"
    },
    "tags": []
   },
   "outputs": [],
   "source": [
    "# Load the books dataframe back\n",
    "test_df = pickle.load(open(\"books.pkl\", 'rb'))\n"
   ]
  },
  {
   "cell_type": "code",
   "execution_count": 113,
   "id": "8e7db4e2",
   "metadata": {
    "execution": {
     "iopub.execute_input": "2023-11-03T04:14:15.478460Z",
     "iopub.status.busy": "2023-11-03T04:14:15.478074Z",
     "iopub.status.idle": "2023-11-03T04:14:15.487698Z",
     "shell.execute_reply": "2023-11-03T04:14:15.486547Z"
    },
    "papermill": {
     "duration": 0.072155,
     "end_time": "2023-11-03T04:14:15.490594",
     "exception": false,
     "start_time": "2023-11-03T04:14:15.418439",
     "status": "completed"
    },
    "tags": []
   },
   "outputs": [
    {
     "name": "stdout",
     "output_type": "stream",
     "text": [
      "         ISBN                                         Book-Title  \\\n",
      "0  0195153448                                classical mythology   \n",
      "1  0002005018                                       clara callan   \n",
      "2  0060973129                               decision in normandy   \n",
      "3  0374157065  flu: the story of the great influenza pandemic...   \n",
      "4  0393045218                             the mummies of urumchi   \n",
      "\n",
      "            Book-Author Year-Of-Publication                   Publisher  \\\n",
      "0    Mark P. O. Morford                2002     Oxford University Press   \n",
      "1  Richard Bruce Wright                2001       HarperFlamingo Canada   \n",
      "2          Carlo D'Este                1991             HarperPerennial   \n",
      "3      Gina Bari Kolata                1999        Farrar Straus Giroux   \n",
      "4       E. J. W. Barber                1999  W. W. Norton &amp; Company   \n",
      "\n",
      "                                         Image-URL-S  \\\n",
      "0  http://images.amazon.com/images/P/0195153448.0...   \n",
      "1  http://images.amazon.com/images/P/0002005018.0...   \n",
      "2  http://images.amazon.com/images/P/0060973129.0...   \n",
      "3  http://images.amazon.com/images/P/0374157065.0...   \n",
      "4  http://images.amazon.com/images/P/0393045218.0...   \n",
      "\n",
      "                                         Image-URL-M  \\\n",
      "0  http://images.amazon.com/images/P/0195153448.0...   \n",
      "1  http://images.amazon.com/images/P/0002005018.0...   \n",
      "2  http://images.amazon.com/images/P/0060973129.0...   \n",
      "3  http://images.amazon.com/images/P/0374157065.0...   \n",
      "4  http://images.amazon.com/images/P/0393045218.0...   \n",
      "\n",
      "                                         Image-URL-L  \n",
      "0  http://images.amazon.com/images/P/0195153448.0...  \n",
      "1  http://images.amazon.com/images/P/0002005018.0...  \n",
      "2  http://images.amazon.com/images/P/0060973129.0...  \n",
      "3  http://images.amazon.com/images/P/0374157065.0...  \n",
      "4  http://images.amazon.com/images/P/0393045218.0...  \n"
     ]
    }
   ],
   "source": [
    "# Display the first few rows of the loaded dataframe\n",
    "print(test_df.head())"
   ]
  },
  {
   "cell_type": "code",
   "execution_count": 114,
   "id": "8e261675",
   "metadata": {
    "execution": {
     "iopub.execute_input": "2023-11-03T04:14:15.608435Z",
     "iopub.status.busy": "2023-11-03T04:14:15.608048Z",
     "iopub.status.idle": "2023-11-03T04:14:15.855406Z",
     "shell.execute_reply": "2023-11-03T04:14:15.853748Z"
    },
    "papermill": {
     "duration": 0.309105,
     "end_time": "2023-11-03T04:14:15.857923",
     "exception": false,
     "start_time": "2023-11-03T04:14:15.548818",
     "status": "completed"
    },
    "tags": []
   },
   "outputs": [
    {
     "name": "stdout",
     "output_type": "stream",
     "text": [
      "<class 'pandas.core.frame.DataFrame'>\n",
      "RangeIndex: 271360 entries, 0 to 271359\n",
      "Data columns (total 8 columns):\n",
      " #   Column               Non-Null Count   Dtype \n",
      "---  ------               --------------   ----- \n",
      " 0   ISBN                 271360 non-null  object\n",
      " 1   Book-Title           271360 non-null  object\n",
      " 2   Book-Author          271358 non-null  object\n",
      " 3   Year-Of-Publication  271360 non-null  object\n",
      " 4   Publisher            271358 non-null  object\n",
      " 5   Image-URL-S          271360 non-null  object\n",
      " 6   Image-URL-M          271360 non-null  object\n",
      " 7   Image-URL-L          271357 non-null  object\n",
      "dtypes: object(8)\n",
      "memory usage: 16.6+ MB\n"
     ]
    }
   ],
   "source": [
    "test_df.info()"
   ]
  },
  {
   "cell_type": "code",
   "execution_count": 115,
   "id": "b7589e6c",
   "metadata": {
    "execution": {
     "iopub.execute_input": "2023-11-03T04:14:15.975848Z",
     "iopub.status.busy": "2023-11-03T04:14:15.975394Z",
     "iopub.status.idle": "2023-11-03T04:14:15.986279Z",
     "shell.execute_reply": "2023-11-03T04:14:15.985172Z"
    },
    "papermill": {
     "duration": 0.072458,
     "end_time": "2023-11-03T04:14:15.988492",
     "exception": false,
     "start_time": "2023-11-03T04:14:15.916034",
     "status": "completed"
    },
    "tags": []
   },
   "outputs": [
    {
     "data": {
      "text/html": [
       "<table><tr><th>Book Title</th><th>Book Author</th><th>Year of Publication</th><th>Publisher</th><th>Image</th></tr><tr><td>classical mythology</td><td>Mark P. O. Morford</td><td>2002</td><td>Oxford University Press</td><td><img src='http://images.amazon.com/images/P/0195153448.01.MZZZZZZZ.jpg' height='100'></td></tr><tr><td>clara callan</td><td>Richard Bruce Wright</td><td>2001</td><td>HarperFlamingo Canada</td><td><img src='http://images.amazon.com/images/P/0002005018.01.MZZZZZZZ.jpg' height='100'></td></tr><tr><td>decision in normandy</td><td>Carlo D'Este</td><td>1991</td><td>HarperPerennial</td><td><img src='http://images.amazon.com/images/P/0060973129.01.MZZZZZZZ.jpg' height='100'></td></tr><tr><td>flu: the story of the great influenza pandemic of 1918 and the search for the virus that caused it</td><td>Gina Bari Kolata</td><td>1999</td><td>Farrar Straus Giroux</td><td><img src='http://images.amazon.com/images/P/0374157065.01.MZZZZZZZ.jpg' height='100'></td></tr><tr><td>the mummies of urumchi</td><td>E. J. W. Barber</td><td>1999</td><td>W. W. Norton &amp; Company</td><td><img src='http://images.amazon.com/images/P/0393045218.01.MZZZZZZZ.jpg' height='100'></td></tr></table>"
      ],
      "text/plain": [
       "<IPython.core.display.HTML object>"
      ]
     },
     "metadata": {},
     "output_type": "display_data"
    }
   ],
   "source": [
    "\n",
    "from IPython.display import display, HTML\n",
    "\n",
    "# Assuming you have the following objects defined: test_df\n",
    "\n",
    "# Display the first few rows of the loaded dataframe with images\n",
    "html_output = \"<table><tr><th>Book Title</th><th>Book Author</th><th>Year of Publication</th><th>Publisher</th><th>Image</th></tr>\"\n",
    "\n",
    "for index, row in test_df.head().iterrows():\n",
    "    book_title = row['Book-Title']\n",
    "    book_author = row['Book-Author']\n",
    "    year_of_publication = row['Year-Of-Publication']\n",
    "    publisher = row['Publisher']\n",
    "    image_url = row['Image-URL-M']  # You can choose any image URL\n",
    "    \n",
    "    # Add a row to the HTML table\n",
    "    html_output += (\n",
    "        f\"<tr><td>{book_title}</td><td>{book_author}</td><td>{year_of_publication}</td><td>{publisher}</td>\"\n",
    "        f\"<td><img src='{image_url}' height='100'></td></tr>\"\n",
    "    )\n",
    "\n",
    "html_output += \"</table>\"\n",
    "\n",
    "# Display the HTML table\n",
    "display(HTML(html_output))"
   ]
  }
 ],
 "metadata": {
  "kernelspec": {
   "display_name": "Python 3",
   "language": "python",
   "name": "python3"
  },
  "language_info": {
   "codemirror_mode": {
    "name": "ipython",
    "version": 3
   },
   "file_extension": ".py",
   "mimetype": "text/x-python",
   "name": "python",
   "nbconvert_exporter": "python",
   "pygments_lexer": "ipython3",
   "version": "3.10.12"
  },
  "papermill": {
   "default_parameters": {},
   "duration": 38.3084,
   "end_time": "2023-11-03T04:14:16.976677",
   "environment_variables": {},
   "exception": null,
   "input_path": "__notebook__.ipynb",
   "output_path": "__notebook__.ipynb",
   "parameters": {},
   "start_time": "2023-11-03T04:13:38.668277",
   "version": "2.4.0"
  }
 },
 "nbformat": 4,
 "nbformat_minor": 5
}
